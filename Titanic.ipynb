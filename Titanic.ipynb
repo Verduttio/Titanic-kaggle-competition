{
 "cells": [
  {
   "cell_type": "markdown",
   "metadata": {
    "id": "DrD3UFHBXdO-"
   },
   "source": [
    "Ten notebook jest **inspirowany** przykładem https://www.ahmedbesbes.com/blog/kaggle-titanic-competition"
   ]
  },
  {
   "cell_type": "code",
   "execution_count": 1,
   "metadata": {
    "executionInfo": {
     "elapsed": 825,
     "status": "ok",
     "timestamp": 1652543129993,
     "user": {
      "displayName": "Bartłomiej Szwaja",
      "userId": "05031139790190467787"
     },
     "user_tz": -120
    },
    "id": "MGw6z0VcXdPA"
   },
   "outputs": [],
   "source": [
    "import numpy as np\n",
    "import pandas as pd\n",
    "import matplotlib.pyplot as plt\n",
    "from sklearn import metrics"
   ]
  },
  {
   "cell_type": "markdown",
   "metadata": {
    "id": "WAg7lkQcXdPC"
   },
   "source": [
    "# titanic data"
   ]
  },
  {
   "cell_type": "markdown",
   "metadata": {
    "id": "DUG3x_ZCXdPD"
   },
   "source": [
    "Najpierw zaloguj się do https://www.kaggle.com/ i przejdź do wyzwania https://www.kaggle.com/c/titanic, aby pobrać \n",
    " * train.csv i test.csv. \n",
    "\n",
    "Zapisz je w katalogu datasets/titanic."
   ]
  },
  {
   "cell_type": "code",
   "execution_count": 2,
   "metadata": {
    "executionInfo": {
     "elapsed": 22,
     "status": "ok",
     "timestamp": 1652543130005,
     "user": {
      "displayName": "Bartłomiej Szwaja",
      "userId": "05031139790190467787"
     },
     "user_tz": -120
    },
    "id": "gxmJds4UXdPE"
   },
   "outputs": [],
   "source": [
    "import os\n",
    "TITANIC_PATH = \"\""
   ]
  },
  {
   "cell_type": "code",
   "execution_count": 3,
   "metadata": {
    "executionInfo": {
     "elapsed": 22,
     "status": "ok",
     "timestamp": 1652543130005,
     "user": {
      "displayName": "Bartłomiej Szwaja",
      "userId": "05031139790190467787"
     },
     "user_tz": -120
    },
    "id": "8ljBpluMXdPE"
   },
   "outputs": [],
   "source": [
    "import pandas as pd\n",
    "\n",
    "def load_titanic_data(filename, titanic_path=TITANIC_PATH):\n",
    "    csv_path = os.path.join(titanic_path, filename)\n",
    "    return pd.read_csv(csv_path)"
   ]
  },
  {
   "cell_type": "code",
   "execution_count": 4,
   "metadata": {
    "executionInfo": {
     "elapsed": 23,
     "status": "ok",
     "timestamp": 1652543130006,
     "user": {
      "displayName": "Bartłomiej Szwaja",
      "userId": "05031139790190467787"
     },
     "user_tz": -120
    },
    "id": "gMzwhxbiXdPF"
   },
   "outputs": [],
   "source": [
    "train_data = load_titanic_data(\"train.csv\")\n",
    "test_data = load_titanic_data(\"test.csv\")"
   ]
  },
  {
   "cell_type": "markdown",
   "metadata": {
    "id": "H3aSCzGFXdPG"
   },
   "source": [
    "* Dane są już podzielone na zestaw treningowy i zestaw testów. \n",
    "* Jednak dane testowe nie zawierają etykiet: Twoim celem jest wyszkolenie najlepszego modelu, który możesz wykorzystać w danych treningowych, następnie dokonanie swoich przewidywań na danych testowych i przesłanie ich do Kaggle, aby zobaczyć ostateczny wynik.\n",
    "\n",
    "Rzućmy okiem na kilka pierwszych rzędów zestawu treningowego:"
   ]
  },
  {
   "cell_type": "code",
   "execution_count": 5,
   "metadata": {
    "colab": {
     "base_uri": "https://localhost:8080/",
     "height": 206
    },
    "executionInfo": {
     "elapsed": 23,
     "status": "ok",
     "timestamp": 1652543130006,
     "user": {
      "displayName": "Bartłomiej Szwaja",
      "userId": "05031139790190467787"
     },
     "user_tz": -120
    },
    "id": "pxgZkkyoXdPH",
    "outputId": "ad6dec39-bdab-4979-df78-19d183b27278"
   },
   "outputs": [
    {
     "data": {
      "text/html": [
       "<div>\n",
       "<style scoped>\n",
       "    .dataframe tbody tr th:only-of-type {\n",
       "        vertical-align: middle;\n",
       "    }\n",
       "\n",
       "    .dataframe tbody tr th {\n",
       "        vertical-align: top;\n",
       "    }\n",
       "\n",
       "    .dataframe thead th {\n",
       "        text-align: right;\n",
       "    }\n",
       "</style>\n",
       "<table border=\"1\" class=\"dataframe\">\n",
       "  <thead>\n",
       "    <tr style=\"text-align: right;\">\n",
       "      <th></th>\n",
       "      <th>PassengerId</th>\n",
       "      <th>Survived</th>\n",
       "      <th>Pclass</th>\n",
       "      <th>Name</th>\n",
       "      <th>Sex</th>\n",
       "      <th>Age</th>\n",
       "      <th>SibSp</th>\n",
       "      <th>Parch</th>\n",
       "      <th>Ticket</th>\n",
       "      <th>Fare</th>\n",
       "      <th>Cabin</th>\n",
       "      <th>Embarked</th>\n",
       "    </tr>\n",
       "  </thead>\n",
       "  <tbody>\n",
       "    <tr>\n",
       "      <th>0</th>\n",
       "      <td>1</td>\n",
       "      <td>0</td>\n",
       "      <td>3</td>\n",
       "      <td>Braund, Mr. Owen Harris</td>\n",
       "      <td>male</td>\n",
       "      <td>22.0</td>\n",
       "      <td>1</td>\n",
       "      <td>0</td>\n",
       "      <td>A/5 21171</td>\n",
       "      <td>7.2500</td>\n",
       "      <td>NaN</td>\n",
       "      <td>S</td>\n",
       "    </tr>\n",
       "    <tr>\n",
       "      <th>1</th>\n",
       "      <td>2</td>\n",
       "      <td>1</td>\n",
       "      <td>1</td>\n",
       "      <td>Cumings, Mrs. John Bradley (Florence Briggs Th...</td>\n",
       "      <td>female</td>\n",
       "      <td>38.0</td>\n",
       "      <td>1</td>\n",
       "      <td>0</td>\n",
       "      <td>PC 17599</td>\n",
       "      <td>71.2833</td>\n",
       "      <td>C85</td>\n",
       "      <td>C</td>\n",
       "    </tr>\n",
       "    <tr>\n",
       "      <th>2</th>\n",
       "      <td>3</td>\n",
       "      <td>1</td>\n",
       "      <td>3</td>\n",
       "      <td>Heikkinen, Miss. Laina</td>\n",
       "      <td>female</td>\n",
       "      <td>26.0</td>\n",
       "      <td>0</td>\n",
       "      <td>0</td>\n",
       "      <td>STON/O2. 3101282</td>\n",
       "      <td>7.9250</td>\n",
       "      <td>NaN</td>\n",
       "      <td>S</td>\n",
       "    </tr>\n",
       "    <tr>\n",
       "      <th>3</th>\n",
       "      <td>4</td>\n",
       "      <td>1</td>\n",
       "      <td>1</td>\n",
       "      <td>Futrelle, Mrs. Jacques Heath (Lily May Peel)</td>\n",
       "      <td>female</td>\n",
       "      <td>35.0</td>\n",
       "      <td>1</td>\n",
       "      <td>0</td>\n",
       "      <td>113803</td>\n",
       "      <td>53.1000</td>\n",
       "      <td>C123</td>\n",
       "      <td>S</td>\n",
       "    </tr>\n",
       "    <tr>\n",
       "      <th>4</th>\n",
       "      <td>5</td>\n",
       "      <td>0</td>\n",
       "      <td>3</td>\n",
       "      <td>Allen, Mr. William Henry</td>\n",
       "      <td>male</td>\n",
       "      <td>35.0</td>\n",
       "      <td>0</td>\n",
       "      <td>0</td>\n",
       "      <td>373450</td>\n",
       "      <td>8.0500</td>\n",
       "      <td>NaN</td>\n",
       "      <td>S</td>\n",
       "    </tr>\n",
       "  </tbody>\n",
       "</table>\n",
       "</div>"
      ],
      "text/plain": [
       "   PassengerId  Survived  Pclass  \\\n",
       "0            1         0       3   \n",
       "1            2         1       1   \n",
       "2            3         1       3   \n",
       "3            4         1       1   \n",
       "4            5         0       3   \n",
       "\n",
       "                                                Name     Sex   Age  SibSp  \\\n",
       "0                            Braund, Mr. Owen Harris    male  22.0      1   \n",
       "1  Cumings, Mrs. John Bradley (Florence Briggs Th...  female  38.0      1   \n",
       "2                             Heikkinen, Miss. Laina  female  26.0      0   \n",
       "3       Futrelle, Mrs. Jacques Heath (Lily May Peel)  female  35.0      1   \n",
       "4                           Allen, Mr. William Henry    male  35.0      0   \n",
       "\n",
       "   Parch            Ticket     Fare Cabin Embarked  \n",
       "0      0         A/5 21171   7.2500   NaN        S  \n",
       "1      0          PC 17599  71.2833   C85        C  \n",
       "2      0  STON/O2. 3101282   7.9250   NaN        S  \n",
       "3      0            113803  53.1000  C123        S  \n",
       "4      0            373450   8.0500   NaN        S  "
      ]
     },
     "execution_count": 5,
     "metadata": {},
     "output_type": "execute_result"
    }
   ],
   "source": [
    "train_data.head()"
   ]
  },
  {
   "cell_type": "markdown",
   "metadata": {
    "id": "CngRVqX2XdPI"
   },
   "source": [
    "The attributes have the following meaning:\n",
    "\n",
    "* Survived: that's the target, 0 means the passenger did not survive, while 1 means he/she survived.\n",
    "* Pclass: passenger class.\n",
    "* Name, Sex, Age: self-explanatory\n",
    "* SibSp: how many siblings & spouses of the passenger aboard the Titanic.\n",
    "* Parch: how many children & parents of the passenger aboard the Titanic.\n",
    "* Ticket: ticket id\n",
    "* Fare: price paid (in pounds)\n",
    "* Cabin: passenger's cabin number\n",
    "* Embarked: where the passenger embarked the Titanic\n",
    "* Let's get more info to see how much data is missing:"
   ]
  },
  {
   "cell_type": "code",
   "execution_count": 6,
   "metadata": {
    "colab": {
     "base_uri": "https://localhost:8080/"
    },
    "executionInfo": {
     "elapsed": 22,
     "status": "ok",
     "timestamp": 1652543130006,
     "user": {
      "displayName": "Bartłomiej Szwaja",
      "userId": "05031139790190467787"
     },
     "user_tz": -120
    },
    "id": "f9auY7tbXdPI",
    "outputId": "c8e32321-b5bc-42dd-9fd6-4d1c4bc25ec6"
   },
   "outputs": [
    {
     "name": "stdout",
     "output_type": "stream",
     "text": [
      "<class 'pandas.core.frame.DataFrame'>\n",
      "RangeIndex: 891 entries, 0 to 890\n",
      "Data columns (total 12 columns):\n",
      " #   Column       Non-Null Count  Dtype  \n",
      "---  ------       --------------  -----  \n",
      " 0   PassengerId  891 non-null    int64  \n",
      " 1   Survived     891 non-null    int64  \n",
      " 2   Pclass       891 non-null    int64  \n",
      " 3   Name         891 non-null    object \n",
      " 4   Sex          891 non-null    object \n",
      " 5   Age          714 non-null    float64\n",
      " 6   SibSp        891 non-null    int64  \n",
      " 7   Parch        891 non-null    int64  \n",
      " 8   Ticket       891 non-null    object \n",
      " 9   Fare         891 non-null    float64\n",
      " 10  Cabin        204 non-null    object \n",
      " 11  Embarked     889 non-null    object \n",
      "dtypes: float64(2), int64(5), object(5)\n",
      "memory usage: 83.7+ KB\n"
     ]
    }
   ],
   "source": [
    "train_data.info()"
   ]
  },
  {
   "cell_type": "markdown",
   "metadata": {
    "id": "1xlSLi9NXdPJ"
   },
   "source": [
    "Atrybuty **Age**, **Cabin** oraz **Embarked** są czasami zerowe (mniej niż 891 wartości bez wartości null), szczególnie w przypadku **Cabin** (77% ma wartość zerową). Zignorujemy teraz **Cabin** i skupimy się na reszcie. Atrybut **Age** ma około 19% wartości pustych, więc będziemy musieli zdecydować, co z nimi zrobić. Zastąpienie wartości null medianą wieku wydaje się uzasadnione.\n",
    "\n",
    "Atrybuty **Name** i **Ticket** mogą mieć pewną wartość, ale będą one nieco trudne do przekształcenia w użyteczne liczby. Na razie będziemy je ignorować.\n",
    "\n",
    "Rzućmy okiem na atrybuty liczbowe:"
   ]
  },
  {
   "cell_type": "code",
   "execution_count": 7,
   "metadata": {
    "colab": {
     "base_uri": "https://localhost:8080/",
     "height": 300
    },
    "executionInfo": {
     "elapsed": 19,
     "status": "ok",
     "timestamp": 1652543130007,
     "user": {
      "displayName": "Bartłomiej Szwaja",
      "userId": "05031139790190467787"
     },
     "user_tz": -120
    },
    "id": "1Bv_GZbxXdPJ",
    "outputId": "03096fe5-f19e-4220-c97a-23624118023d"
   },
   "outputs": [
    {
     "data": {
      "text/html": [
       "<div>\n",
       "<style scoped>\n",
       "    .dataframe tbody tr th:only-of-type {\n",
       "        vertical-align: middle;\n",
       "    }\n",
       "\n",
       "    .dataframe tbody tr th {\n",
       "        vertical-align: top;\n",
       "    }\n",
       "\n",
       "    .dataframe thead th {\n",
       "        text-align: right;\n",
       "    }\n",
       "</style>\n",
       "<table border=\"1\" class=\"dataframe\">\n",
       "  <thead>\n",
       "    <tr style=\"text-align: right;\">\n",
       "      <th></th>\n",
       "      <th>PassengerId</th>\n",
       "      <th>Survived</th>\n",
       "      <th>Pclass</th>\n",
       "      <th>Age</th>\n",
       "      <th>SibSp</th>\n",
       "      <th>Parch</th>\n",
       "      <th>Fare</th>\n",
       "    </tr>\n",
       "  </thead>\n",
       "  <tbody>\n",
       "    <tr>\n",
       "      <th>count</th>\n",
       "      <td>891.000000</td>\n",
       "      <td>891.000000</td>\n",
       "      <td>891.000000</td>\n",
       "      <td>714.000000</td>\n",
       "      <td>891.000000</td>\n",
       "      <td>891.000000</td>\n",
       "      <td>891.000000</td>\n",
       "    </tr>\n",
       "    <tr>\n",
       "      <th>mean</th>\n",
       "      <td>446.000000</td>\n",
       "      <td>0.383838</td>\n",
       "      <td>2.308642</td>\n",
       "      <td>29.699118</td>\n",
       "      <td>0.523008</td>\n",
       "      <td>0.381594</td>\n",
       "      <td>32.204208</td>\n",
       "    </tr>\n",
       "    <tr>\n",
       "      <th>std</th>\n",
       "      <td>257.353842</td>\n",
       "      <td>0.486592</td>\n",
       "      <td>0.836071</td>\n",
       "      <td>14.526497</td>\n",
       "      <td>1.102743</td>\n",
       "      <td>0.806057</td>\n",
       "      <td>49.693429</td>\n",
       "    </tr>\n",
       "    <tr>\n",
       "      <th>min</th>\n",
       "      <td>1.000000</td>\n",
       "      <td>0.000000</td>\n",
       "      <td>1.000000</td>\n",
       "      <td>0.420000</td>\n",
       "      <td>0.000000</td>\n",
       "      <td>0.000000</td>\n",
       "      <td>0.000000</td>\n",
       "    </tr>\n",
       "    <tr>\n",
       "      <th>25%</th>\n",
       "      <td>223.500000</td>\n",
       "      <td>0.000000</td>\n",
       "      <td>2.000000</td>\n",
       "      <td>20.125000</td>\n",
       "      <td>0.000000</td>\n",
       "      <td>0.000000</td>\n",
       "      <td>7.910400</td>\n",
       "    </tr>\n",
       "    <tr>\n",
       "      <th>50%</th>\n",
       "      <td>446.000000</td>\n",
       "      <td>0.000000</td>\n",
       "      <td>3.000000</td>\n",
       "      <td>28.000000</td>\n",
       "      <td>0.000000</td>\n",
       "      <td>0.000000</td>\n",
       "      <td>14.454200</td>\n",
       "    </tr>\n",
       "    <tr>\n",
       "      <th>75%</th>\n",
       "      <td>668.500000</td>\n",
       "      <td>1.000000</td>\n",
       "      <td>3.000000</td>\n",
       "      <td>38.000000</td>\n",
       "      <td>1.000000</td>\n",
       "      <td>0.000000</td>\n",
       "      <td>31.000000</td>\n",
       "    </tr>\n",
       "    <tr>\n",
       "      <th>max</th>\n",
       "      <td>891.000000</td>\n",
       "      <td>1.000000</td>\n",
       "      <td>3.000000</td>\n",
       "      <td>80.000000</td>\n",
       "      <td>8.000000</td>\n",
       "      <td>6.000000</td>\n",
       "      <td>512.329200</td>\n",
       "    </tr>\n",
       "  </tbody>\n",
       "</table>\n",
       "</div>"
      ],
      "text/plain": [
       "       PassengerId    Survived      Pclass         Age       SibSp  \\\n",
       "count   891.000000  891.000000  891.000000  714.000000  891.000000   \n",
       "mean    446.000000    0.383838    2.308642   29.699118    0.523008   \n",
       "std     257.353842    0.486592    0.836071   14.526497    1.102743   \n",
       "min       1.000000    0.000000    1.000000    0.420000    0.000000   \n",
       "25%     223.500000    0.000000    2.000000   20.125000    0.000000   \n",
       "50%     446.000000    0.000000    3.000000   28.000000    0.000000   \n",
       "75%     668.500000    1.000000    3.000000   38.000000    1.000000   \n",
       "max     891.000000    1.000000    3.000000   80.000000    8.000000   \n",
       "\n",
       "            Parch        Fare  \n",
       "count  891.000000  891.000000  \n",
       "mean     0.381594   32.204208  \n",
       "std      0.806057   49.693429  \n",
       "min      0.000000    0.000000  \n",
       "25%      0.000000    7.910400  \n",
       "50%      0.000000   14.454200  \n",
       "75%      0.000000   31.000000  \n",
       "max      6.000000  512.329200  "
      ]
     },
     "execution_count": 7,
     "metadata": {},
     "output_type": "execute_result"
    }
   ],
   "source": [
    "train_data.describe()"
   ]
  },
  {
   "cell_type": "markdown",
   "metadata": {
    "id": "VcGrhcMjXdPK"
   },
   "source": [
    "* Tylko 38% przeżyło: to wystarczająco blisko do 40%, więc **accuracy** będzie rozsądną miarą do oceny naszego modelu."
   ]
  },
  {
   "cell_type": "markdown",
   "metadata": {
    "id": "5ql7r5-cXdPK"
   },
   "source": [
    "**Spójrzmy jak zależy płeć od przetrwania**"
   ]
  },
  {
   "cell_type": "code",
   "execution_count": 8,
   "metadata": {
    "colab": {
     "base_uri": "https://localhost:8080/",
     "height": 467
    },
    "executionInfo": {
     "elapsed": 387,
     "status": "ok",
     "timestamp": 1652543130376,
     "user": {
      "displayName": "Bartłomiej Szwaja",
      "userId": "05031139790190467787"
     },
     "user_tz": -120
    },
    "id": "H1Y3T4vzXdPK",
    "outputId": "f2482619-d662-4690-ccf9-316eeeacfcb5"
   },
   "outputs": [
    {
     "data": {
      "image/png": "[encoded data removed]",
      "text/plain": [
       "<Figure size 1800x504 with 1 Axes>"
      ]
     },
     "metadata": {
      "needs_background": "light"
     },
     "output_type": "display_data"
    }
   ],
   "source": [
    "train_data['Died'] = 1 - train_data['Survived']\n",
    "train_data.groupby('Sex').agg('sum')[['Survived', 'Died']].plot(kind='bar', figsize=(25, 7),\n",
    "                                                          stacked=True);"
   ]
  },
  {
   "cell_type": "markdown",
   "metadata": {
    "id": "lTrBFWFdXdPL"
   },
   "source": [
    "Zróbmy **taki sam wykres** jednak tym razem z **zachowaniem proporcji**"
   ]
  },
  {
   "cell_type": "code",
   "execution_count": 9,
   "metadata": {
    "colab": {
     "base_uri": "https://localhost:8080/",
     "height": 467
    },
    "executionInfo": {
     "elapsed": 11,
     "status": "ok",
     "timestamp": 1652543130377,
     "user": {
      "displayName": "Bartłomiej Szwaja",
      "userId": "05031139790190467787"
     },
     "user_tz": -120
    },
    "id": "PlTNfxjVXdPL",
    "outputId": "684fe765-d26c-4d21-abd4-55d0b7b68492"
   },
   "outputs": [
    {
     "data": {
      "image/png": "[encoded data removed]",
      "text/plain": [
       "<Figure size 1800x504 with 1 Axes>"
      ]
     },
     "metadata": {
      "needs_background": "light"
     },
     "output_type": "display_data"
    }
   ],
   "source": [
    "train_data.groupby('Sex').agg('mean')[['Survived', 'Died']].plot(kind='bar', figsize=(25, 7),\n",
    "                                                          stacked=True);"
   ]
  },
  {
   "cell_type": "markdown",
   "metadata": {
    "id": "8uc5z-lGXdPL"
   },
   "source": [
    "Wygląda na to, że kobiety miały dużo więcej szans na przeżycie niż mężczyźni"
   ]
  },
  {
   "cell_type": "markdown",
   "metadata": {
    "id": "T13ck-WbXdPM"
   },
   "source": [
    "Spójrzmy teraz jakie znaczenie miał **wiek** w kwesti **przeżycia**"
   ]
  },
  {
   "cell_type": "markdown",
   "metadata": {
    "id": "lZy22IPMXdPM"
   },
   "source": [
    "*W tym celu utwórzmy wykres skrzypcowy*"
   ]
  },
  {
   "cell_type": "code",
   "execution_count": 10,
   "metadata": {
    "colab": {
     "base_uri": "https://localhost:8080/",
     "height": 459
    },
    "executionInfo": {
     "elapsed": 424,
     "status": "ok",
     "timestamp": 1652543130791,
     "user": {
      "displayName": "Bartłomiej Szwaja",
      "userId": "05031139790190467787"
     },
     "user_tz": -120
    },
    "id": "IEqNF9aaXdPM",
    "outputId": "8b9d9088-1774-4295-9954-92c56f967aeb"
   },
   "outputs": [
    {
     "data": {
      "text/plain": [
       "<AxesSubplot:xlabel='Sex', ylabel='Age'>"
      ]
     },
     "execution_count": 10,
     "metadata": {},
     "output_type": "execute_result"
    },
    {
     "data": {
      "image/png": "[encoded data removed]",
      "text/plain": [
       "<Figure size 1800x504 with 1 Axes>"
      ]
     },
     "metadata": {
      "needs_background": "light"
     },
     "output_type": "display_data"
    }
   ],
   "source": [
    "import seaborn as sns\n",
    "fig = plt.figure(figsize=(25,7))\n",
    "sns.violinplot(x='Sex', y='Age', hue='Survived',\n",
    "              data = train_data, \n",
    "              split=True,\n",
    "              palette={0: \"orange\", 1: \"blue\"})"
   ]
  },
  {
   "cell_type": "markdown",
   "metadata": {
    "id": "5Xx6elM0XdPN"
   },
   "source": [
    "Widzimy iż dla kobiet wiek nie odgrywał znaczącej roli, jednak w przypadku mężczyzn przetrwało więcej dzieci niż zginęło"
   ]
  },
  {
   "cell_type": "markdown",
   "metadata": {
    "id": "I6KCe2iPXdPN"
   },
   "source": [
    "# Spójrzmy teraz na cenę biletu"
   ]
  },
  {
   "cell_type": "code",
   "execution_count": 11,
   "metadata": {
    "colab": {
     "base_uri": "https://localhost:8080/",
     "height": 0
    },
    "executionInfo": {
     "elapsed": 557,
     "status": "ok",
     "timestamp": 1652543131344,
     "user": {
      "displayName": "Bartłomiej Szwaja",
      "userId": "05031139790190467787"
     },
     "user_tz": -120
    },
    "id": "gCYDmJBhXdPN",
    "outputId": "3677ef5d-211f-4bc4-eddc-e1a7b9feebc8"
   },
   "outputs": [
    {
     "data": {
      "image/png": "[encoded data removed]",
      "text/plain": [
       "<Figure size 1440x504 with 1 Axes>"
      ]
     },
     "metadata": {
      "needs_background": "light"
     },
     "output_type": "display_data"
    }
   ],
   "source": [
    "fig = plt.figure(figsize=(20,7))\n",
    "plt.hist(train_data[train_data['Survived'] == 1]['Fare'], bins=50, color=\"blue\", label='Survived')\n",
    "plt.hist(train_data[train_data['Survived'] == 0]['Fare'], bins=50, color=\"red\", label='Died')\n",
    "plt.xlabel('Fare')\n",
    "plt.ylabel('Number of passengers')\n",
    "plt.legend()\n",
    "plt.show()"
   ]
  },
  {
   "cell_type": "markdown",
   "metadata": {
    "id": "l_A2VflzXdPN"
   },
   "source": [
    "Możemy zauważyć, iż najwięcej **zginęło** tych, którzy zakupili bilety po **najniższej cenie**"
   ]
  },
  {
   "cell_type": "markdown",
   "metadata": {
    "id": "3O5co7JeXdPN"
   },
   "source": [
    "Ci, którzy **zapłacili więcej** za **bilet**, w większości **przeżyli**"
   ]
  },
  {
   "cell_type": "markdown",
   "metadata": {
    "id": "x4JEYmX6XdPO"
   },
   "source": [
    "*Spójrzmy teraz na cenę klas*"
   ]
  },
  {
   "cell_type": "code",
   "execution_count": 12,
   "metadata": {
    "colab": {
     "base_uri": "https://localhost:8080/",
     "height": 0
    },
    "executionInfo": {
     "elapsed": 15,
     "status": "ok",
     "timestamp": 1652543131345,
     "user": {
      "displayName": "Bartłomiej Szwaja",
      "userId": "05031139790190467787"
     },
     "user_tz": -120
    },
    "id": "-yvHoPcuXdPO",
    "outputId": "0b2f99fb-83e4-40bc-b6eb-fb61ca401f48"
   },
   "outputs": [
    {
     "data": {
      "image/png": "[encoded data removed]",
      "text/plain": [
       "<Figure size 1800x504 with 1 Axes>"
      ]
     },
     "metadata": {
      "needs_background": "light"
     },
     "output_type": "display_data"
    }
   ],
   "source": [
    "ax = plt.subplot()\n",
    "ax.set_ylabel('Average fare')\n",
    "train_data.groupby('Pclass').mean()['Fare'].plot(kind='bar', figsize=(25, 7));"
   ]
  },
  {
   "cell_type": "markdown",
   "metadata": {
    "id": "4KI6DoFNXdPO"
   },
   "source": [
    "Jak możnaby obstawiać klasa pierwsza była klasą najdroższą"
   ]
  },
  {
   "cell_type": "markdown",
   "metadata": {
    "id": "vJq7rNBzXdPO"
   },
   "source": [
    "**Jak jednak klasa miała się do przeżycia?**"
   ]
  },
  {
   "cell_type": "code",
   "execution_count": 13,
   "metadata": {
    "colab": {
     "base_uri": "https://localhost:8080/",
     "height": 0
    },
    "executionInfo": {
     "elapsed": 583,
     "status": "ok",
     "timestamp": 1652543131918,
     "user": {
      "displayName": "Bartłomiej Szwaja",
      "userId": "05031139790190467787"
     },
     "user_tz": -120
    },
    "id": "Vs_IjXMnXdPO",
    "outputId": "93c0c7d9-5794-4cd4-8818-91b0bbec6de2"
   },
   "outputs": [
    {
     "data": {
      "image/png": "[encoded data removed]",
      "text/plain": [
       "<Figure size 1800x504 with 1 Axes>"
      ]
     },
     "metadata": {
      "needs_background": "light"
     },
     "output_type": "display_data"
    }
   ],
   "source": [
    "train_data.groupby('Pclass').mean()[['Survived', 'Died']].plot(kind='bar', figsize=(25, 7),\n",
    "                                                          stacked=True);"
   ]
  },
  {
   "cell_type": "markdown",
   "metadata": {
    "id": "34ZV_rVEXdPP"
   },
   "source": [
    "* Osoby w 1 klasie miały duże szanse na przeżycie\n",
    "* Osoby w 2 klasie miały około 50% szans na przeżycie\n",
    "* Osoby w 3 klasie miały znikome szanse na przeżycie"
   ]
  },
  {
   "cell_type": "markdown",
   "metadata": {
    "id": "rC4YPi98XdPP"
   },
   "source": [
    "Widzimy więc, iż klasy skrajne znacznie determinowały szanse na przeżycie"
   ]
  },
  {
   "cell_type": "markdown",
   "metadata": {
    "id": "rCVWs9f4XdPP"
   },
   "source": [
    "**Spójrzmy jeszcze czy *Emberkation*, czyli miejsce wejścia na pokład Titanica danego pasażera, miało jakiś wpływ na jego przeżycie**"
   ]
  },
  {
   "cell_type": "code",
   "execution_count": 14,
   "metadata": {
    "colab": {
     "base_uri": "https://localhost:8080/",
     "height": 0
    },
    "executionInfo": {
     "elapsed": 27,
     "status": "ok",
     "timestamp": 1652543131919,
     "user": {
      "displayName": "Bartłomiej Szwaja",
      "userId": "05031139790190467787"
     },
     "user_tz": -120
    },
    "id": "1mSajz-AXdPP",
    "outputId": "becdea01-8b8f-40b7-8885-03695774dc2b"
   },
   "outputs": [
    {
     "data": {
      "image/png": "[encoded data removed]",
      "text/plain": [
       "<Figure size 1296x504 with 1 Axes>"
      ]
     },
     "metadata": {
      "needs_background": "light"
     },
     "output_type": "display_data"
    }
   ],
   "source": [
    "fig = plt.figure(figsize=(18, 7))\n",
    "sns.violinplot(x='Embarked', y='Fare', hue='Survived', \n",
    "              data=train_data, split=True,\n",
    "              palette={0: \"orange\", 1: \"blue\"});"
   ]
  },
  {
   "cell_type": "markdown",
   "metadata": {
    "id": "V2pBdeZEXdPQ"
   },
   "source": [
    "Widzimy, iż w **C** wsiadła duża liczba osób z **drogimi biletami** i większość z nich **przetrwała**<br>\n",
    "Natomiast w **Q** wykres jest niemal symetryczny więc **nie ma** tam zbytnich **zależności**<br>\n",
    "**S** wygląda podobnie **do C**"
   ]
  },
  {
   "cell_type": "markdown",
   "metadata": {
    "id": "LZn7C8qfXdPQ"
   },
   "source": [
    "# #Przetwarzanie danych"
   ]
  },
  {
   "cell_type": "markdown",
   "metadata": {
    "id": "Hd80lXOwXdPQ"
   },
   "source": [
    "Połączymy zbiór treningowy z testowym aby miały taką samą postać<br>\n",
    "**Musimy jednak pamiętać aby nie wykorzystywać informacji z test**"
   ]
  },
  {
   "cell_type": "code",
   "execution_count": 15,
   "metadata": {
    "executionInfo": {
     "elapsed": 26,
     "status": "ok",
     "timestamp": 1652543131919,
     "user": {
      "displayName": "Bartłomiej Szwaja",
      "userId": "05031139790190467787"
     },
     "user_tz": -120
    },
    "id": "uDa46pjvXdPQ"
   },
   "outputs": [],
   "source": [
    "train_data = load_titanic_data(\"train.csv\")\n",
    "test_data = load_titanic_data(\"test.csv\")"
   ]
  },
  {
   "cell_type": "code",
   "execution_count": 16,
   "metadata": {
    "colab": {
     "base_uri": "https://localhost:8080/",
     "height": 206
    },
    "executionInfo": {
     "elapsed": 26,
     "status": "ok",
     "timestamp": 1652543131920,
     "user": {
      "displayName": "Bartłomiej Szwaja",
      "userId": "05031139790190467787"
     },
     "user_tz": -120
    },
    "id": "sy5uML1qXdPQ",
    "outputId": "ea8d497a-baab-484e-c5cb-d10359b33231"
   },
   "outputs": [
    {
     "data": {
      "text/html": [
       "<div>\n",
       "<style scoped>\n",
       "    .dataframe tbody tr th:only-of-type {\n",
       "        vertical-align: middle;\n",
       "    }\n",
       "\n",
       "    .dataframe tbody tr th {\n",
       "        vertical-align: top;\n",
       "    }\n",
       "\n",
       "    .dataframe thead th {\n",
       "        text-align: right;\n",
       "    }\n",
       "</style>\n",
       "<table border=\"1\" class=\"dataframe\">\n",
       "  <thead>\n",
       "    <tr style=\"text-align: right;\">\n",
       "      <th></th>\n",
       "      <th>Pclass</th>\n",
       "      <th>Name</th>\n",
       "      <th>Sex</th>\n",
       "      <th>Age</th>\n",
       "      <th>SibSp</th>\n",
       "      <th>Parch</th>\n",
       "      <th>Ticket</th>\n",
       "      <th>Fare</th>\n",
       "      <th>Cabin</th>\n",
       "      <th>Embarked</th>\n",
       "    </tr>\n",
       "  </thead>\n",
       "  <tbody>\n",
       "    <tr>\n",
       "      <th>0</th>\n",
       "      <td>3</td>\n",
       "      <td>Braund, Mr. Owen Harris</td>\n",
       "      <td>male</td>\n",
       "      <td>22.0</td>\n",
       "      <td>1</td>\n",
       "      <td>0</td>\n",
       "      <td>A/5 21171</td>\n",
       "      <td>7.2500</td>\n",
       "      <td>NaN</td>\n",
       "      <td>S</td>\n",
       "    </tr>\n",
       "    <tr>\n",
       "      <th>1</th>\n",
       "      <td>1</td>\n",
       "      <td>Cumings, Mrs. John Bradley (Florence Briggs Th...</td>\n",
       "      <td>female</td>\n",
       "      <td>38.0</td>\n",
       "      <td>1</td>\n",
       "      <td>0</td>\n",
       "      <td>PC 17599</td>\n",
       "      <td>71.2833</td>\n",
       "      <td>C85</td>\n",
       "      <td>C</td>\n",
       "    </tr>\n",
       "    <tr>\n",
       "      <th>2</th>\n",
       "      <td>3</td>\n",
       "      <td>Heikkinen, Miss. Laina</td>\n",
       "      <td>female</td>\n",
       "      <td>26.0</td>\n",
       "      <td>0</td>\n",
       "      <td>0</td>\n",
       "      <td>STON/O2. 3101282</td>\n",
       "      <td>7.9250</td>\n",
       "      <td>NaN</td>\n",
       "      <td>S</td>\n",
       "    </tr>\n",
       "    <tr>\n",
       "      <th>3</th>\n",
       "      <td>1</td>\n",
       "      <td>Futrelle, Mrs. Jacques Heath (Lily May Peel)</td>\n",
       "      <td>female</td>\n",
       "      <td>35.0</td>\n",
       "      <td>1</td>\n",
       "      <td>0</td>\n",
       "      <td>113803</td>\n",
       "      <td>53.1000</td>\n",
       "      <td>C123</td>\n",
       "      <td>S</td>\n",
       "    </tr>\n",
       "    <tr>\n",
       "      <th>4</th>\n",
       "      <td>3</td>\n",
       "      <td>Allen, Mr. William Henry</td>\n",
       "      <td>male</td>\n",
       "      <td>35.0</td>\n",
       "      <td>0</td>\n",
       "      <td>0</td>\n",
       "      <td>373450</td>\n",
       "      <td>8.0500</td>\n",
       "      <td>NaN</td>\n",
       "      <td>S</td>\n",
       "    </tr>\n",
       "  </tbody>\n",
       "</table>\n",
       "</div>"
      ],
      "text/plain": [
       "   Pclass                                               Name     Sex   Age  \\\n",
       "0       3                            Braund, Mr. Owen Harris    male  22.0   \n",
       "1       1  Cumings, Mrs. John Bradley (Florence Briggs Th...  female  38.0   \n",
       "2       3                             Heikkinen, Miss. Laina  female  26.0   \n",
       "3       1       Futrelle, Mrs. Jacques Heath (Lily May Peel)  female  35.0   \n",
       "4       3                           Allen, Mr. William Henry    male  35.0   \n",
       "\n",
       "   SibSp  Parch            Ticket     Fare Cabin Embarked  \n",
       "0      1      0         A/5 21171   7.2500   NaN        S  \n",
       "1      1      0          PC 17599  71.2833   C85        C  \n",
       "2      0      0  STON/O2. 3101282   7.9250   NaN        S  \n",
       "3      1      0            113803  53.1000  C123        S  \n",
       "4      0      0            373450   8.0500   NaN        S  "
      ]
     },
     "execution_count": 16,
     "metadata": {},
     "output_type": "execute_result"
    }
   ],
   "source": [
    "train_y = train_data[\"Survived\"].values\n",
    "train_x = train_data.drop([\"Survived\"], axis=1)\n",
    "\n",
    "combined = train_x.append(test_data)\n",
    "combined.reset_index(inplace=True)\n",
    "combined.drop(['index','PassengerId'], inplace=True, axis=1)\n",
    "\n",
    "\n",
    "combined.head()"
   ]
  },
  {
   "cell_type": "code",
   "execution_count": 17,
   "metadata": {
    "colab": {
     "base_uri": "https://localhost:8080/"
    },
    "executionInfo": {
     "elapsed": 26,
     "status": "ok",
     "timestamp": 1652543131920,
     "user": {
      "displayName": "Bartłomiej Szwaja",
      "userId": "05031139790190467787"
     },
     "user_tz": -120
    },
    "id": "Zlj71DUjXdPQ",
    "outputId": "db295fbb-dc63-434e-c49a-7c073aa51bd6"
   },
   "outputs": [
    {
     "name": "stdout",
     "output_type": "stream",
     "text": [
      "(1309, 10)\n"
     ]
    }
   ],
   "source": [
    "print(combined.shape)"
   ]
  },
  {
   "cell_type": "markdown",
   "metadata": {
    "id": "uRFDfws8XdPR"
   },
   "source": [
    "**Zauważmy, że kolumna Name zawiera dodatkowe informacje takie jak:**\n",
    "* Mr.\n",
    "* Miss,\n",
    "* Mrs."
   ]
  },
  {
   "cell_type": "markdown",
   "metadata": {
    "id": "URDgitpEXdPR"
   },
   "source": [
    "Spróbujmy je wyciągnąć i dodać nową kolumnę o nazwie Title"
   ]
  },
  {
   "cell_type": "code",
   "execution_count": 18,
   "metadata": {
    "colab": {
     "base_uri": "https://localhost:8080/"
    },
    "executionInfo": {
     "elapsed": 22,
     "status": "ok",
     "timestamp": 1652543131920,
     "user": {
      "displayName": "Bartłomiej Szwaja",
      "userId": "05031139790190467787"
     },
     "user_tz": -120
    },
    "id": "mbGI2_x2XdPR",
    "outputId": "39fa77a4-5cb6-4f9d-8c66-4422b383e5b9"
   },
   "outputs": [
    {
     "name": "stdout",
     "output_type": "stream",
     "text": [
      "{'the Countess', 'Miss', 'Don', 'Ms', 'Jonkheer', 'Mlle', 'Lady', 'Dr', 'Mme', 'Master', 'Sir', 'Major', 'Mr', 'Rev', 'Capt', 'Col', 'Mrs'}\n"
     ]
    }
   ],
   "source": [
    "titles = set()\n",
    "for name in train_x['Name']:\n",
    "    titles.add(name.split(',')[1].split('.')[0].strip())\n",
    "    \n",
    "print(titles)\n"
   ]
  },
  {
   "cell_type": "markdown",
   "metadata": {
    "id": "ERcz62u2XdPR"
   },
   "source": [
    "Posegregujmy te dane i dodajmy kolumnę Title"
   ]
  },
  {
   "cell_type": "code",
   "execution_count": 19,
   "metadata": {
    "executionInfo": {
     "elapsed": 21,
     "status": "ok",
     "timestamp": 1652543131921,
     "user": {
      "displayName": "Bartłomiej Szwaja",
      "userId": "05031139790190467787"
     },
     "user_tz": -120
    },
    "id": "RVTy7WXhXdPR"
   },
   "outputs": [],
   "source": [
    "combined['Title'] = combined['Name'].map(lambda name:name.split(',')[1].split('.')[0].strip())\n",
    "#doprecyzowujemy tytuł\n",
    "Title_Dictionary = {\n",
    "    \"Capt\": \"Officer\",\n",
    "    \"Col\": \"Officer\",\n",
    "    \"Major\": \"Officer\",\n",
    "    \"Jonkheer\": \"Royalty\",\n",
    "    \"Don\": \"Royalty\",\n",
    "    \"Sir\" : \"Royalty\",\n",
    "    \"Dr\": \"Officer\",\n",
    "    \"Rev\": \"Officer\",\n",
    "    \"the Countess\":\"Royalty\",\n",
    "    \"Mme\": \"Mrs\",\n",
    "    \"Mlle\": \"Miss\",\n",
    "    \"Ms\": \"Mrs\",\n",
    "    \"Mr\" : \"Mr\",\n",
    "    \"Mrs\" : \"Mrs\",\n",
    "    \"Miss\" : \"Miss\",\n",
    "    \"Master\" : \"Master\",\n",
    "    \"Lady\" : \"Royalty\"\n",
    "}\n",
    "combined['Title'] = combined.Title.map(Title_Dictionary)"
   ]
  },
  {
   "cell_type": "code",
   "execution_count": 20,
   "metadata": {
    "colab": {
     "base_uri": "https://localhost:8080/",
     "height": 424
    },
    "executionInfo": {
     "elapsed": 21,
     "status": "ok",
     "timestamp": 1652543131921,
     "user": {
      "displayName": "Bartłomiej Szwaja",
      "userId": "05031139790190467787"
     },
     "user_tz": -120
    },
    "id": "p5p9zyH_XdPS",
    "outputId": "9a06841f-8946-4ac2-abc1-b5811f4704c2"
   },
   "outputs": [
    {
     "data": {
      "text/html": [
       "<div>\n",
       "<style scoped>\n",
       "    .dataframe tbody tr th:only-of-type {\n",
       "        vertical-align: middle;\n",
       "    }\n",
       "\n",
       "    .dataframe tbody tr th {\n",
       "        vertical-align: top;\n",
       "    }\n",
       "\n",
       "    .dataframe thead th {\n",
       "        text-align: right;\n",
       "    }\n",
       "</style>\n",
       "<table border=\"1\" class=\"dataframe\">\n",
       "  <thead>\n",
       "    <tr style=\"text-align: right;\">\n",
       "      <th></th>\n",
       "      <th>Pclass</th>\n",
       "      <th>Name</th>\n",
       "      <th>Sex</th>\n",
       "      <th>Age</th>\n",
       "      <th>SibSp</th>\n",
       "      <th>Parch</th>\n",
       "      <th>Ticket</th>\n",
       "      <th>Fare</th>\n",
       "      <th>Cabin</th>\n",
       "      <th>Embarked</th>\n",
       "      <th>Title</th>\n",
       "    </tr>\n",
       "  </thead>\n",
       "  <tbody>\n",
       "    <tr>\n",
       "      <th>0</th>\n",
       "      <td>3</td>\n",
       "      <td>Braund, Mr. Owen Harris</td>\n",
       "      <td>male</td>\n",
       "      <td>22.0</td>\n",
       "      <td>1</td>\n",
       "      <td>0</td>\n",
       "      <td>A/5 21171</td>\n",
       "      <td>7.2500</td>\n",
       "      <td>NaN</td>\n",
       "      <td>S</td>\n",
       "      <td>Mr</td>\n",
       "    </tr>\n",
       "    <tr>\n",
       "      <th>1</th>\n",
       "      <td>1</td>\n",
       "      <td>Cumings, Mrs. John Bradley (Florence Briggs Th...</td>\n",
       "      <td>female</td>\n",
       "      <td>38.0</td>\n",
       "      <td>1</td>\n",
       "      <td>0</td>\n",
       "      <td>PC 17599</td>\n",
       "      <td>71.2833</td>\n",
       "      <td>C85</td>\n",
       "      <td>C</td>\n",
       "      <td>Mrs</td>\n",
       "    </tr>\n",
       "    <tr>\n",
       "      <th>2</th>\n",
       "      <td>3</td>\n",
       "      <td>Heikkinen, Miss. Laina</td>\n",
       "      <td>female</td>\n",
       "      <td>26.0</td>\n",
       "      <td>0</td>\n",
       "      <td>0</td>\n",
       "      <td>STON/O2. 3101282</td>\n",
       "      <td>7.9250</td>\n",
       "      <td>NaN</td>\n",
       "      <td>S</td>\n",
       "      <td>Miss</td>\n",
       "    </tr>\n",
       "    <tr>\n",
       "      <th>3</th>\n",
       "      <td>1</td>\n",
       "      <td>Futrelle, Mrs. Jacques Heath (Lily May Peel)</td>\n",
       "      <td>female</td>\n",
       "      <td>35.0</td>\n",
       "      <td>1</td>\n",
       "      <td>0</td>\n",
       "      <td>113803</td>\n",
       "      <td>53.1000</td>\n",
       "      <td>C123</td>\n",
       "      <td>S</td>\n",
       "      <td>Mrs</td>\n",
       "    </tr>\n",
       "    <tr>\n",
       "      <th>4</th>\n",
       "      <td>3</td>\n",
       "      <td>Allen, Mr. William Henry</td>\n",
       "      <td>male</td>\n",
       "      <td>35.0</td>\n",
       "      <td>0</td>\n",
       "      <td>0</td>\n",
       "      <td>373450</td>\n",
       "      <td>8.0500</td>\n",
       "      <td>NaN</td>\n",
       "      <td>S</td>\n",
       "      <td>Mr</td>\n",
       "    </tr>\n",
       "    <tr>\n",
       "      <th>...</th>\n",
       "      <td>...</td>\n",
       "      <td>...</td>\n",
       "      <td>...</td>\n",
       "      <td>...</td>\n",
       "      <td>...</td>\n",
       "      <td>...</td>\n",
       "      <td>...</td>\n",
       "      <td>...</td>\n",
       "      <td>...</td>\n",
       "      <td>...</td>\n",
       "      <td>...</td>\n",
       "    </tr>\n",
       "    <tr>\n",
       "      <th>1304</th>\n",
       "      <td>3</td>\n",
       "      <td>Spector, Mr. Woolf</td>\n",
       "      <td>male</td>\n",
       "      <td>NaN</td>\n",
       "      <td>0</td>\n",
       "      <td>0</td>\n",
       "      <td>A.5. 3236</td>\n",
       "      <td>8.0500</td>\n",
       "      <td>NaN</td>\n",
       "      <td>S</td>\n",
       "      <td>Mr</td>\n",
       "    </tr>\n",
       "    <tr>\n",
       "      <th>1305</th>\n",
       "      <td>1</td>\n",
       "      <td>Oliva y Ocana, Dona. Fermina</td>\n",
       "      <td>female</td>\n",
       "      <td>39.0</td>\n",
       "      <td>0</td>\n",
       "      <td>0</td>\n",
       "      <td>PC 17758</td>\n",
       "      <td>108.9000</td>\n",
       "      <td>C105</td>\n",
       "      <td>C</td>\n",
       "      <td>NaN</td>\n",
       "    </tr>\n",
       "    <tr>\n",
       "      <th>1306</th>\n",
       "      <td>3</td>\n",
       "      <td>Saether, Mr. Simon Sivertsen</td>\n",
       "      <td>male</td>\n",
       "      <td>38.5</td>\n",
       "      <td>0</td>\n",
       "      <td>0</td>\n",
       "      <td>SOTON/O.Q. 3101262</td>\n",
       "      <td>7.2500</td>\n",
       "      <td>NaN</td>\n",
       "      <td>S</td>\n",
       "      <td>Mr</td>\n",
       "    </tr>\n",
       "    <tr>\n",
       "      <th>1307</th>\n",
       "      <td>3</td>\n",
       "      <td>Ware, Mr. Frederick</td>\n",
       "      <td>male</td>\n",
       "      <td>NaN</td>\n",
       "      <td>0</td>\n",
       "      <td>0</td>\n",
       "      <td>359309</td>\n",
       "      <td>8.0500</td>\n",
       "      <td>NaN</td>\n",
       "      <td>S</td>\n",
       "      <td>Mr</td>\n",
       "    </tr>\n",
       "    <tr>\n",
       "      <th>1308</th>\n",
       "      <td>3</td>\n",
       "      <td>Peter, Master. Michael J</td>\n",
       "      <td>male</td>\n",
       "      <td>NaN</td>\n",
       "      <td>1</td>\n",
       "      <td>1</td>\n",
       "      <td>2668</td>\n",
       "      <td>22.3583</td>\n",
       "      <td>NaN</td>\n",
       "      <td>C</td>\n",
       "      <td>Master</td>\n",
       "    </tr>\n",
       "  </tbody>\n",
       "</table>\n",
       "<p>1309 rows × 11 columns</p>\n",
       "</div>"
      ],
      "text/plain": [
       "      Pclass                                               Name     Sex   Age  \\\n",
       "0          3                            Braund, Mr. Owen Harris    male  22.0   \n",
       "1          1  Cumings, Mrs. John Bradley (Florence Briggs Th...  female  38.0   \n",
       "2          3                             Heikkinen, Miss. Laina  female  26.0   \n",
       "3          1       Futrelle, Mrs. Jacques Heath (Lily May Peel)  female  35.0   \n",
       "4          3                           Allen, Mr. William Henry    male  35.0   \n",
       "...      ...                                                ...     ...   ...   \n",
       "1304       3                                 Spector, Mr. Woolf    male   NaN   \n",
       "1305       1                       Oliva y Ocana, Dona. Fermina  female  39.0   \n",
       "1306       3                       Saether, Mr. Simon Sivertsen    male  38.5   \n",
       "1307       3                                Ware, Mr. Frederick    male   NaN   \n",
       "1308       3                           Peter, Master. Michael J    male   NaN   \n",
       "\n",
       "      SibSp  Parch              Ticket      Fare Cabin Embarked   Title  \n",
       "0         1      0           A/5 21171    7.2500   NaN        S      Mr  \n",
       "1         1      0            PC 17599   71.2833   C85        C     Mrs  \n",
       "2         0      0    STON/O2. 3101282    7.9250   NaN        S    Miss  \n",
       "3         1      0              113803   53.1000  C123        S     Mrs  \n",
       "4         0      0              373450    8.0500   NaN        S      Mr  \n",
       "...     ...    ...                 ...       ...   ...      ...     ...  \n",
       "1304      0      0           A.5. 3236    8.0500   NaN        S      Mr  \n",
       "1305      0      0            PC 17758  108.9000  C105        C     NaN  \n",
       "1306      0      0  SOTON/O.Q. 3101262    7.2500   NaN        S      Mr  \n",
       "1307      0      0              359309    8.0500   NaN        S      Mr  \n",
       "1308      1      1                2668   22.3583   NaN        C  Master  \n",
       "\n",
       "[1309 rows x 11 columns]"
      ]
     },
     "execution_count": 20,
     "metadata": {},
     "output_type": "execute_result"
    }
   ],
   "source": [
    "combined"
   ]
  },
  {
   "cell_type": "markdown",
   "metadata": {
    "id": "n-b3yf8EXdPS"
   },
   "source": [
    "Widzimy, że przy Donie jest **NaN**, dzieje się tak ponieważ Dona nie wystąpiła w naszym zbiorze testowym"
   ]
  },
  {
   "cell_type": "markdown",
   "metadata": {
    "id": "X_-G5G1RXdPS"
   },
   "source": [
    "**Zajmijmy się teraz wiekiem**"
   ]
  },
  {
   "cell_type": "code",
   "execution_count": 21,
   "metadata": {
    "colab": {
     "base_uri": "https://localhost:8080/"
    },
    "executionInfo": {
     "elapsed": 21,
     "status": "ok",
     "timestamp": 1652543131922,
     "user": {
      "displayName": "Bartłomiej Szwaja",
      "userId": "05031139790190467787"
     },
     "user_tz": -120
    },
    "id": "WwYluWIPXdPS",
    "outputId": "142d4788-7cf8-4aae-f010-33e424ce4099"
   },
   "outputs": [
    {
     "name": "stdout",
     "output_type": "stream",
     "text": [
      "<class 'pandas.core.frame.DataFrame'>\n",
      "RangeIndex: 891 entries, 0 to 890\n",
      "Data columns (total 11 columns):\n",
      " #   Column       Non-Null Count  Dtype  \n",
      "---  ------       --------------  -----  \n",
      " 0   PassengerId  891 non-null    int64  \n",
      " 1   Pclass       891 non-null    int64  \n",
      " 2   Name         891 non-null    object \n",
      " 3   Sex          891 non-null    object \n",
      " 4   Age          714 non-null    float64\n",
      " 5   SibSp        891 non-null    int64  \n",
      " 6   Parch        891 non-null    int64  \n",
      " 7   Ticket       891 non-null    object \n",
      " 8   Fare         891 non-null    float64\n",
      " 9   Cabin        204 non-null    object \n",
      " 10  Embarked     889 non-null    object \n",
      "dtypes: float64(2), int64(4), object(5)\n",
      "memory usage: 76.7+ KB\n"
     ]
    }
   ],
   "source": [
    "train_x.info()"
   ]
  },
  {
   "cell_type": "markdown",
   "metadata": {
    "id": "-zBnpPnkXdPS"
   },
   "source": [
    "Widzimy, że w test dataset brakuje nam 177 informacji o wieku. To sporo dlatego musimy coś z tym zrobić"
   ]
  },
  {
   "cell_type": "markdown",
   "metadata": {
    "id": "8OLjQX4qXdPS"
   },
   "source": [
    "Moglibyśmy w te brakujące miejsca wpisać medianę wieku, jednak mogłoby to być zbyt duże uogólnienie. Spróbujmy wyznaczyć wiek na podstawie jakichś kategorii"
   ]
  },
  {
   "cell_type": "markdown",
   "metadata": {
    "id": "sgGjlEahXdPT"
   },
   "source": [
    "**Spróbujmy wyznaczyć medianę na podstawie sex, Title, oraz class**"
   ]
  },
  {
   "cell_type": "markdown",
   "metadata": {
    "id": "OFVyQl8xXdPT"
   },
   "source": [
    "**Pamiętajmy aby korzystać tylko z train dataset!!!**"
   ]
  },
  {
   "cell_type": "markdown",
   "metadata": {
    "id": "Pyx7AYm6XdPT"
   },
   "source": [
    "**Zbiór testowy kończy się na 890 indeksie!!**"
   ]
  },
  {
   "cell_type": "code",
   "execution_count": 22,
   "metadata": {
    "colab": {
     "base_uri": "https://localhost:8080/",
     "height": 206
    },
    "executionInfo": {
     "elapsed": 18,
     "status": "ok",
     "timestamp": 1652543131922,
     "user": {
      "displayName": "Bartłomiej Szwaja",
      "userId": "05031139790190467787"
     },
     "user_tz": -120
    },
    "id": "xIiUYmOIXdPT",
    "outputId": "57f35bcb-876e-4c2e-ced9-3d76785eaa3b"
   },
   "outputs": [
    {
     "data": {
      "text/html": [
       "<div>\n",
       "<style scoped>\n",
       "    .dataframe tbody tr th:only-of-type {\n",
       "        vertical-align: middle;\n",
       "    }\n",
       "\n",
       "    .dataframe tbody tr th {\n",
       "        vertical-align: top;\n",
       "    }\n",
       "\n",
       "    .dataframe thead th {\n",
       "        text-align: right;\n",
       "    }\n",
       "</style>\n",
       "<table border=\"1\" class=\"dataframe\">\n",
       "  <thead>\n",
       "    <tr style=\"text-align: right;\">\n",
       "      <th></th>\n",
       "      <th>Sex</th>\n",
       "      <th>Pclass</th>\n",
       "      <th>Title</th>\n",
       "      <th>Age</th>\n",
       "    </tr>\n",
       "  </thead>\n",
       "  <tbody>\n",
       "    <tr>\n",
       "      <th>0</th>\n",
       "      <td>female</td>\n",
       "      <td>1</td>\n",
       "      <td>Miss</td>\n",
       "      <td>30.0</td>\n",
       "    </tr>\n",
       "    <tr>\n",
       "      <th>1</th>\n",
       "      <td>female</td>\n",
       "      <td>1</td>\n",
       "      <td>Mrs</td>\n",
       "      <td>40.0</td>\n",
       "    </tr>\n",
       "    <tr>\n",
       "      <th>2</th>\n",
       "      <td>female</td>\n",
       "      <td>1</td>\n",
       "      <td>Officer</td>\n",
       "      <td>49.0</td>\n",
       "    </tr>\n",
       "    <tr>\n",
       "      <th>3</th>\n",
       "      <td>female</td>\n",
       "      <td>1</td>\n",
       "      <td>Royalty</td>\n",
       "      <td>40.5</td>\n",
       "    </tr>\n",
       "    <tr>\n",
       "      <th>4</th>\n",
       "      <td>female</td>\n",
       "      <td>2</td>\n",
       "      <td>Miss</td>\n",
       "      <td>24.0</td>\n",
       "    </tr>\n",
       "  </tbody>\n",
       "</table>\n",
       "</div>"
      ],
      "text/plain": [
       "      Sex  Pclass    Title   Age\n",
       "0  female       1     Miss  30.0\n",
       "1  female       1      Mrs  40.0\n",
       "2  female       1  Officer  49.0\n",
       "3  female       1  Royalty  40.5\n",
       "4  female       2     Miss  24.0"
      ]
     },
     "execution_count": 22,
     "metadata": {},
     "output_type": "execute_result"
    }
   ],
   "source": [
    "grouped_train = combined.iloc[:891].groupby(['Sex','Pclass','Title'])\n",
    "grouped_median_train = grouped_train.median()\n",
    "grouped_median_train = grouped_median_train.reset_index()[['Sex', 'Pclass', 'Title', 'Age']]\n",
    "\n",
    "grouped_median_train.head()"
   ]
  },
  {
   "cell_type": "markdown",
   "metadata": {
    "id": "04HYFUaEXdPT"
   },
   "source": [
    "Widzimy teraz jak bardzo wiek różni się w zależności od poszczególnych kategorii. Dlatego przyjęcie mediany z wieku do wypełnienia brakujących wierszów byłoby zbyt ogólne i utracilibyśmy pewne informacje"
   ]
  },
  {
   "cell_type": "markdown",
   "metadata": {
    "id": "o53bHXMMXdPT"
   },
   "source": [
    "**Spróbujmy teraz uzupełnić nasze brakujące dane o wieku**"
   ]
  },
  {
   "cell_type": "code",
   "execution_count": 23,
   "metadata": {
    "executionInfo": {
     "elapsed": 559,
     "status": "ok",
     "timestamp": 1652543132464,
     "user": {
      "displayName": "Bartłomiej Szwaja",
      "userId": "05031139790190467787"
     },
     "user_tz": -120
    },
    "id": "vLMn92H_XdPU"
   },
   "outputs": [],
   "source": [
    "def fill_age(row):\n",
    "    condition = (\n",
    "        (grouped_median_train['Sex'] == row['Sex']) & \n",
    "        (grouped_median_train['Title'] == row['Title']) & \n",
    "        (grouped_median_train['Pclass'] == row['Pclass'])\n",
    "    ) \n",
    "    return grouped_median_train[condition]['Age'].values[0]\n",
    "\n",
    "combined['Age'] = combined.apply(lambda row: fill_age(row) if np.isnan(row['Age']) else row['Age'], axis=1)"
   ]
  },
  {
   "cell_type": "code",
   "execution_count": 24,
   "metadata": {
    "colab": {
     "base_uri": "https://localhost:8080/",
     "height": 424
    },
    "executionInfo": {
     "elapsed": 62,
     "status": "ok",
     "timestamp": 1652543132465,
     "user": {
      "displayName": "Bartłomiej Szwaja",
      "userId": "05031139790190467787"
     },
     "user_tz": -120
    },
    "id": "RnHs0j2-XdPU",
    "outputId": "56f17693-e726-4365-f781-0ba6a7c07494"
   },
   "outputs": [
    {
     "data": {
      "text/html": [
       "<div>\n",
       "<style scoped>\n",
       "    .dataframe tbody tr th:only-of-type {\n",
       "        vertical-align: middle;\n",
       "    }\n",
       "\n",
       "    .dataframe tbody tr th {\n",
       "        vertical-align: top;\n",
       "    }\n",
       "\n",
       "    .dataframe thead th {\n",
       "        text-align: right;\n",
       "    }\n",
       "</style>\n",
       "<table border=\"1\" class=\"dataframe\">\n",
       "  <thead>\n",
       "    <tr style=\"text-align: right;\">\n",
       "      <th></th>\n",
       "      <th>Pclass</th>\n",
       "      <th>Name</th>\n",
       "      <th>Sex</th>\n",
       "      <th>Age</th>\n",
       "      <th>SibSp</th>\n",
       "      <th>Parch</th>\n",
       "      <th>Ticket</th>\n",
       "      <th>Fare</th>\n",
       "      <th>Cabin</th>\n",
       "      <th>Embarked</th>\n",
       "      <th>Title</th>\n",
       "    </tr>\n",
       "  </thead>\n",
       "  <tbody>\n",
       "    <tr>\n",
       "      <th>0</th>\n",
       "      <td>3</td>\n",
       "      <td>Braund, Mr. Owen Harris</td>\n",
       "      <td>male</td>\n",
       "      <td>22.0</td>\n",
       "      <td>1</td>\n",
       "      <td>0</td>\n",
       "      <td>A/5 21171</td>\n",
       "      <td>7.2500</td>\n",
       "      <td>NaN</td>\n",
       "      <td>S</td>\n",
       "      <td>Mr</td>\n",
       "    </tr>\n",
       "    <tr>\n",
       "      <th>1</th>\n",
       "      <td>1</td>\n",
       "      <td>Cumings, Mrs. John Bradley (Florence Briggs Th...</td>\n",
       "      <td>female</td>\n",
       "      <td>38.0</td>\n",
       "      <td>1</td>\n",
       "      <td>0</td>\n",
       "      <td>PC 17599</td>\n",
       "      <td>71.2833</td>\n",
       "      <td>C85</td>\n",
       "      <td>C</td>\n",
       "      <td>Mrs</td>\n",
       "    </tr>\n",
       "    <tr>\n",
       "      <th>2</th>\n",
       "      <td>3</td>\n",
       "      <td>Heikkinen, Miss. Laina</td>\n",
       "      <td>female</td>\n",
       "      <td>26.0</td>\n",
       "      <td>0</td>\n",
       "      <td>0</td>\n",
       "      <td>STON/O2. 3101282</td>\n",
       "      <td>7.9250</td>\n",
       "      <td>NaN</td>\n",
       "      <td>S</td>\n",
       "      <td>Miss</td>\n",
       "    </tr>\n",
       "    <tr>\n",
       "      <th>3</th>\n",
       "      <td>1</td>\n",
       "      <td>Futrelle, Mrs. Jacques Heath (Lily May Peel)</td>\n",
       "      <td>female</td>\n",
       "      <td>35.0</td>\n",
       "      <td>1</td>\n",
       "      <td>0</td>\n",
       "      <td>113803</td>\n",
       "      <td>53.1000</td>\n",
       "      <td>C123</td>\n",
       "      <td>S</td>\n",
       "      <td>Mrs</td>\n",
       "    </tr>\n",
       "    <tr>\n",
       "      <th>4</th>\n",
       "      <td>3</td>\n",
       "      <td>Allen, Mr. William Henry</td>\n",
       "      <td>male</td>\n",
       "      <td>35.0</td>\n",
       "      <td>0</td>\n",
       "      <td>0</td>\n",
       "      <td>373450</td>\n",
       "      <td>8.0500</td>\n",
       "      <td>NaN</td>\n",
       "      <td>S</td>\n",
       "      <td>Mr</td>\n",
       "    </tr>\n",
       "    <tr>\n",
       "      <th>...</th>\n",
       "      <td>...</td>\n",
       "      <td>...</td>\n",
       "      <td>...</td>\n",
       "      <td>...</td>\n",
       "      <td>...</td>\n",
       "      <td>...</td>\n",
       "      <td>...</td>\n",
       "      <td>...</td>\n",
       "      <td>...</td>\n",
       "      <td>...</td>\n",
       "      <td>...</td>\n",
       "    </tr>\n",
       "    <tr>\n",
       "      <th>1304</th>\n",
       "      <td>3</td>\n",
       "      <td>Spector, Mr. Woolf</td>\n",
       "      <td>male</td>\n",
       "      <td>26.0</td>\n",
       "      <td>0</td>\n",
       "      <td>0</td>\n",
       "      <td>A.5. 3236</td>\n",
       "      <td>8.0500</td>\n",
       "      <td>NaN</td>\n",
       "      <td>S</td>\n",
       "      <td>Mr</td>\n",
       "    </tr>\n",
       "    <tr>\n",
       "      <th>1305</th>\n",
       "      <td>1</td>\n",
       "      <td>Oliva y Ocana, Dona. Fermina</td>\n",
       "      <td>female</td>\n",
       "      <td>39.0</td>\n",
       "      <td>0</td>\n",
       "      <td>0</td>\n",
       "      <td>PC 17758</td>\n",
       "      <td>108.9000</td>\n",
       "      <td>C105</td>\n",
       "      <td>C</td>\n",
       "      <td>NaN</td>\n",
       "    </tr>\n",
       "    <tr>\n",
       "      <th>1306</th>\n",
       "      <td>3</td>\n",
       "      <td>Saether, Mr. Simon Sivertsen</td>\n",
       "      <td>male</td>\n",
       "      <td>38.5</td>\n",
       "      <td>0</td>\n",
       "      <td>0</td>\n",
       "      <td>SOTON/O.Q. 3101262</td>\n",
       "      <td>7.2500</td>\n",
       "      <td>NaN</td>\n",
       "      <td>S</td>\n",
       "      <td>Mr</td>\n",
       "    </tr>\n",
       "    <tr>\n",
       "      <th>1307</th>\n",
       "      <td>3</td>\n",
       "      <td>Ware, Mr. Frederick</td>\n",
       "      <td>male</td>\n",
       "      <td>26.0</td>\n",
       "      <td>0</td>\n",
       "      <td>0</td>\n",
       "      <td>359309</td>\n",
       "      <td>8.0500</td>\n",
       "      <td>NaN</td>\n",
       "      <td>S</td>\n",
       "      <td>Mr</td>\n",
       "    </tr>\n",
       "    <tr>\n",
       "      <th>1308</th>\n",
       "      <td>3</td>\n",
       "      <td>Peter, Master. Michael J</td>\n",
       "      <td>male</td>\n",
       "      <td>4.0</td>\n",
       "      <td>1</td>\n",
       "      <td>1</td>\n",
       "      <td>2668</td>\n",
       "      <td>22.3583</td>\n",
       "      <td>NaN</td>\n",
       "      <td>C</td>\n",
       "      <td>Master</td>\n",
       "    </tr>\n",
       "  </tbody>\n",
       "</table>\n",
       "<p>1309 rows × 11 columns</p>\n",
       "</div>"
      ],
      "text/plain": [
       "      Pclass                                               Name     Sex   Age  \\\n",
       "0          3                            Braund, Mr. Owen Harris    male  22.0   \n",
       "1          1  Cumings, Mrs. John Bradley (Florence Briggs Th...  female  38.0   \n",
       "2          3                             Heikkinen, Miss. Laina  female  26.0   \n",
       "3          1       Futrelle, Mrs. Jacques Heath (Lily May Peel)  female  35.0   \n",
       "4          3                           Allen, Mr. William Henry    male  35.0   \n",
       "...      ...                                                ...     ...   ...   \n",
       "1304       3                                 Spector, Mr. Woolf    male  26.0   \n",
       "1305       1                       Oliva y Ocana, Dona. Fermina  female  39.0   \n",
       "1306       3                       Saether, Mr. Simon Sivertsen    male  38.5   \n",
       "1307       3                                Ware, Mr. Frederick    male  26.0   \n",
       "1308       3                           Peter, Master. Michael J    male   4.0   \n",
       "\n",
       "      SibSp  Parch              Ticket      Fare Cabin Embarked   Title  \n",
       "0         1      0           A/5 21171    7.2500   NaN        S      Mr  \n",
       "1         1      0            PC 17599   71.2833   C85        C     Mrs  \n",
       "2         0      0    STON/O2. 3101282    7.9250   NaN        S    Miss  \n",
       "3         1      0              113803   53.1000  C123        S     Mrs  \n",
       "4         0      0              373450    8.0500   NaN        S      Mr  \n",
       "...     ...    ...                 ...       ...   ...      ...     ...  \n",
       "1304      0      0           A.5. 3236    8.0500   NaN        S      Mr  \n",
       "1305      0      0            PC 17758  108.9000  C105        C     NaN  \n",
       "1306      0      0  SOTON/O.Q. 3101262    7.2500   NaN        S      Mr  \n",
       "1307      0      0              359309    8.0500   NaN        S      Mr  \n",
       "1308      1      1                2668   22.3583   NaN        C  Master  \n",
       "\n",
       "[1309 rows x 11 columns]"
      ]
     },
     "execution_count": 24,
     "metadata": {},
     "output_type": "execute_result"
    }
   ],
   "source": [
    "combined"
   ]
  },
  {
   "cell_type": "code",
   "execution_count": 25,
   "metadata": {
    "colab": {
     "base_uri": "https://localhost:8080/"
    },
    "executionInfo": {
     "elapsed": 60,
     "status": "ok",
     "timestamp": 1652543132465,
     "user": {
      "displayName": "Bartłomiej Szwaja",
      "userId": "05031139790190467787"
     },
     "user_tz": -120
    },
    "id": "-zdfQYT8XdPU",
    "outputId": "b6da4340-a232-44b0-a8fe-72756153c51f"
   },
   "outputs": [
    {
     "name": "stdout",
     "output_type": "stream",
     "text": [
      "<class 'pandas.core.frame.DataFrame'>\n",
      "RangeIndex: 1309 entries, 0 to 1308\n",
      "Data columns (total 11 columns):\n",
      " #   Column    Non-Null Count  Dtype  \n",
      "---  ------    --------------  -----  \n",
      " 0   Pclass    1309 non-null   int64  \n",
      " 1   Name      1309 non-null   object \n",
      " 2   Sex       1309 non-null   object \n",
      " 3   Age       1309 non-null   float64\n",
      " 4   SibSp     1309 non-null   int64  \n",
      " 5   Parch     1309 non-null   int64  \n",
      " 6   Ticket    1309 non-null   object \n",
      " 7   Fare      1308 non-null   float64\n",
      " 8   Cabin     295 non-null    object \n",
      " 9   Embarked  1307 non-null   object \n",
      " 10  Title     1308 non-null   object \n",
      "dtypes: float64(2), int64(3), object(6)\n",
      "memory usage: 112.6+ KB\n"
     ]
    }
   ],
   "source": [
    "combined.info()"
   ]
  },
  {
   "cell_type": "markdown",
   "metadata": {
    "id": "hD1Sl7qdXdPU"
   },
   "source": [
    "Widzimy teraz, że każdy pasażer posiada już dane o wieku"
   ]
  },
  {
   "cell_type": "code",
   "execution_count": 26,
   "metadata": {},
   "outputs": [
    {
     "data": {
      "image/png": "[encoded data removed]",
      "text/plain": [
       "<Figure size 1440x504 with 1 Axes>"
      ]
     },
     "metadata": {
      "needs_background": "light"
     },
     "output_type": "display_data"
    }
   ],
   "source": [
    "fig = plt.figure(figsize=(20,7))\n",
    "plt.hist(train_data['Age'], bins=40, color=\"blue\", label='Age')\n",
    "plt.xlabel('Age')\n",
    "plt.ylabel('Number of passengers')\n",
    "plt.legend()\n",
    "plt.show()"
   ]
  },
  {
   "cell_type": "markdown",
   "metadata": {},
   "source": [
    "**Zobaczmy czy pogrupowanie wieku będzie miało jakiś wpływ na nasze predykcje**"
   ]
  },
  {
   "cell_type": "code",
   "execution_count": 27,
   "metadata": {},
   "outputs": [],
   "source": [
    "def convertAge(age):\n",
    "    if age < 10:\n",
    "        return 0\n",
    "    elif age < 20:\n",
    "        return 1\n",
    "    elif age < 30:\n",
    "        return 2\n",
    "    elif age < 40:\n",
    "        return 3\n",
    "    elif age < 50:\n",
    "        return 4\n",
    "    elif age < 60:\n",
    "        return 5\n",
    "    elif age < 70:\n",
    "        return 6\n",
    "    elif age < 80:\n",
    "        return 7\n",
    "    elif age < 90:\n",
    "        return 8\n",
    "    else:\n",
    "        return 9\n",
    "\n",
    "\n",
    "combined['AgeGroup'] = combined['Age'].map(lambda age: convertAge(age))\n",
    "\n"
   ]
  },
  {
   "cell_type": "code",
   "execution_count": 28,
   "metadata": {},
   "outputs": [
    {
     "data": {
      "text/html": [
       "<div>\n",
       "<style scoped>\n",
       "    .dataframe tbody tr th:only-of-type {\n",
       "        vertical-align: middle;\n",
       "    }\n",
       "\n",
       "    .dataframe tbody tr th {\n",
       "        vertical-align: top;\n",
       "    }\n",
       "\n",
       "    .dataframe thead th {\n",
       "        text-align: right;\n",
       "    }\n",
       "</style>\n",
       "<table border=\"1\" class=\"dataframe\">\n",
       "  <thead>\n",
       "    <tr style=\"text-align: right;\">\n",
       "      <th></th>\n",
       "      <th>Pclass</th>\n",
       "      <th>Name</th>\n",
       "      <th>Sex</th>\n",
       "      <th>Age</th>\n",
       "      <th>SibSp</th>\n",
       "      <th>Parch</th>\n",
       "      <th>Ticket</th>\n",
       "      <th>Fare</th>\n",
       "      <th>Cabin</th>\n",
       "      <th>Embarked</th>\n",
       "      <th>Title</th>\n",
       "      <th>AgeGroup</th>\n",
       "    </tr>\n",
       "  </thead>\n",
       "  <tbody>\n",
       "    <tr>\n",
       "      <th>0</th>\n",
       "      <td>3</td>\n",
       "      <td>Braund, Mr. Owen Harris</td>\n",
       "      <td>male</td>\n",
       "      <td>22.0</td>\n",
       "      <td>1</td>\n",
       "      <td>0</td>\n",
       "      <td>A/5 21171</td>\n",
       "      <td>7.2500</td>\n",
       "      <td>NaN</td>\n",
       "      <td>S</td>\n",
       "      <td>Mr</td>\n",
       "      <td>2</td>\n",
       "    </tr>\n",
       "    <tr>\n",
       "      <th>1</th>\n",
       "      <td>1</td>\n",
       "      <td>Cumings, Mrs. John Bradley (Florence Briggs Th...</td>\n",
       "      <td>female</td>\n",
       "      <td>38.0</td>\n",
       "      <td>1</td>\n",
       "      <td>0</td>\n",
       "      <td>PC 17599</td>\n",
       "      <td>71.2833</td>\n",
       "      <td>C85</td>\n",
       "      <td>C</td>\n",
       "      <td>Mrs</td>\n",
       "      <td>3</td>\n",
       "    </tr>\n",
       "    <tr>\n",
       "      <th>2</th>\n",
       "      <td>3</td>\n",
       "      <td>Heikkinen, Miss. Laina</td>\n",
       "      <td>female</td>\n",
       "      <td>26.0</td>\n",
       "      <td>0</td>\n",
       "      <td>0</td>\n",
       "      <td>STON/O2. 3101282</td>\n",
       "      <td>7.9250</td>\n",
       "      <td>NaN</td>\n",
       "      <td>S</td>\n",
       "      <td>Miss</td>\n",
       "      <td>2</td>\n",
       "    </tr>\n",
       "    <tr>\n",
       "      <th>3</th>\n",
       "      <td>1</td>\n",
       "      <td>Futrelle, Mrs. Jacques Heath (Lily May Peel)</td>\n",
       "      <td>female</td>\n",
       "      <td>35.0</td>\n",
       "      <td>1</td>\n",
       "      <td>0</td>\n",
       "      <td>113803</td>\n",
       "      <td>53.1000</td>\n",
       "      <td>C123</td>\n",
       "      <td>S</td>\n",
       "      <td>Mrs</td>\n",
       "      <td>3</td>\n",
       "    </tr>\n",
       "    <tr>\n",
       "      <th>4</th>\n",
       "      <td>3</td>\n",
       "      <td>Allen, Mr. William Henry</td>\n",
       "      <td>male</td>\n",
       "      <td>35.0</td>\n",
       "      <td>0</td>\n",
       "      <td>0</td>\n",
       "      <td>373450</td>\n",
       "      <td>8.0500</td>\n",
       "      <td>NaN</td>\n",
       "      <td>S</td>\n",
       "      <td>Mr</td>\n",
       "      <td>3</td>\n",
       "    </tr>\n",
       "  </tbody>\n",
       "</table>\n",
       "</div>"
      ],
      "text/plain": [
       "   Pclass                                               Name     Sex   Age  \\\n",
       "0       3                            Braund, Mr. Owen Harris    male  22.0   \n",
       "1       1  Cumings, Mrs. John Bradley (Florence Briggs Th...  female  38.0   \n",
       "2       3                             Heikkinen, Miss. Laina  female  26.0   \n",
       "3       1       Futrelle, Mrs. Jacques Heath (Lily May Peel)  female  35.0   \n",
       "4       3                           Allen, Mr. William Henry    male  35.0   \n",
       "\n",
       "   SibSp  Parch            Ticket     Fare Cabin Embarked Title  AgeGroup  \n",
       "0      1      0         A/5 21171   7.2500   NaN        S    Mr         2  \n",
       "1      1      0          PC 17599  71.2833   C85        C   Mrs         3  \n",
       "2      0      0  STON/O2. 3101282   7.9250   NaN        S  Miss         2  \n",
       "3      1      0            113803  53.1000  C123        S   Mrs         3  \n",
       "4      0      0            373450   8.0500   NaN        S    Mr         3  "
      ]
     },
     "execution_count": 28,
     "metadata": {},
     "output_type": "execute_result"
    }
   ],
   "source": [
    "combined.head()"
   ]
  },
  {
   "cell_type": "markdown",
   "metadata": {},
   "source": [
    "**Dodajmy może kolumnę determinującą czy dana osoba jest dzieckiem**"
   ]
  },
  {
   "cell_type": "code",
   "execution_count": 29,
   "metadata": {},
   "outputs": [],
   "source": [
    "combined['IsChild'] = combined['Age'].map(lambda age: 1 if age<9 else 0)"
   ]
  },
  {
   "cell_type": "code",
   "execution_count": 30,
   "metadata": {},
   "outputs": [
    {
     "data": {
      "text/html": [
       "<div>\n",
       "<style scoped>\n",
       "    .dataframe tbody tr th:only-of-type {\n",
       "        vertical-align: middle;\n",
       "    }\n",
       "\n",
       "    .dataframe tbody tr th {\n",
       "        vertical-align: top;\n",
       "    }\n",
       "\n",
       "    .dataframe thead th {\n",
       "        text-align: right;\n",
       "    }\n",
       "</style>\n",
       "<table border=\"1\" class=\"dataframe\">\n",
       "  <thead>\n",
       "    <tr style=\"text-align: right;\">\n",
       "      <th></th>\n",
       "      <th>Pclass</th>\n",
       "      <th>Name</th>\n",
       "      <th>Sex</th>\n",
       "      <th>Age</th>\n",
       "      <th>SibSp</th>\n",
       "      <th>Parch</th>\n",
       "      <th>Ticket</th>\n",
       "      <th>Fare</th>\n",
       "      <th>Cabin</th>\n",
       "      <th>Embarked</th>\n",
       "      <th>Title</th>\n",
       "      <th>AgeGroup</th>\n",
       "      <th>IsChild</th>\n",
       "    </tr>\n",
       "  </thead>\n",
       "  <tbody>\n",
       "    <tr>\n",
       "      <th>0</th>\n",
       "      <td>3</td>\n",
       "      <td>Braund, Mr. Owen Harris</td>\n",
       "      <td>male</td>\n",
       "      <td>22.0</td>\n",
       "      <td>1</td>\n",
       "      <td>0</td>\n",
       "      <td>A/5 21171</td>\n",
       "      <td>7.2500</td>\n",
       "      <td>NaN</td>\n",
       "      <td>S</td>\n",
       "      <td>Mr</td>\n",
       "      <td>2</td>\n",
       "      <td>0</td>\n",
       "    </tr>\n",
       "    <tr>\n",
       "      <th>1</th>\n",
       "      <td>1</td>\n",
       "      <td>Cumings, Mrs. John Bradley (Florence Briggs Th...</td>\n",
       "      <td>female</td>\n",
       "      <td>38.0</td>\n",
       "      <td>1</td>\n",
       "      <td>0</td>\n",
       "      <td>PC 17599</td>\n",
       "      <td>71.2833</td>\n",
       "      <td>C85</td>\n",
       "      <td>C</td>\n",
       "      <td>Mrs</td>\n",
       "      <td>3</td>\n",
       "      <td>0</td>\n",
       "    </tr>\n",
       "    <tr>\n",
       "      <th>2</th>\n",
       "      <td>3</td>\n",
       "      <td>Heikkinen, Miss. Laina</td>\n",
       "      <td>female</td>\n",
       "      <td>26.0</td>\n",
       "      <td>0</td>\n",
       "      <td>0</td>\n",
       "      <td>STON/O2. 3101282</td>\n",
       "      <td>7.9250</td>\n",
       "      <td>NaN</td>\n",
       "      <td>S</td>\n",
       "      <td>Miss</td>\n",
       "      <td>2</td>\n",
       "      <td>0</td>\n",
       "    </tr>\n",
       "    <tr>\n",
       "      <th>3</th>\n",
       "      <td>1</td>\n",
       "      <td>Futrelle, Mrs. Jacques Heath (Lily May Peel)</td>\n",
       "      <td>female</td>\n",
       "      <td>35.0</td>\n",
       "      <td>1</td>\n",
       "      <td>0</td>\n",
       "      <td>113803</td>\n",
       "      <td>53.1000</td>\n",
       "      <td>C123</td>\n",
       "      <td>S</td>\n",
       "      <td>Mrs</td>\n",
       "      <td>3</td>\n",
       "      <td>0</td>\n",
       "    </tr>\n",
       "    <tr>\n",
       "      <th>4</th>\n",
       "      <td>3</td>\n",
       "      <td>Allen, Mr. William Henry</td>\n",
       "      <td>male</td>\n",
       "      <td>35.0</td>\n",
       "      <td>0</td>\n",
       "      <td>0</td>\n",
       "      <td>373450</td>\n",
       "      <td>8.0500</td>\n",
       "      <td>NaN</td>\n",
       "      <td>S</td>\n",
       "      <td>Mr</td>\n",
       "      <td>3</td>\n",
       "      <td>0</td>\n",
       "    </tr>\n",
       "  </tbody>\n",
       "</table>\n",
       "</div>"
      ],
      "text/plain": [
       "   Pclass                                               Name     Sex   Age  \\\n",
       "0       3                            Braund, Mr. Owen Harris    male  22.0   \n",
       "1       1  Cumings, Mrs. John Bradley (Florence Briggs Th...  female  38.0   \n",
       "2       3                             Heikkinen, Miss. Laina  female  26.0   \n",
       "3       1       Futrelle, Mrs. Jacques Heath (Lily May Peel)  female  35.0   \n",
       "4       3                           Allen, Mr. William Henry    male  35.0   \n",
       "\n",
       "   SibSp  Parch            Ticket     Fare Cabin Embarked Title  AgeGroup  \\\n",
       "0      1      0         A/5 21171   7.2500   NaN        S    Mr         2   \n",
       "1      1      0          PC 17599  71.2833   C85        C   Mrs         3   \n",
       "2      0      0  STON/O2. 3101282   7.9250   NaN        S  Miss         2   \n",
       "3      1      0            113803  53.1000  C123        S   Mrs         3   \n",
       "4      0      0            373450   8.0500   NaN        S    Mr         3   \n",
       "\n",
       "   IsChild  \n",
       "0        0  \n",
       "1        0  \n",
       "2        0  \n",
       "3        0  \n",
       "4        0  "
      ]
     },
     "execution_count": 30,
     "metadata": {},
     "output_type": "execute_result"
    }
   ],
   "source": [
    "combined.head()"
   ]
  },
  {
   "cell_type": "code",
   "execution_count": null,
   "metadata": {},
   "outputs": [],
   "source": []
  },
  {
   "cell_type": "markdown",
   "metadata": {},
   "source": [
    "*statystyla*"
   ]
  },
  {
   "cell_type": "code",
   "execution_count": 31,
   "metadata": {},
   "outputs": [],
   "source": [
    "train_data['IsChild'] = train_data['Age'].map(lambda age: 1 if age<9 else 0)"
   ]
  },
  {
   "cell_type": "code",
   "execution_count": 32,
   "metadata": {},
   "outputs": [
    {
     "data": {
      "image/png": "[encoded data removed]",
      "text/plain": [
       "<Figure size 1080x576 with 2 Axes>"
      ]
     },
     "metadata": {},
     "output_type": "display_data"
    }
   ],
   "source": [
    "fig = plt.figure(figsize=(15,8))\n",
    "i = 1\n",
    "for child in train_data['IsChild'].unique():\n",
    "    fig.add_subplot(2, 4, i)\n",
    "    plt.title('IsChild : {}'.format(child))\n",
    "    train_data.Survived[train_data['IsChild'] == child].value_counts().plot(kind='pie')\n",
    "    i += 1"
   ]
  },
  {
   "cell_type": "markdown",
   "metadata": {},
   "source": [
    "*statystyka end*"
   ]
  },
  {
   "cell_type": "code",
   "execution_count": null,
   "metadata": {},
   "outputs": [],
   "source": []
  },
  {
   "cell_type": "markdown",
   "metadata": {
    "id": "ytYRbFo2XdPU"
   },
   "source": [
    "**Wykasujmy teraz kolumnę Name oraz zakodujmy kolumnę Title tak by uzyskać wartości liczbowe**"
   ]
  },
  {
   "cell_type": "code",
   "execution_count": 33,
   "metadata": {
    "executionInfo": {
     "elapsed": 58,
     "status": "ok",
     "timestamp": 1652543132466,
     "user": {
      "displayName": "Bartłomiej Szwaja",
      "userId": "05031139790190467787"
     },
     "user_tz": -120
    },
    "id": "U8C53K_wXdPV"
   },
   "outputs": [],
   "source": [
    "combined = combined.drop([\"Name\"], axis=1)"
   ]
  },
  {
   "cell_type": "code",
   "execution_count": 34,
   "metadata": {
    "colab": {
     "base_uri": "https://localhost:8080/",
     "height": 206
    },
    "executionInfo": {
     "elapsed": 57,
     "status": "ok",
     "timestamp": 1652543132466,
     "user": {
      "displayName": "Bartłomiej Szwaja",
      "userId": "05031139790190467787"
     },
     "user_tz": -120
    },
    "id": "6xTZAOJiXdPV",
    "outputId": "9c7e3b5c-a5fd-41e2-dfb7-1a54237efac6"
   },
   "outputs": [
    {
     "data": {
      "text/html": [
       "<div>\n",
       "<style scoped>\n",
       "    .dataframe tbody tr th:only-of-type {\n",
       "        vertical-align: middle;\n",
       "    }\n",
       "\n",
       "    .dataframe tbody tr th {\n",
       "        vertical-align: top;\n",
       "    }\n",
       "\n",
       "    .dataframe thead th {\n",
       "        text-align: right;\n",
       "    }\n",
       "</style>\n",
       "<table border=\"1\" class=\"dataframe\">\n",
       "  <thead>\n",
       "    <tr style=\"text-align: right;\">\n",
       "      <th></th>\n",
       "      <th>Pclass</th>\n",
       "      <th>Sex</th>\n",
       "      <th>Age</th>\n",
       "      <th>SibSp</th>\n",
       "      <th>Parch</th>\n",
       "      <th>Ticket</th>\n",
       "      <th>Fare</th>\n",
       "      <th>Cabin</th>\n",
       "      <th>Embarked</th>\n",
       "      <th>Title</th>\n",
       "      <th>AgeGroup</th>\n",
       "      <th>IsChild</th>\n",
       "    </tr>\n",
       "  </thead>\n",
       "  <tbody>\n",
       "    <tr>\n",
       "      <th>0</th>\n",
       "      <td>3</td>\n",
       "      <td>male</td>\n",
       "      <td>22.0</td>\n",
       "      <td>1</td>\n",
       "      <td>0</td>\n",
       "      <td>A/5 21171</td>\n",
       "      <td>7.2500</td>\n",
       "      <td>NaN</td>\n",
       "      <td>S</td>\n",
       "      <td>Mr</td>\n",
       "      <td>2</td>\n",
       "      <td>0</td>\n",
       "    </tr>\n",
       "    <tr>\n",
       "      <th>1</th>\n",
       "      <td>1</td>\n",
       "      <td>female</td>\n",
       "      <td>38.0</td>\n",
       "      <td>1</td>\n",
       "      <td>0</td>\n",
       "      <td>PC 17599</td>\n",
       "      <td>71.2833</td>\n",
       "      <td>C85</td>\n",
       "      <td>C</td>\n",
       "      <td>Mrs</td>\n",
       "      <td>3</td>\n",
       "      <td>0</td>\n",
       "    </tr>\n",
       "    <tr>\n",
       "      <th>2</th>\n",
       "      <td>3</td>\n",
       "      <td>female</td>\n",
       "      <td>26.0</td>\n",
       "      <td>0</td>\n",
       "      <td>0</td>\n",
       "      <td>STON/O2. 3101282</td>\n",
       "      <td>7.9250</td>\n",
       "      <td>NaN</td>\n",
       "      <td>S</td>\n",
       "      <td>Miss</td>\n",
       "      <td>2</td>\n",
       "      <td>0</td>\n",
       "    </tr>\n",
       "    <tr>\n",
       "      <th>3</th>\n",
       "      <td>1</td>\n",
       "      <td>female</td>\n",
       "      <td>35.0</td>\n",
       "      <td>1</td>\n",
       "      <td>0</td>\n",
       "      <td>113803</td>\n",
       "      <td>53.1000</td>\n",
       "      <td>C123</td>\n",
       "      <td>S</td>\n",
       "      <td>Mrs</td>\n",
       "      <td>3</td>\n",
       "      <td>0</td>\n",
       "    </tr>\n",
       "    <tr>\n",
       "      <th>4</th>\n",
       "      <td>3</td>\n",
       "      <td>male</td>\n",
       "      <td>35.0</td>\n",
       "      <td>0</td>\n",
       "      <td>0</td>\n",
       "      <td>373450</td>\n",
       "      <td>8.0500</td>\n",
       "      <td>NaN</td>\n",
       "      <td>S</td>\n",
       "      <td>Mr</td>\n",
       "      <td>3</td>\n",
       "      <td>0</td>\n",
       "    </tr>\n",
       "  </tbody>\n",
       "</table>\n",
       "</div>"
      ],
      "text/plain": [
       "   Pclass     Sex   Age  SibSp  Parch            Ticket     Fare Cabin  \\\n",
       "0       3    male  22.0      1      0         A/5 21171   7.2500   NaN   \n",
       "1       1  female  38.0      1      0          PC 17599  71.2833   C85   \n",
       "2       3  female  26.0      0      0  STON/O2. 3101282   7.9250   NaN   \n",
       "3       1  female  35.0      1      0            113803  53.1000  C123   \n",
       "4       3    male  35.0      0      0            373450   8.0500   NaN   \n",
       "\n",
       "  Embarked Title  AgeGroup  IsChild  \n",
       "0        S    Mr         2        0  \n",
       "1        C   Mrs         3        0  \n",
       "2        S  Miss         2        0  \n",
       "3        S   Mrs         3        0  \n",
       "4        S    Mr         3        0  "
      ]
     },
     "execution_count": 34,
     "metadata": {},
     "output_type": "execute_result"
    }
   ],
   "source": [
    "combined.head()"
   ]
  },
  {
   "cell_type": "code",
   "execution_count": 35,
   "metadata": {
    "colab": {
     "base_uri": "https://localhost:8080/"
    },
    "executionInfo": {
     "elapsed": 57,
     "status": "ok",
     "timestamp": 1652543132466,
     "user": {
      "displayName": "Bartłomiej Szwaja",
      "userId": "05031139790190467787"
     },
     "user_tz": -120
    },
    "id": "e-xdrmYqXdPV",
    "outputId": "358966a1-6da6-436a-fda8-0a7766d3b217"
   },
   "outputs": [
    {
     "data": {
      "text/plain": [
       "LabelEncoder()"
      ]
     },
     "execution_count": 35,
     "metadata": {},
     "output_type": "execute_result"
    }
   ],
   "source": [
    "from sklearn import preprocessing\n",
    "le = preprocessing.LabelEncoder()\n",
    "le.fit(combined['Title'])"
   ]
  },
  {
   "cell_type": "code",
   "execution_count": 36,
   "metadata": {
    "colab": {
     "base_uri": "https://localhost:8080/"
    },
    "executionInfo": {
     "elapsed": 55,
     "status": "ok",
     "timestamp": 1652543132467,
     "user": {
      "displayName": "Bartłomiej Szwaja",
      "userId": "05031139790190467787"
     },
     "user_tz": -120
    },
    "id": "ITE9-027XdPV",
    "outputId": "602363da-e9ed-4af1-deac-12f9ab448dfc"
   },
   "outputs": [
    {
     "data": {
      "text/plain": [
       "array(['Master', 'Miss', 'Mr', 'Mrs', 'Officer', 'Royalty', nan],\n",
       "      dtype=object)"
      ]
     },
     "execution_count": 36,
     "metadata": {},
     "output_type": "execute_result"
    }
   ],
   "source": [
    "le.classes_"
   ]
  },
  {
   "cell_type": "code",
   "execution_count": 37,
   "metadata": {
    "executionInfo": {
     "elapsed": 52,
     "status": "ok",
     "timestamp": 1652543132467,
     "user": {
      "displayName": "Bartłomiej Szwaja",
      "userId": "05031139790190467787"
     },
     "user_tz": -120
    },
    "id": "-NvhY5v-XdPV"
   },
   "outputs": [],
   "source": [
    "combined['Title'] = le.transform(combined['Title'])"
   ]
  },
  {
   "cell_type": "code",
   "execution_count": 38,
   "metadata": {
    "colab": {
     "base_uri": "https://localhost:8080/",
     "height": 424
    },
    "executionInfo": {
     "elapsed": 51,
     "status": "ok",
     "timestamp": 1652543132467,
     "user": {
      "displayName": "Bartłomiej Szwaja",
      "userId": "05031139790190467787"
     },
     "user_tz": -120
    },
    "id": "kEzmq5H2XdPV",
    "outputId": "405b8d38-0ea2-459f-8d0e-7551b8c3b5a8"
   },
   "outputs": [
    {
     "data": {
      "text/html": [
       "<div>\n",
       "<style scoped>\n",
       "    .dataframe tbody tr th:only-of-type {\n",
       "        vertical-align: middle;\n",
       "    }\n",
       "\n",
       "    .dataframe tbody tr th {\n",
       "        vertical-align: top;\n",
       "    }\n",
       "\n",
       "    .dataframe thead th {\n",
       "        text-align: right;\n",
       "    }\n",
       "</style>\n",
       "<table border=\"1\" class=\"dataframe\">\n",
       "  <thead>\n",
       "    <tr style=\"text-align: right;\">\n",
       "      <th></th>\n",
       "      <th>Pclass</th>\n",
       "      <th>Sex</th>\n",
       "      <th>Age</th>\n",
       "      <th>SibSp</th>\n",
       "      <th>Parch</th>\n",
       "      <th>Ticket</th>\n",
       "      <th>Fare</th>\n",
       "      <th>Cabin</th>\n",
       "      <th>Embarked</th>\n",
       "      <th>Title</th>\n",
       "      <th>AgeGroup</th>\n",
       "      <th>IsChild</th>\n",
       "    </tr>\n",
       "  </thead>\n",
       "  <tbody>\n",
       "    <tr>\n",
       "      <th>0</th>\n",
       "      <td>3</td>\n",
       "      <td>male</td>\n",
       "      <td>22.0</td>\n",
       "      <td>1</td>\n",
       "      <td>0</td>\n",
       "      <td>A/5 21171</td>\n",
       "      <td>7.2500</td>\n",
       "      <td>NaN</td>\n",
       "      <td>S</td>\n",
       "      <td>2</td>\n",
       "      <td>2</td>\n",
       "      <td>0</td>\n",
       "    </tr>\n",
       "    <tr>\n",
       "      <th>1</th>\n",
       "      <td>1</td>\n",
       "      <td>female</td>\n",
       "      <td>38.0</td>\n",
       "      <td>1</td>\n",
       "      <td>0</td>\n",
       "      <td>PC 17599</td>\n",
       "      <td>71.2833</td>\n",
       "      <td>C85</td>\n",
       "      <td>C</td>\n",
       "      <td>3</td>\n",
       "      <td>3</td>\n",
       "      <td>0</td>\n",
       "    </tr>\n",
       "    <tr>\n",
       "      <th>2</th>\n",
       "      <td>3</td>\n",
       "      <td>female</td>\n",
       "      <td>26.0</td>\n",
       "      <td>0</td>\n",
       "      <td>0</td>\n",
       "      <td>STON/O2. 3101282</td>\n",
       "      <td>7.9250</td>\n",
       "      <td>NaN</td>\n",
       "      <td>S</td>\n",
       "      <td>1</td>\n",
       "      <td>2</td>\n",
       "      <td>0</td>\n",
       "    </tr>\n",
       "    <tr>\n",
       "      <th>3</th>\n",
       "      <td>1</td>\n",
       "      <td>female</td>\n",
       "      <td>35.0</td>\n",
       "      <td>1</td>\n",
       "      <td>0</td>\n",
       "      <td>113803</td>\n",
       "      <td>53.1000</td>\n",
       "      <td>C123</td>\n",
       "      <td>S</td>\n",
       "      <td>3</td>\n",
       "      <td>3</td>\n",
       "      <td>0</td>\n",
       "    </tr>\n",
       "    <tr>\n",
       "      <th>4</th>\n",
       "      <td>3</td>\n",
       "      <td>male</td>\n",
       "      <td>35.0</td>\n",
       "      <td>0</td>\n",
       "      <td>0</td>\n",
       "      <td>373450</td>\n",
       "      <td>8.0500</td>\n",
       "      <td>NaN</td>\n",
       "      <td>S</td>\n",
       "      <td>2</td>\n",
       "      <td>3</td>\n",
       "      <td>0</td>\n",
       "    </tr>\n",
       "    <tr>\n",
       "      <th>...</th>\n",
       "      <td>...</td>\n",
       "      <td>...</td>\n",
       "      <td>...</td>\n",
       "      <td>...</td>\n",
       "      <td>...</td>\n",
       "      <td>...</td>\n",
       "      <td>...</td>\n",
       "      <td>...</td>\n",
       "      <td>...</td>\n",
       "      <td>...</td>\n",
       "      <td>...</td>\n",
       "      <td>...</td>\n",
       "    </tr>\n",
       "    <tr>\n",
       "      <th>1304</th>\n",
       "      <td>3</td>\n",
       "      <td>male</td>\n",
       "      <td>26.0</td>\n",
       "      <td>0</td>\n",
       "      <td>0</td>\n",
       "      <td>A.5. 3236</td>\n",
       "      <td>8.0500</td>\n",
       "      <td>NaN</td>\n",
       "      <td>S</td>\n",
       "      <td>2</td>\n",
       "      <td>2</td>\n",
       "      <td>0</td>\n",
       "    </tr>\n",
       "    <tr>\n",
       "      <th>1305</th>\n",
       "      <td>1</td>\n",
       "      <td>female</td>\n",
       "      <td>39.0</td>\n",
       "      <td>0</td>\n",
       "      <td>0</td>\n",
       "      <td>PC 17758</td>\n",
       "      <td>108.9000</td>\n",
       "      <td>C105</td>\n",
       "      <td>C</td>\n",
       "      <td>6</td>\n",
       "      <td>3</td>\n",
       "      <td>0</td>\n",
       "    </tr>\n",
       "    <tr>\n",
       "      <th>1306</th>\n",
       "      <td>3</td>\n",
       "      <td>male</td>\n",
       "      <td>38.5</td>\n",
       "      <td>0</td>\n",
       "      <td>0</td>\n",
       "      <td>SOTON/O.Q. 3101262</td>\n",
       "      <td>7.2500</td>\n",
       "      <td>NaN</td>\n",
       "      <td>S</td>\n",
       "      <td>2</td>\n",
       "      <td>3</td>\n",
       "      <td>0</td>\n",
       "    </tr>\n",
       "    <tr>\n",
       "      <th>1307</th>\n",
       "      <td>3</td>\n",
       "      <td>male</td>\n",
       "      <td>26.0</td>\n",
       "      <td>0</td>\n",
       "      <td>0</td>\n",
       "      <td>359309</td>\n",
       "      <td>8.0500</td>\n",
       "      <td>NaN</td>\n",
       "      <td>S</td>\n",
       "      <td>2</td>\n",
       "      <td>2</td>\n",
       "      <td>0</td>\n",
       "    </tr>\n",
       "    <tr>\n",
       "      <th>1308</th>\n",
       "      <td>3</td>\n",
       "      <td>male</td>\n",
       "      <td>4.0</td>\n",
       "      <td>1</td>\n",
       "      <td>1</td>\n",
       "      <td>2668</td>\n",
       "      <td>22.3583</td>\n",
       "      <td>NaN</td>\n",
       "      <td>C</td>\n",
       "      <td>0</td>\n",
       "      <td>0</td>\n",
       "      <td>1</td>\n",
       "    </tr>\n",
       "  </tbody>\n",
       "</table>\n",
       "<p>1309 rows × 12 columns</p>\n",
       "</div>"
      ],
      "text/plain": [
       "      Pclass     Sex   Age  SibSp  Parch              Ticket      Fare Cabin  \\\n",
       "0          3    male  22.0      1      0           A/5 21171    7.2500   NaN   \n",
       "1          1  female  38.0      1      0            PC 17599   71.2833   C85   \n",
       "2          3  female  26.0      0      0    STON/O2. 3101282    7.9250   NaN   \n",
       "3          1  female  35.0      1      0              113803   53.1000  C123   \n",
       "4          3    male  35.0      0      0              373450    8.0500   NaN   \n",
       "...      ...     ...   ...    ...    ...                 ...       ...   ...   \n",
       "1304       3    male  26.0      0      0           A.5. 3236    8.0500   NaN   \n",
       "1305       1  female  39.0      0      0            PC 17758  108.9000  C105   \n",
       "1306       3    male  38.5      0      0  SOTON/O.Q. 3101262    7.2500   NaN   \n",
       "1307       3    male  26.0      0      0              359309    8.0500   NaN   \n",
       "1308       3    male   4.0      1      1                2668   22.3583   NaN   \n",
       "\n",
       "     Embarked  Title  AgeGroup  IsChild  \n",
       "0           S      2         2        0  \n",
       "1           C      3         3        0  \n",
       "2           S      1         2        0  \n",
       "3           S      3         3        0  \n",
       "4           S      2         3        0  \n",
       "...       ...    ...       ...      ...  \n",
       "1304        S      2         2        0  \n",
       "1305        C      6         3        0  \n",
       "1306        S      2         3        0  \n",
       "1307        S      2         2        0  \n",
       "1308        C      0         0        1  \n",
       "\n",
       "[1309 rows x 12 columns]"
      ]
     },
     "execution_count": 38,
     "metadata": {},
     "output_type": "execute_result"
    }
   ],
   "source": [
    "combined"
   ]
  },
  {
   "cell_type": "markdown",
   "metadata": {
    "id": "JFSfYQutXdPW"
   },
   "source": [
    "**Brakuje nam jednej wartości Fare, uzupełnijmy ją o średnią wartość Fare ze zbioru testowego**"
   ]
  },
  {
   "cell_type": "code",
   "execution_count": 39,
   "metadata": {
    "executionInfo": {
     "elapsed": 51,
     "status": "ok",
     "timestamp": 1652543132468,
     "user": {
      "displayName": "Bartłomiej Szwaja",
      "userId": "05031139790190467787"
     },
     "user_tz": -120
    },
    "id": "R3E7tbUnXdPW"
   },
   "outputs": [],
   "source": [
    "combined['Fare'].fillna(combined.iloc[:891].Fare.mean(), inplace=True)"
   ]
  },
  {
   "cell_type": "code",
   "execution_count": 40,
   "metadata": {
    "colab": {
     "base_uri": "https://localhost:8080/"
    },
    "executionInfo": {
     "elapsed": 51,
     "status": "ok",
     "timestamp": 1652543132468,
     "user": {
      "displayName": "Bartłomiej Szwaja",
      "userId": "05031139790190467787"
     },
     "user_tz": -120
    },
    "id": "S-oBTxNlXdPW",
    "outputId": "e32830bc-a033-4a27-9e02-801ba0bfb311"
   },
   "outputs": [
    {
     "name": "stdout",
     "output_type": "stream",
     "text": [
      "<class 'pandas.core.frame.DataFrame'>\n",
      "RangeIndex: 1309 entries, 0 to 1308\n",
      "Data columns (total 12 columns):\n",
      " #   Column    Non-Null Count  Dtype  \n",
      "---  ------    --------------  -----  \n",
      " 0   Pclass    1309 non-null   int64  \n",
      " 1   Sex       1309 non-null   object \n",
      " 2   Age       1309 non-null   float64\n",
      " 3   SibSp     1309 non-null   int64  \n",
      " 4   Parch     1309 non-null   int64  \n",
      " 5   Ticket    1309 non-null   object \n",
      " 6   Fare      1309 non-null   float64\n",
      " 7   Cabin     295 non-null    object \n",
      " 8   Embarked  1307 non-null   object \n",
      " 9   Title     1309 non-null   int32  \n",
      " 10  AgeGroup  1309 non-null   int64  \n",
      " 11  IsChild   1309 non-null   int64  \n",
      "dtypes: float64(2), int32(1), int64(5), object(4)\n",
      "memory usage: 117.7+ KB\n"
     ]
    }
   ],
   "source": [
    "combined.info()"
   ]
  },
  {
   "cell_type": "markdown",
   "metadata": {
    "id": "-i-mQ3S5XdPW"
   },
   "source": [
    "# **Zajmijmy się teraz missing data w Embarked**"
   ]
  },
  {
   "cell_type": "markdown",
   "metadata": {
    "id": "i-XInGwZXdPW"
   },
   "source": [
    "Spróbujmy ją uzupełnić poprzez najczęściej występującą wartość Embarked w train dataset"
   ]
  },
  {
   "cell_type": "code",
   "execution_count": 41,
   "metadata": {
    "executionInfo": {
     "elapsed": 50,
     "status": "ok",
     "timestamp": 1652543132469,
     "user": {
      "displayName": "Bartłomiej Szwaja",
      "userId": "05031139790190467787"
     },
     "user_tz": -120
    },
    "id": "qEMxUrQcXdPW"
   },
   "outputs": [],
   "source": [
    "embarked = combined.iloc[:891].groupby(['Embarked'])"
   ]
  },
  {
   "cell_type": "code",
   "execution_count": 42,
   "metadata": {
    "colab": {
     "base_uri": "https://localhost:8080/",
     "height": 0
    },
    "executionInfo": {
     "elapsed": 49,
     "status": "ok",
     "timestamp": 1652543132469,
     "user": {
      "displayName": "Bartłomiej Szwaja",
      "userId": "05031139790190467787"
     },
     "user_tz": -120
    },
    "id": "OOVVC9s_XdPW",
    "outputId": "6860c577-7872-44d7-a4d8-06e62cad5b9a"
   },
   "outputs": [
    {
     "data": {
      "text/html": [
       "<div>\n",
       "<style scoped>\n",
       "    .dataframe tbody tr th:only-of-type {\n",
       "        vertical-align: middle;\n",
       "    }\n",
       "\n",
       "    .dataframe tbody tr th {\n",
       "        vertical-align: top;\n",
       "    }\n",
       "\n",
       "    .dataframe thead th {\n",
       "        text-align: right;\n",
       "    }\n",
       "</style>\n",
       "<table border=\"1\" class=\"dataframe\">\n",
       "  <thead>\n",
       "    <tr style=\"text-align: right;\">\n",
       "      <th></th>\n",
       "      <th>Pclass</th>\n",
       "      <th>Sex</th>\n",
       "      <th>Age</th>\n",
       "      <th>SibSp</th>\n",
       "      <th>Parch</th>\n",
       "      <th>Ticket</th>\n",
       "      <th>Fare</th>\n",
       "      <th>Cabin</th>\n",
       "      <th>Title</th>\n",
       "      <th>AgeGroup</th>\n",
       "      <th>IsChild</th>\n",
       "    </tr>\n",
       "    <tr>\n",
       "      <th>Embarked</th>\n",
       "      <th></th>\n",
       "      <th></th>\n",
       "      <th></th>\n",
       "      <th></th>\n",
       "      <th></th>\n",
       "      <th></th>\n",
       "      <th></th>\n",
       "      <th></th>\n",
       "      <th></th>\n",
       "      <th></th>\n",
       "      <th></th>\n",
       "    </tr>\n",
       "  </thead>\n",
       "  <tbody>\n",
       "    <tr>\n",
       "      <th>C</th>\n",
       "      <td>168</td>\n",
       "      <td>168</td>\n",
       "      <td>168</td>\n",
       "      <td>168</td>\n",
       "      <td>168</td>\n",
       "      <td>168</td>\n",
       "      <td>168</td>\n",
       "      <td>69</td>\n",
       "      <td>168</td>\n",
       "      <td>168</td>\n",
       "      <td>168</td>\n",
       "    </tr>\n",
       "    <tr>\n",
       "      <th>Q</th>\n",
       "      <td>77</td>\n",
       "      <td>77</td>\n",
       "      <td>77</td>\n",
       "      <td>77</td>\n",
       "      <td>77</td>\n",
       "      <td>77</td>\n",
       "      <td>77</td>\n",
       "      <td>4</td>\n",
       "      <td>77</td>\n",
       "      <td>77</td>\n",
       "      <td>77</td>\n",
       "    </tr>\n",
       "    <tr>\n",
       "      <th>S</th>\n",
       "      <td>644</td>\n",
       "      <td>644</td>\n",
       "      <td>644</td>\n",
       "      <td>644</td>\n",
       "      <td>644</td>\n",
       "      <td>644</td>\n",
       "      <td>644</td>\n",
       "      <td>129</td>\n",
       "      <td>644</td>\n",
       "      <td>644</td>\n",
       "      <td>644</td>\n",
       "    </tr>\n",
       "  </tbody>\n",
       "</table>\n",
       "</div>"
      ],
      "text/plain": [
       "          Pclass  Sex  Age  SibSp  Parch  Ticket  Fare  Cabin  Title  \\\n",
       "Embarked                                                               \n",
       "C            168  168  168    168    168     168   168     69    168   \n",
       "Q             77   77   77     77     77      77    77      4     77   \n",
       "S            644  644  644    644    644     644   644    129    644   \n",
       "\n",
       "          AgeGroup  IsChild  \n",
       "Embarked                     \n",
       "C              168      168  \n",
       "Q               77       77  \n",
       "S              644      644  "
      ]
     },
     "execution_count": 42,
     "metadata": {},
     "output_type": "execute_result"
    }
   ],
   "source": [
    "embarked.count()"
   ]
  },
  {
   "cell_type": "markdown",
   "metadata": {
    "id": "Rs-5G8hkXdPX"
   },
   "source": [
    "**S występuje zdecydowanie najczęściej**"
   ]
  },
  {
   "cell_type": "code",
   "execution_count": 43,
   "metadata": {
    "executionInfo": {
     "elapsed": 48,
     "status": "ok",
     "timestamp": 1652543132469,
     "user": {
      "displayName": "Bartłomiej Szwaja",
      "userId": "05031139790190467787"
     },
     "user_tz": -120
    },
    "id": "VPdZvXo6XdPX"
   },
   "outputs": [],
   "source": [
    "combined.Embarked.fillna('S', inplace=True)"
   ]
  },
  {
   "cell_type": "code",
   "execution_count": 44,
   "metadata": {
    "colab": {
     "base_uri": "https://localhost:8080/",
     "height": 0
    },
    "executionInfo": {
     "elapsed": 49,
     "status": "ok",
     "timestamp": 1652543132470,
     "user": {
      "displayName": "Bartłomiej Szwaja",
      "userId": "05031139790190467787"
     },
     "user_tz": -120
    },
    "id": "Cfr1ymobXdPX",
    "outputId": "ab6cc322-970c-4f5e-86bf-0892cce4d65b"
   },
   "outputs": [
    {
     "data": {
      "text/html": [
       "<div>\n",
       "<style scoped>\n",
       "    .dataframe tbody tr th:only-of-type {\n",
       "        vertical-align: middle;\n",
       "    }\n",
       "\n",
       "    .dataframe tbody tr th {\n",
       "        vertical-align: top;\n",
       "    }\n",
       "\n",
       "    .dataframe thead th {\n",
       "        text-align: right;\n",
       "    }\n",
       "</style>\n",
       "<table border=\"1\" class=\"dataframe\">\n",
       "  <thead>\n",
       "    <tr style=\"text-align: right;\">\n",
       "      <th></th>\n",
       "      <th>Pclass</th>\n",
       "      <th>Sex</th>\n",
       "      <th>Age</th>\n",
       "      <th>SibSp</th>\n",
       "      <th>Parch</th>\n",
       "      <th>Ticket</th>\n",
       "      <th>Fare</th>\n",
       "      <th>Cabin</th>\n",
       "      <th>Embarked</th>\n",
       "      <th>Title</th>\n",
       "      <th>AgeGroup</th>\n",
       "      <th>IsChild</th>\n",
       "    </tr>\n",
       "  </thead>\n",
       "  <tbody>\n",
       "    <tr>\n",
       "      <th>0</th>\n",
       "      <td>3</td>\n",
       "      <td>male</td>\n",
       "      <td>22.0</td>\n",
       "      <td>1</td>\n",
       "      <td>0</td>\n",
       "      <td>A/5 21171</td>\n",
       "      <td>7.2500</td>\n",
       "      <td>NaN</td>\n",
       "      <td>S</td>\n",
       "      <td>2</td>\n",
       "      <td>2</td>\n",
       "      <td>0</td>\n",
       "    </tr>\n",
       "    <tr>\n",
       "      <th>1</th>\n",
       "      <td>1</td>\n",
       "      <td>female</td>\n",
       "      <td>38.0</td>\n",
       "      <td>1</td>\n",
       "      <td>0</td>\n",
       "      <td>PC 17599</td>\n",
       "      <td>71.2833</td>\n",
       "      <td>C85</td>\n",
       "      <td>C</td>\n",
       "      <td>3</td>\n",
       "      <td>3</td>\n",
       "      <td>0</td>\n",
       "    </tr>\n",
       "    <tr>\n",
       "      <th>2</th>\n",
       "      <td>3</td>\n",
       "      <td>female</td>\n",
       "      <td>26.0</td>\n",
       "      <td>0</td>\n",
       "      <td>0</td>\n",
       "      <td>STON/O2. 3101282</td>\n",
       "      <td>7.9250</td>\n",
       "      <td>NaN</td>\n",
       "      <td>S</td>\n",
       "      <td>1</td>\n",
       "      <td>2</td>\n",
       "      <td>0</td>\n",
       "    </tr>\n",
       "    <tr>\n",
       "      <th>3</th>\n",
       "      <td>1</td>\n",
       "      <td>female</td>\n",
       "      <td>35.0</td>\n",
       "      <td>1</td>\n",
       "      <td>0</td>\n",
       "      <td>113803</td>\n",
       "      <td>53.1000</td>\n",
       "      <td>C123</td>\n",
       "      <td>S</td>\n",
       "      <td>3</td>\n",
       "      <td>3</td>\n",
       "      <td>0</td>\n",
       "    </tr>\n",
       "    <tr>\n",
       "      <th>4</th>\n",
       "      <td>3</td>\n",
       "      <td>male</td>\n",
       "      <td>35.0</td>\n",
       "      <td>0</td>\n",
       "      <td>0</td>\n",
       "      <td>373450</td>\n",
       "      <td>8.0500</td>\n",
       "      <td>NaN</td>\n",
       "      <td>S</td>\n",
       "      <td>2</td>\n",
       "      <td>3</td>\n",
       "      <td>0</td>\n",
       "    </tr>\n",
       "    <tr>\n",
       "      <th>...</th>\n",
       "      <td>...</td>\n",
       "      <td>...</td>\n",
       "      <td>...</td>\n",
       "      <td>...</td>\n",
       "      <td>...</td>\n",
       "      <td>...</td>\n",
       "      <td>...</td>\n",
       "      <td>...</td>\n",
       "      <td>...</td>\n",
       "      <td>...</td>\n",
       "      <td>...</td>\n",
       "      <td>...</td>\n",
       "    </tr>\n",
       "    <tr>\n",
       "      <th>1304</th>\n",
       "      <td>3</td>\n",
       "      <td>male</td>\n",
       "      <td>26.0</td>\n",
       "      <td>0</td>\n",
       "      <td>0</td>\n",
       "      <td>A.5. 3236</td>\n",
       "      <td>8.0500</td>\n",
       "      <td>NaN</td>\n",
       "      <td>S</td>\n",
       "      <td>2</td>\n",
       "      <td>2</td>\n",
       "      <td>0</td>\n",
       "    </tr>\n",
       "    <tr>\n",
       "      <th>1305</th>\n",
       "      <td>1</td>\n",
       "      <td>female</td>\n",
       "      <td>39.0</td>\n",
       "      <td>0</td>\n",
       "      <td>0</td>\n",
       "      <td>PC 17758</td>\n",
       "      <td>108.9000</td>\n",
       "      <td>C105</td>\n",
       "      <td>C</td>\n",
       "      <td>6</td>\n",
       "      <td>3</td>\n",
       "      <td>0</td>\n",
       "    </tr>\n",
       "    <tr>\n",
       "      <th>1306</th>\n",
       "      <td>3</td>\n",
       "      <td>male</td>\n",
       "      <td>38.5</td>\n",
       "      <td>0</td>\n",
       "      <td>0</td>\n",
       "      <td>SOTON/O.Q. 3101262</td>\n",
       "      <td>7.2500</td>\n",
       "      <td>NaN</td>\n",
       "      <td>S</td>\n",
       "      <td>2</td>\n",
       "      <td>3</td>\n",
       "      <td>0</td>\n",
       "    </tr>\n",
       "    <tr>\n",
       "      <th>1307</th>\n",
       "      <td>3</td>\n",
       "      <td>male</td>\n",
       "      <td>26.0</td>\n",
       "      <td>0</td>\n",
       "      <td>0</td>\n",
       "      <td>359309</td>\n",
       "      <td>8.0500</td>\n",
       "      <td>NaN</td>\n",
       "      <td>S</td>\n",
       "      <td>2</td>\n",
       "      <td>2</td>\n",
       "      <td>0</td>\n",
       "    </tr>\n",
       "    <tr>\n",
       "      <th>1308</th>\n",
       "      <td>3</td>\n",
       "      <td>male</td>\n",
       "      <td>4.0</td>\n",
       "      <td>1</td>\n",
       "      <td>1</td>\n",
       "      <td>2668</td>\n",
       "      <td>22.3583</td>\n",
       "      <td>NaN</td>\n",
       "      <td>C</td>\n",
       "      <td>0</td>\n",
       "      <td>0</td>\n",
       "      <td>1</td>\n",
       "    </tr>\n",
       "  </tbody>\n",
       "</table>\n",
       "<p>1309 rows × 12 columns</p>\n",
       "</div>"
      ],
      "text/plain": [
       "      Pclass     Sex   Age  SibSp  Parch              Ticket      Fare Cabin  \\\n",
       "0          3    male  22.0      1      0           A/5 21171    7.2500   NaN   \n",
       "1          1  female  38.0      1      0            PC 17599   71.2833   C85   \n",
       "2          3  female  26.0      0      0    STON/O2. 3101282    7.9250   NaN   \n",
       "3          1  female  35.0      1      0              113803   53.1000  C123   \n",
       "4          3    male  35.0      0      0              373450    8.0500   NaN   \n",
       "...      ...     ...   ...    ...    ...                 ...       ...   ...   \n",
       "1304       3    male  26.0      0      0           A.5. 3236    8.0500   NaN   \n",
       "1305       1  female  39.0      0      0            PC 17758  108.9000  C105   \n",
       "1306       3    male  38.5      0      0  SOTON/O.Q. 3101262    7.2500   NaN   \n",
       "1307       3    male  26.0      0      0              359309    8.0500   NaN   \n",
       "1308       3    male   4.0      1      1                2668   22.3583   NaN   \n",
       "\n",
       "     Embarked  Title  AgeGroup  IsChild  \n",
       "0           S      2         2        0  \n",
       "1           C      3         3        0  \n",
       "2           S      1         2        0  \n",
       "3           S      3         3        0  \n",
       "4           S      2         3        0  \n",
       "...       ...    ...       ...      ...  \n",
       "1304        S      2         2        0  \n",
       "1305        C      6         3        0  \n",
       "1306        S      2         3        0  \n",
       "1307        S      2         2        0  \n",
       "1308        C      0         0        1  \n",
       "\n",
       "[1309 rows x 12 columns]"
      ]
     },
     "execution_count": 44,
     "metadata": {},
     "output_type": "execute_result"
    }
   ],
   "source": [
    "combined"
   ]
  },
  {
   "cell_type": "markdown",
   "metadata": {
    "id": "nSp9x_3JXdPX"
   },
   "source": [
    "*Kodujemy dane Embarked*"
   ]
  },
  {
   "cell_type": "code",
   "execution_count": 45,
   "metadata": {
    "colab": {
     "base_uri": "https://localhost:8080/"
    },
    "executionInfo": {
     "elapsed": 48,
     "status": "ok",
     "timestamp": 1652543132470,
     "user": {
      "displayName": "Bartłomiej Szwaja",
      "userId": "05031139790190467787"
     },
     "user_tz": -120
    },
    "id": "h-1I7E93XdPX",
    "outputId": "55191bfb-16f9-4471-bd8f-5c53713e42c6"
   },
   "outputs": [
    {
     "data": {
      "text/plain": [
       "LabelEncoder()"
      ]
     },
     "execution_count": 45,
     "metadata": {},
     "output_type": "execute_result"
    }
   ],
   "source": [
    "le = preprocessing.LabelEncoder()\n",
    "le.fit(combined['Embarked'])"
   ]
  },
  {
   "cell_type": "code",
   "execution_count": 46,
   "metadata": {
    "colab": {
     "base_uri": "https://localhost:8080/"
    },
    "executionInfo": {
     "elapsed": 45,
     "status": "ok",
     "timestamp": 1652543132470,
     "user": {
      "displayName": "Bartłomiej Szwaja",
      "userId": "05031139790190467787"
     },
     "user_tz": -120
    },
    "id": "M7XoYHKCXdPX",
    "outputId": "43d1c1a4-8b8a-499b-e8da-d0eb1015768d"
   },
   "outputs": [
    {
     "data": {
      "text/plain": [
       "array(['C', 'Q', 'S'], dtype=object)"
      ]
     },
     "execution_count": 46,
     "metadata": {},
     "output_type": "execute_result"
    }
   ],
   "source": [
    "le.classes_"
   ]
  },
  {
   "cell_type": "code",
   "execution_count": 47,
   "metadata": {
    "executionInfo": {
     "elapsed": 46,
     "status": "ok",
     "timestamp": 1652543132471,
     "user": {
      "displayName": "Bartłomiej Szwaja",
      "userId": "05031139790190467787"
     },
     "user_tz": -120
    },
    "id": "rH_eueKuXdPY"
   },
   "outputs": [],
   "source": [
    "combined['Embarked'] = le.transform(combined['Embarked'])"
   ]
  },
  {
   "cell_type": "code",
   "execution_count": 48,
   "metadata": {
    "colab": {
     "base_uri": "https://localhost:8080/",
     "height": 0
    },
    "executionInfo": {
     "elapsed": 45,
     "status": "ok",
     "timestamp": 1652543132471,
     "user": {
      "displayName": "Bartłomiej Szwaja",
      "userId": "05031139790190467787"
     },
     "user_tz": -120
    },
    "id": "8w5gF3JUXdPY",
    "outputId": "90ca5f8e-a2f5-409b-e865-e5ba14b763fc"
   },
   "outputs": [
    {
     "data": {
      "text/html": [
       "<div>\n",
       "<style scoped>\n",
       "    .dataframe tbody tr th:only-of-type {\n",
       "        vertical-align: middle;\n",
       "    }\n",
       "\n",
       "    .dataframe tbody tr th {\n",
       "        vertical-align: top;\n",
       "    }\n",
       "\n",
       "    .dataframe thead th {\n",
       "        text-align: right;\n",
       "    }\n",
       "</style>\n",
       "<table border=\"1\" class=\"dataframe\">\n",
       "  <thead>\n",
       "    <tr style=\"text-align: right;\">\n",
       "      <th></th>\n",
       "      <th>Pclass</th>\n",
       "      <th>Sex</th>\n",
       "      <th>Age</th>\n",
       "      <th>SibSp</th>\n",
       "      <th>Parch</th>\n",
       "      <th>Ticket</th>\n",
       "      <th>Fare</th>\n",
       "      <th>Cabin</th>\n",
       "      <th>Embarked</th>\n",
       "      <th>Title</th>\n",
       "      <th>AgeGroup</th>\n",
       "      <th>IsChild</th>\n",
       "    </tr>\n",
       "  </thead>\n",
       "  <tbody>\n",
       "    <tr>\n",
       "      <th>0</th>\n",
       "      <td>3</td>\n",
       "      <td>male</td>\n",
       "      <td>22.0</td>\n",
       "      <td>1</td>\n",
       "      <td>0</td>\n",
       "      <td>A/5 21171</td>\n",
       "      <td>7.2500</td>\n",
       "      <td>NaN</td>\n",
       "      <td>2</td>\n",
       "      <td>2</td>\n",
       "      <td>2</td>\n",
       "      <td>0</td>\n",
       "    </tr>\n",
       "    <tr>\n",
       "      <th>1</th>\n",
       "      <td>1</td>\n",
       "      <td>female</td>\n",
       "      <td>38.0</td>\n",
       "      <td>1</td>\n",
       "      <td>0</td>\n",
       "      <td>PC 17599</td>\n",
       "      <td>71.2833</td>\n",
       "      <td>C85</td>\n",
       "      <td>0</td>\n",
       "      <td>3</td>\n",
       "      <td>3</td>\n",
       "      <td>0</td>\n",
       "    </tr>\n",
       "    <tr>\n",
       "      <th>2</th>\n",
       "      <td>3</td>\n",
       "      <td>female</td>\n",
       "      <td>26.0</td>\n",
       "      <td>0</td>\n",
       "      <td>0</td>\n",
       "      <td>STON/O2. 3101282</td>\n",
       "      <td>7.9250</td>\n",
       "      <td>NaN</td>\n",
       "      <td>2</td>\n",
       "      <td>1</td>\n",
       "      <td>2</td>\n",
       "      <td>0</td>\n",
       "    </tr>\n",
       "    <tr>\n",
       "      <th>3</th>\n",
       "      <td>1</td>\n",
       "      <td>female</td>\n",
       "      <td>35.0</td>\n",
       "      <td>1</td>\n",
       "      <td>0</td>\n",
       "      <td>113803</td>\n",
       "      <td>53.1000</td>\n",
       "      <td>C123</td>\n",
       "      <td>2</td>\n",
       "      <td>3</td>\n",
       "      <td>3</td>\n",
       "      <td>0</td>\n",
       "    </tr>\n",
       "    <tr>\n",
       "      <th>4</th>\n",
       "      <td>3</td>\n",
       "      <td>male</td>\n",
       "      <td>35.0</td>\n",
       "      <td>0</td>\n",
       "      <td>0</td>\n",
       "      <td>373450</td>\n",
       "      <td>8.0500</td>\n",
       "      <td>NaN</td>\n",
       "      <td>2</td>\n",
       "      <td>2</td>\n",
       "      <td>3</td>\n",
       "      <td>0</td>\n",
       "    </tr>\n",
       "  </tbody>\n",
       "</table>\n",
       "</div>"
      ],
      "text/plain": [
       "   Pclass     Sex   Age  SibSp  Parch            Ticket     Fare Cabin  \\\n",
       "0       3    male  22.0      1      0         A/5 21171   7.2500   NaN   \n",
       "1       1  female  38.0      1      0          PC 17599  71.2833   C85   \n",
       "2       3  female  26.0      0      0  STON/O2. 3101282   7.9250   NaN   \n",
       "3       1  female  35.0      1      0            113803  53.1000  C123   \n",
       "4       3    male  35.0      0      0            373450   8.0500   NaN   \n",
       "\n",
       "   Embarked  Title  AgeGroup  IsChild  \n",
       "0         2      2         2        0  \n",
       "1         0      3         3        0  \n",
       "2         2      1         2        0  \n",
       "3         2      3         3        0  \n",
       "4         2      2         3        0  "
      ]
     },
     "execution_count": 48,
     "metadata": {},
     "output_type": "execute_result"
    }
   ],
   "source": [
    "combined.head()"
   ]
  },
  {
   "cell_type": "markdown",
   "metadata": {
    "id": "vKKfsZBVXdPY"
   },
   "source": [
    "# Processing Cabin"
   ]
  },
  {
   "cell_type": "markdown",
   "metadata": {
    "id": "OBhlovr0XdPY"
   },
   "source": [
    "Okroimy teraz kolumnę Cabin do wartości zachowujących tylko pierwszą literkę"
   ]
  },
  {
   "cell_type": "code",
   "execution_count": 49,
   "metadata": {
    "executionInfo": {
     "elapsed": 44,
     "status": "ok",
     "timestamp": 1652543132471,
     "user": {
      "displayName": "Bartłomiej Szwaja",
      "userId": "05031139790190467787"
     },
     "user_tz": -120
    },
    "id": "Le5FBSy4XdPY"
   },
   "outputs": [],
   "source": [
    "combined['Cabin'] = combined['Cabin'].map(lambda c: c if c!=c else c[0])"
   ]
  },
  {
   "cell_type": "code",
   "execution_count": 50,
   "metadata": {
    "colab": {
     "base_uri": "https://localhost:8080/",
     "height": 0
    },
    "executionInfo": {
     "elapsed": 45,
     "status": "ok",
     "timestamp": 1652543132472,
     "user": {
      "displayName": "Bartłomiej Szwaja",
      "userId": "05031139790190467787"
     },
     "user_tz": -120
    },
    "id": "bpNmZVsxXdPY",
    "outputId": "8bbde945-b351-4528-97f1-3aa26ca966e1"
   },
   "outputs": [
    {
     "data": {
      "text/html": [
       "<div>\n",
       "<style scoped>\n",
       "    .dataframe tbody tr th:only-of-type {\n",
       "        vertical-align: middle;\n",
       "    }\n",
       "\n",
       "    .dataframe tbody tr th {\n",
       "        vertical-align: top;\n",
       "    }\n",
       "\n",
       "    .dataframe thead th {\n",
       "        text-align: right;\n",
       "    }\n",
       "</style>\n",
       "<table border=\"1\" class=\"dataframe\">\n",
       "  <thead>\n",
       "    <tr style=\"text-align: right;\">\n",
       "      <th></th>\n",
       "      <th>Pclass</th>\n",
       "      <th>Sex</th>\n",
       "      <th>Age</th>\n",
       "      <th>SibSp</th>\n",
       "      <th>Parch</th>\n",
       "      <th>Ticket</th>\n",
       "      <th>Fare</th>\n",
       "      <th>Cabin</th>\n",
       "      <th>Embarked</th>\n",
       "      <th>Title</th>\n",
       "      <th>AgeGroup</th>\n",
       "      <th>IsChild</th>\n",
       "    </tr>\n",
       "  </thead>\n",
       "  <tbody>\n",
       "    <tr>\n",
       "      <th>0</th>\n",
       "      <td>3</td>\n",
       "      <td>male</td>\n",
       "      <td>22.0</td>\n",
       "      <td>1</td>\n",
       "      <td>0</td>\n",
       "      <td>A/5 21171</td>\n",
       "      <td>7.2500</td>\n",
       "      <td>NaN</td>\n",
       "      <td>2</td>\n",
       "      <td>2</td>\n",
       "      <td>2</td>\n",
       "      <td>0</td>\n",
       "    </tr>\n",
       "    <tr>\n",
       "      <th>1</th>\n",
       "      <td>1</td>\n",
       "      <td>female</td>\n",
       "      <td>38.0</td>\n",
       "      <td>1</td>\n",
       "      <td>0</td>\n",
       "      <td>PC 17599</td>\n",
       "      <td>71.2833</td>\n",
       "      <td>C</td>\n",
       "      <td>0</td>\n",
       "      <td>3</td>\n",
       "      <td>3</td>\n",
       "      <td>0</td>\n",
       "    </tr>\n",
       "    <tr>\n",
       "      <th>2</th>\n",
       "      <td>3</td>\n",
       "      <td>female</td>\n",
       "      <td>26.0</td>\n",
       "      <td>0</td>\n",
       "      <td>0</td>\n",
       "      <td>STON/O2. 3101282</td>\n",
       "      <td>7.9250</td>\n",
       "      <td>NaN</td>\n",
       "      <td>2</td>\n",
       "      <td>1</td>\n",
       "      <td>2</td>\n",
       "      <td>0</td>\n",
       "    </tr>\n",
       "    <tr>\n",
       "      <th>3</th>\n",
       "      <td>1</td>\n",
       "      <td>female</td>\n",
       "      <td>35.0</td>\n",
       "      <td>1</td>\n",
       "      <td>0</td>\n",
       "      <td>113803</td>\n",
       "      <td>53.1000</td>\n",
       "      <td>C</td>\n",
       "      <td>2</td>\n",
       "      <td>3</td>\n",
       "      <td>3</td>\n",
       "      <td>0</td>\n",
       "    </tr>\n",
       "    <tr>\n",
       "      <th>4</th>\n",
       "      <td>3</td>\n",
       "      <td>male</td>\n",
       "      <td>35.0</td>\n",
       "      <td>0</td>\n",
       "      <td>0</td>\n",
       "      <td>373450</td>\n",
       "      <td>8.0500</td>\n",
       "      <td>NaN</td>\n",
       "      <td>2</td>\n",
       "      <td>2</td>\n",
       "      <td>3</td>\n",
       "      <td>0</td>\n",
       "    </tr>\n",
       "  </tbody>\n",
       "</table>\n",
       "</div>"
      ],
      "text/plain": [
       "   Pclass     Sex   Age  SibSp  Parch            Ticket     Fare Cabin  \\\n",
       "0       3    male  22.0      1      0         A/5 21171   7.2500   NaN   \n",
       "1       1  female  38.0      1      0          PC 17599  71.2833     C   \n",
       "2       3  female  26.0      0      0  STON/O2. 3101282   7.9250   NaN   \n",
       "3       1  female  35.0      1      0            113803  53.1000     C   \n",
       "4       3    male  35.0      0      0            373450   8.0500   NaN   \n",
       "\n",
       "   Embarked  Title  AgeGroup  IsChild  \n",
       "0         2      2         2        0  \n",
       "1         0      3         3        0  \n",
       "2         2      1         2        0  \n",
       "3         2      3         3        0  \n",
       "4         2      2         3        0  "
      ]
     },
     "execution_count": 50,
     "metadata": {},
     "output_type": "execute_result"
    }
   ],
   "source": [
    "combined.head()"
   ]
  },
  {
   "cell_type": "code",
   "execution_count": 51,
   "metadata": {
    "colab": {
     "base_uri": "https://localhost:8080/"
    },
    "executionInfo": {
     "elapsed": 44,
     "status": "ok",
     "timestamp": 1652543132472,
     "user": {
      "displayName": "Bartłomiej Szwaja",
      "userId": "05031139790190467787"
     },
     "user_tz": -120
    },
    "id": "F6TikYRoXdPY",
    "outputId": "aa933460-edaf-442f-c11a-270d1e84423c"
   },
   "outputs": [
    {
     "data": {
      "text/plain": [
       "LabelEncoder()"
      ]
     },
     "execution_count": 51,
     "metadata": {},
     "output_type": "execute_result"
    }
   ],
   "source": [
    "le = preprocessing.LabelEncoder()\n",
    "le.fit(combined['Cabin'])"
   ]
  },
  {
   "cell_type": "code",
   "execution_count": 52,
   "metadata": {
    "colab": {
     "base_uri": "https://localhost:8080/"
    },
    "executionInfo": {
     "elapsed": 44,
     "status": "ok",
     "timestamp": 1652543132472,
     "user": {
      "displayName": "Bartłomiej Szwaja",
      "userId": "05031139790190467787"
     },
     "user_tz": -120
    },
    "id": "tCDbbKBiXdPZ",
    "outputId": "c08e1e70-ccdc-4e6d-e5ed-c0764b189566"
   },
   "outputs": [
    {
     "data": {
      "text/plain": [
       "array(['A', 'B', 'C', 'D', 'E', 'F', 'G', 'T', nan], dtype=object)"
      ]
     },
     "execution_count": 52,
     "metadata": {},
     "output_type": "execute_result"
    }
   ],
   "source": [
    "le.classes_"
   ]
  },
  {
   "cell_type": "code",
   "execution_count": 53,
   "metadata": {
    "executionInfo": {
     "elapsed": 43,
     "status": "ok",
     "timestamp": 1652543132472,
     "user": {
      "displayName": "Bartłomiej Szwaja",
      "userId": "05031139790190467787"
     },
     "user_tz": -120
    },
    "id": "H5Izw9rZXdPZ"
   },
   "outputs": [],
   "source": [
    "combined['Cabin'] = le.transform(combined['Cabin'])"
   ]
  },
  {
   "cell_type": "code",
   "execution_count": 54,
   "metadata": {
    "colab": {
     "base_uri": "https://localhost:8080/",
     "height": 0
    },
    "executionInfo": {
     "elapsed": 44,
     "status": "ok",
     "timestamp": 1652543132473,
     "user": {
      "displayName": "Bartłomiej Szwaja",
      "userId": "05031139790190467787"
     },
     "user_tz": -120
    },
    "id": "yTv_-GTrXdPZ",
    "outputId": "42d29245-6a6b-47c9-b78c-fdba37007521"
   },
   "outputs": [
    {
     "data": {
      "text/html": [
       "<div>\n",
       "<style scoped>\n",
       "    .dataframe tbody tr th:only-of-type {\n",
       "        vertical-align: middle;\n",
       "    }\n",
       "\n",
       "    .dataframe tbody tr th {\n",
       "        vertical-align: top;\n",
       "    }\n",
       "\n",
       "    .dataframe thead th {\n",
       "        text-align: right;\n",
       "    }\n",
       "</style>\n",
       "<table border=\"1\" class=\"dataframe\">\n",
       "  <thead>\n",
       "    <tr style=\"text-align: right;\">\n",
       "      <th></th>\n",
       "      <th>Pclass</th>\n",
       "      <th>Sex</th>\n",
       "      <th>Age</th>\n",
       "      <th>SibSp</th>\n",
       "      <th>Parch</th>\n",
       "      <th>Ticket</th>\n",
       "      <th>Fare</th>\n",
       "      <th>Cabin</th>\n",
       "      <th>Embarked</th>\n",
       "      <th>Title</th>\n",
       "      <th>AgeGroup</th>\n",
       "      <th>IsChild</th>\n",
       "    </tr>\n",
       "  </thead>\n",
       "  <tbody>\n",
       "    <tr>\n",
       "      <th>0</th>\n",
       "      <td>3</td>\n",
       "      <td>male</td>\n",
       "      <td>22.0</td>\n",
       "      <td>1</td>\n",
       "      <td>0</td>\n",
       "      <td>A/5 21171</td>\n",
       "      <td>7.2500</td>\n",
       "      <td>8</td>\n",
       "      <td>2</td>\n",
       "      <td>2</td>\n",
       "      <td>2</td>\n",
       "      <td>0</td>\n",
       "    </tr>\n",
       "    <tr>\n",
       "      <th>1</th>\n",
       "      <td>1</td>\n",
       "      <td>female</td>\n",
       "      <td>38.0</td>\n",
       "      <td>1</td>\n",
       "      <td>0</td>\n",
       "      <td>PC 17599</td>\n",
       "      <td>71.2833</td>\n",
       "      <td>2</td>\n",
       "      <td>0</td>\n",
       "      <td>3</td>\n",
       "      <td>3</td>\n",
       "      <td>0</td>\n",
       "    </tr>\n",
       "    <tr>\n",
       "      <th>2</th>\n",
       "      <td>3</td>\n",
       "      <td>female</td>\n",
       "      <td>26.0</td>\n",
       "      <td>0</td>\n",
       "      <td>0</td>\n",
       "      <td>STON/O2. 3101282</td>\n",
       "      <td>7.9250</td>\n",
       "      <td>8</td>\n",
       "      <td>2</td>\n",
       "      <td>1</td>\n",
       "      <td>2</td>\n",
       "      <td>0</td>\n",
       "    </tr>\n",
       "    <tr>\n",
       "      <th>3</th>\n",
       "      <td>1</td>\n",
       "      <td>female</td>\n",
       "      <td>35.0</td>\n",
       "      <td>1</td>\n",
       "      <td>0</td>\n",
       "      <td>113803</td>\n",
       "      <td>53.1000</td>\n",
       "      <td>2</td>\n",
       "      <td>2</td>\n",
       "      <td>3</td>\n",
       "      <td>3</td>\n",
       "      <td>0</td>\n",
       "    </tr>\n",
       "    <tr>\n",
       "      <th>4</th>\n",
       "      <td>3</td>\n",
       "      <td>male</td>\n",
       "      <td>35.0</td>\n",
       "      <td>0</td>\n",
       "      <td>0</td>\n",
       "      <td>373450</td>\n",
       "      <td>8.0500</td>\n",
       "      <td>8</td>\n",
       "      <td>2</td>\n",
       "      <td>2</td>\n",
       "      <td>3</td>\n",
       "      <td>0</td>\n",
       "    </tr>\n",
       "  </tbody>\n",
       "</table>\n",
       "</div>"
      ],
      "text/plain": [
       "   Pclass     Sex   Age  SibSp  Parch            Ticket     Fare  Cabin  \\\n",
       "0       3    male  22.0      1      0         A/5 21171   7.2500      8   \n",
       "1       1  female  38.0      1      0          PC 17599  71.2833      2   \n",
       "2       3  female  26.0      0      0  STON/O2. 3101282   7.9250      8   \n",
       "3       1  female  35.0      1      0            113803  53.1000      2   \n",
       "4       3    male  35.0      0      0            373450   8.0500      8   \n",
       "\n",
       "   Embarked  Title  AgeGroup  IsChild  \n",
       "0         2      2         2        0  \n",
       "1         0      3         3        0  \n",
       "2         2      1         2        0  \n",
       "3         2      3         3        0  \n",
       "4         2      2         3        0  "
      ]
     },
     "execution_count": 54,
     "metadata": {},
     "output_type": "execute_result"
    }
   ],
   "source": [
    "combined.head()"
   ]
  },
  {
   "cell_type": "markdown",
   "metadata": {
    "id": "pe7TvgrYXdPZ"
   },
   "source": [
    "# Processing Sex"
   ]
  },
  {
   "cell_type": "code",
   "execution_count": 55,
   "metadata": {
    "colab": {
     "base_uri": "https://localhost:8080/"
    },
    "executionInfo": {
     "elapsed": 43,
     "status": "ok",
     "timestamp": 1652543132473,
     "user": {
      "displayName": "Bartłomiej Szwaja",
      "userId": "05031139790190467787"
     },
     "user_tz": -120
    },
    "id": "XZj6VokMXdPZ",
    "outputId": "809407b9-6a0d-4016-9577-43795a55ae27"
   },
   "outputs": [
    {
     "data": {
      "text/plain": [
       "LabelEncoder()"
      ]
     },
     "execution_count": 55,
     "metadata": {},
     "output_type": "execute_result"
    }
   ],
   "source": [
    "le = preprocessing.LabelEncoder()\n",
    "le.fit(combined['Sex'])"
   ]
  },
  {
   "cell_type": "code",
   "execution_count": 56,
   "metadata": {
    "executionInfo": {
     "elapsed": 43,
     "status": "ok",
     "timestamp": 1652543132473,
     "user": {
      "displayName": "Bartłomiej Szwaja",
      "userId": "05031139790190467787"
     },
     "user_tz": -120
    },
    "id": "2ROCzGWFXdPZ"
   },
   "outputs": [],
   "source": [
    "combined['Sex'] = le.transform(combined['Sex'])"
   ]
  },
  {
   "cell_type": "code",
   "execution_count": 57,
   "metadata": {
    "colab": {
     "base_uri": "https://localhost:8080/",
     "height": 0
    },
    "executionInfo": {
     "elapsed": 42,
     "status": "ok",
     "timestamp": 1652543132473,
     "user": {
      "displayName": "Bartłomiej Szwaja",
      "userId": "05031139790190467787"
     },
     "user_tz": -120
    },
    "id": "VIIwhZ5MXdPa",
    "outputId": "bb3732dd-4857-4d09-b265-179cfc1abef8"
   },
   "outputs": [
    {
     "data": {
      "text/html": [
       "<div>\n",
       "<style scoped>\n",
       "    .dataframe tbody tr th:only-of-type {\n",
       "        vertical-align: middle;\n",
       "    }\n",
       "\n",
       "    .dataframe tbody tr th {\n",
       "        vertical-align: top;\n",
       "    }\n",
       "\n",
       "    .dataframe thead th {\n",
       "        text-align: right;\n",
       "    }\n",
       "</style>\n",
       "<table border=\"1\" class=\"dataframe\">\n",
       "  <thead>\n",
       "    <tr style=\"text-align: right;\">\n",
       "      <th></th>\n",
       "      <th>Pclass</th>\n",
       "      <th>Sex</th>\n",
       "      <th>Age</th>\n",
       "      <th>SibSp</th>\n",
       "      <th>Parch</th>\n",
       "      <th>Ticket</th>\n",
       "      <th>Fare</th>\n",
       "      <th>Cabin</th>\n",
       "      <th>Embarked</th>\n",
       "      <th>Title</th>\n",
       "      <th>AgeGroup</th>\n",
       "      <th>IsChild</th>\n",
       "    </tr>\n",
       "  </thead>\n",
       "  <tbody>\n",
       "    <tr>\n",
       "      <th>0</th>\n",
       "      <td>3</td>\n",
       "      <td>1</td>\n",
       "      <td>22.0</td>\n",
       "      <td>1</td>\n",
       "      <td>0</td>\n",
       "      <td>A/5 21171</td>\n",
       "      <td>7.2500</td>\n",
       "      <td>8</td>\n",
       "      <td>2</td>\n",
       "      <td>2</td>\n",
       "      <td>2</td>\n",
       "      <td>0</td>\n",
       "    </tr>\n",
       "    <tr>\n",
       "      <th>1</th>\n",
       "      <td>1</td>\n",
       "      <td>0</td>\n",
       "      <td>38.0</td>\n",
       "      <td>1</td>\n",
       "      <td>0</td>\n",
       "      <td>PC 17599</td>\n",
       "      <td>71.2833</td>\n",
       "      <td>2</td>\n",
       "      <td>0</td>\n",
       "      <td>3</td>\n",
       "      <td>3</td>\n",
       "      <td>0</td>\n",
       "    </tr>\n",
       "    <tr>\n",
       "      <th>2</th>\n",
       "      <td>3</td>\n",
       "      <td>0</td>\n",
       "      <td>26.0</td>\n",
       "      <td>0</td>\n",
       "      <td>0</td>\n",
       "      <td>STON/O2. 3101282</td>\n",
       "      <td>7.9250</td>\n",
       "      <td>8</td>\n",
       "      <td>2</td>\n",
       "      <td>1</td>\n",
       "      <td>2</td>\n",
       "      <td>0</td>\n",
       "    </tr>\n",
       "    <tr>\n",
       "      <th>3</th>\n",
       "      <td>1</td>\n",
       "      <td>0</td>\n",
       "      <td>35.0</td>\n",
       "      <td>1</td>\n",
       "      <td>0</td>\n",
       "      <td>113803</td>\n",
       "      <td>53.1000</td>\n",
       "      <td>2</td>\n",
       "      <td>2</td>\n",
       "      <td>3</td>\n",
       "      <td>3</td>\n",
       "      <td>0</td>\n",
       "    </tr>\n",
       "    <tr>\n",
       "      <th>4</th>\n",
       "      <td>3</td>\n",
       "      <td>1</td>\n",
       "      <td>35.0</td>\n",
       "      <td>0</td>\n",
       "      <td>0</td>\n",
       "      <td>373450</td>\n",
       "      <td>8.0500</td>\n",
       "      <td>8</td>\n",
       "      <td>2</td>\n",
       "      <td>2</td>\n",
       "      <td>3</td>\n",
       "      <td>0</td>\n",
       "    </tr>\n",
       "  </tbody>\n",
       "</table>\n",
       "</div>"
      ],
      "text/plain": [
       "   Pclass  Sex   Age  SibSp  Parch            Ticket     Fare  Cabin  \\\n",
       "0       3    1  22.0      1      0         A/5 21171   7.2500      8   \n",
       "1       1    0  38.0      1      0          PC 17599  71.2833      2   \n",
       "2       3    0  26.0      0      0  STON/O2. 3101282   7.9250      8   \n",
       "3       1    0  35.0      1      0            113803  53.1000      2   \n",
       "4       3    1  35.0      0      0            373450   8.0500      8   \n",
       "\n",
       "   Embarked  Title  AgeGroup  IsChild  \n",
       "0         2      2         2        0  \n",
       "1         0      3         3        0  \n",
       "2         2      1         2        0  \n",
       "3         2      3         3        0  \n",
       "4         2      2         3        0  "
      ]
     },
     "execution_count": 57,
     "metadata": {},
     "output_type": "execute_result"
    }
   ],
   "source": [
    "combined.head()"
   ]
  },
  {
   "cell_type": "markdown",
   "metadata": {
    "id": "_fScpKRQXdPa"
   },
   "source": [
    "# Processing Ticket"
   ]
  },
  {
   "cell_type": "markdown",
   "metadata": {
    "id": "KxwCX47XXdPa"
   },
   "source": [
    "Spróbujmy przerobić jakoś Ticket"
   ]
  },
  {
   "cell_type": "markdown",
   "metadata": {
    "id": "hCCWsRhgXdPa"
   },
   "source": [
    "Usuńmy więc znaki:      **/**     **.**"
   ]
  },
  {
   "cell_type": "code",
   "execution_count": 58,
   "metadata": {
    "colab": {
     "base_uri": "https://localhost:8080/"
    },
    "executionInfo": {
     "elapsed": 43,
     "status": "ok",
     "timestamp": 1652543132474,
     "user": {
      "displayName": "Bartłomiej Szwaja",
      "userId": "05031139790190467787"
     },
     "user_tz": -120
    },
    "id": "o2Wy31XkXdPa",
    "outputId": "f8daa8a9-656b-474b-a1f1-4dcc1436245d"
   },
   "outputs": [
    {
     "name": "stdout",
     "output_type": "stream",
     "text": [
      "37\n"
     ]
    }
   ],
   "source": [
    "def cleanTicket(ticket):\n",
    "    ticket = ticket.replace('.', '')\n",
    "    ticket = ticket.replace('/', '')\n",
    "    ticket = ticket.split()\n",
    "    ticket = map(lambda t : t.strip(), ticket)\n",
    "    ticket = list(filter(lambda t : not t.isdigit(), ticket))\n",
    "    if len(ticket) > 0:\n",
    "        return ticket[0]\n",
    "    else: \n",
    "        return 'N/A'\n",
    "\n",
    "tickets = set()\n",
    "for t in combined['Ticket']:\n",
    "    tickets.add(cleanTicket(t))\n",
    "\n",
    "print(len(tickets))"
   ]
  },
  {
   "cell_type": "code",
   "execution_count": 59,
   "metadata": {
    "colab": {
     "base_uri": "https://localhost:8080/"
    },
    "executionInfo": {
     "elapsed": 42,
     "status": "ok",
     "timestamp": 1652543132474,
     "user": {
      "displayName": "Bartłomiej Szwaja",
      "userId": "05031139790190467787"
     },
     "user_tz": -120
    },
    "id": "Up6UbkRSXdPa",
    "outputId": "c635c1f0-ba1d-470c-a650-5d50cd13607b"
   },
   "outputs": [
    {
     "name": "stdout",
     "output_type": "stream",
     "text": [
      "{'C', 'SOTONO2', 'STONO2', 'PP', 'AQ3', 'WC', 'SOPP', 'SOTONOQ', 'SCAH', 'LP', 'N/A', 'SC', 'AQ4', 'Fa', 'STONOQ', 'SCA4', 'SOP', 'SCOW', 'AS', 'FCC', 'STONO', 'SCA3', 'A', 'FC', 'PPP', 'A4', 'SCPARIS', 'LINE', 'SWPP', 'CASOTON', 'SCParis', 'WEP', 'SP', 'CA', 'SOC', 'A5', 'PC'}\n"
     ]
    }
   ],
   "source": [
    "print(tickets)"
   ]
  },
  {
   "cell_type": "markdown",
   "metadata": {
    "id": "q-_n3WvKXdPb"
   },
   "source": [
    "Zostawiamy tylko przedrostki biletów, ich numery nas nie interesują"
   ]
  },
  {
   "cell_type": "code",
   "execution_count": 60,
   "metadata": {
    "executionInfo": {
     "elapsed": 42,
     "status": "ok",
     "timestamp": 1652543132474,
     "user": {
      "displayName": "Bartłomiej Szwaja",
      "userId": "05031139790190467787"
     },
     "user_tz": -120
    },
    "id": "zUCxOhFTXdPb"
   },
   "outputs": [],
   "source": [
    "combined['Ticket'] = combined['Ticket'].map(cleanTicket)"
   ]
  },
  {
   "cell_type": "code",
   "execution_count": 61,
   "metadata": {
    "colab": {
     "base_uri": "https://localhost:8080/",
     "height": 0
    },
    "executionInfo": {
     "elapsed": 41,
     "status": "ok",
     "timestamp": 1652543132474,
     "user": {
      "displayName": "Bartłomiej Szwaja",
      "userId": "05031139790190467787"
     },
     "user_tz": -120
    },
    "id": "rcM1_NFMXdPb",
    "outputId": "c205c2ce-f474-4339-b557-d115acdff052"
   },
   "outputs": [
    {
     "data": {
      "text/html": [
       "<div>\n",
       "<style scoped>\n",
       "    .dataframe tbody tr th:only-of-type {\n",
       "        vertical-align: middle;\n",
       "    }\n",
       "\n",
       "    .dataframe tbody tr th {\n",
       "        vertical-align: top;\n",
       "    }\n",
       "\n",
       "    .dataframe thead th {\n",
       "        text-align: right;\n",
       "    }\n",
       "</style>\n",
       "<table border=\"1\" class=\"dataframe\">\n",
       "  <thead>\n",
       "    <tr style=\"text-align: right;\">\n",
       "      <th></th>\n",
       "      <th>Pclass</th>\n",
       "      <th>Sex</th>\n",
       "      <th>Age</th>\n",
       "      <th>SibSp</th>\n",
       "      <th>Parch</th>\n",
       "      <th>Ticket</th>\n",
       "      <th>Fare</th>\n",
       "      <th>Cabin</th>\n",
       "      <th>Embarked</th>\n",
       "      <th>Title</th>\n",
       "      <th>AgeGroup</th>\n",
       "      <th>IsChild</th>\n",
       "    </tr>\n",
       "  </thead>\n",
       "  <tbody>\n",
       "    <tr>\n",
       "      <th>0</th>\n",
       "      <td>3</td>\n",
       "      <td>1</td>\n",
       "      <td>22.0</td>\n",
       "      <td>1</td>\n",
       "      <td>0</td>\n",
       "      <td>A5</td>\n",
       "      <td>7.2500</td>\n",
       "      <td>8</td>\n",
       "      <td>2</td>\n",
       "      <td>2</td>\n",
       "      <td>2</td>\n",
       "      <td>0</td>\n",
       "    </tr>\n",
       "    <tr>\n",
       "      <th>1</th>\n",
       "      <td>1</td>\n",
       "      <td>0</td>\n",
       "      <td>38.0</td>\n",
       "      <td>1</td>\n",
       "      <td>0</td>\n",
       "      <td>PC</td>\n",
       "      <td>71.2833</td>\n",
       "      <td>2</td>\n",
       "      <td>0</td>\n",
       "      <td>3</td>\n",
       "      <td>3</td>\n",
       "      <td>0</td>\n",
       "    </tr>\n",
       "    <tr>\n",
       "      <th>2</th>\n",
       "      <td>3</td>\n",
       "      <td>0</td>\n",
       "      <td>26.0</td>\n",
       "      <td>0</td>\n",
       "      <td>0</td>\n",
       "      <td>STONO2</td>\n",
       "      <td>7.9250</td>\n",
       "      <td>8</td>\n",
       "      <td>2</td>\n",
       "      <td>1</td>\n",
       "      <td>2</td>\n",
       "      <td>0</td>\n",
       "    </tr>\n",
       "    <tr>\n",
       "      <th>3</th>\n",
       "      <td>1</td>\n",
       "      <td>0</td>\n",
       "      <td>35.0</td>\n",
       "      <td>1</td>\n",
       "      <td>0</td>\n",
       "      <td>N/A</td>\n",
       "      <td>53.1000</td>\n",
       "      <td>2</td>\n",
       "      <td>2</td>\n",
       "      <td>3</td>\n",
       "      <td>3</td>\n",
       "      <td>0</td>\n",
       "    </tr>\n",
       "    <tr>\n",
       "      <th>4</th>\n",
       "      <td>3</td>\n",
       "      <td>1</td>\n",
       "      <td>35.0</td>\n",
       "      <td>0</td>\n",
       "      <td>0</td>\n",
       "      <td>N/A</td>\n",
       "      <td>8.0500</td>\n",
       "      <td>8</td>\n",
       "      <td>2</td>\n",
       "      <td>2</td>\n",
       "      <td>3</td>\n",
       "      <td>0</td>\n",
       "    </tr>\n",
       "  </tbody>\n",
       "</table>\n",
       "</div>"
      ],
      "text/plain": [
       "   Pclass  Sex   Age  SibSp  Parch  Ticket     Fare  Cabin  Embarked  Title  \\\n",
       "0       3    1  22.0      1      0      A5   7.2500      8         2      2   \n",
       "1       1    0  38.0      1      0      PC  71.2833      2         0      3   \n",
       "2       3    0  26.0      0      0  STONO2   7.9250      8         2      1   \n",
       "3       1    0  35.0      1      0     N/A  53.1000      2         2      3   \n",
       "4       3    1  35.0      0      0     N/A   8.0500      8         2      2   \n",
       "\n",
       "   AgeGroup  IsChild  \n",
       "0         2        0  \n",
       "1         3        0  \n",
       "2         2        0  \n",
       "3         3        0  \n",
       "4         3        0  "
      ]
     },
     "execution_count": 61,
     "metadata": {},
     "output_type": "execute_result"
    }
   ],
   "source": [
    "combined.head()"
   ]
  },
  {
   "cell_type": "markdown",
   "metadata": {
    "id": "YUlVK11VXdPb"
   },
   "source": [
    "*Kodujemy Ticket*"
   ]
  },
  {
   "cell_type": "code",
   "execution_count": 62,
   "metadata": {
    "colab": {
     "base_uri": "https://localhost:8080/"
    },
    "executionInfo": {
     "elapsed": 461,
     "status": "ok",
     "timestamp": 1652543132895,
     "user": {
      "displayName": "Bartłomiej Szwaja",
      "userId": "05031139790190467787"
     },
     "user_tz": -120
    },
    "id": "VPZ4TuuYXdPb",
    "outputId": "99c78793-c0bf-4e2c-a2e7-9805c44164a8"
   },
   "outputs": [
    {
     "data": {
      "text/plain": [
       "LabelEncoder()"
      ]
     },
     "execution_count": 62,
     "metadata": {},
     "output_type": "execute_result"
    }
   ],
   "source": [
    "le = preprocessing.LabelEncoder()\n",
    "le.fit(combined['Ticket'])"
   ]
  },
  {
   "cell_type": "code",
   "execution_count": 63,
   "metadata": {
    "executionInfo": {
     "elapsed": 96,
     "status": "ok",
     "timestamp": 1652543132896,
     "user": {
      "displayName": "Bartłomiej Szwaja",
      "userId": "05031139790190467787"
     },
     "user_tz": -120
    },
    "id": "a383Zbn9XdPb"
   },
   "outputs": [],
   "source": [
    "combined['Ticket'] = le.transform(combined['Ticket'])"
   ]
  },
  {
   "cell_type": "code",
   "execution_count": 64,
   "metadata": {
    "colab": {
     "base_uri": "https://localhost:8080/",
     "height": 0
    },
    "executionInfo": {
     "elapsed": 96,
     "status": "ok",
     "timestamp": 1652543132896,
     "user": {
      "displayName": "Bartłomiej Szwaja",
      "userId": "05031139790190467787"
     },
     "user_tz": -120
    },
    "id": "ASL7IoXKXdPc",
    "outputId": "8b32e052-e8c2-49ee-da62-a75f88631c89"
   },
   "outputs": [
    {
     "data": {
      "text/html": [
       "<div>\n",
       "<style scoped>\n",
       "    .dataframe tbody tr th:only-of-type {\n",
       "        vertical-align: middle;\n",
       "    }\n",
       "\n",
       "    .dataframe tbody tr th {\n",
       "        vertical-align: top;\n",
       "    }\n",
       "\n",
       "    .dataframe thead th {\n",
       "        text-align: right;\n",
       "    }\n",
       "</style>\n",
       "<table border=\"1\" class=\"dataframe\">\n",
       "  <thead>\n",
       "    <tr style=\"text-align: right;\">\n",
       "      <th></th>\n",
       "      <th>Pclass</th>\n",
       "      <th>Sex</th>\n",
       "      <th>Age</th>\n",
       "      <th>SibSp</th>\n",
       "      <th>Parch</th>\n",
       "      <th>Ticket</th>\n",
       "      <th>Fare</th>\n",
       "      <th>Cabin</th>\n",
       "      <th>Embarked</th>\n",
       "      <th>Title</th>\n",
       "      <th>AgeGroup</th>\n",
       "      <th>IsChild</th>\n",
       "    </tr>\n",
       "  </thead>\n",
       "  <tbody>\n",
       "    <tr>\n",
       "      <th>0</th>\n",
       "      <td>3</td>\n",
       "      <td>1</td>\n",
       "      <td>22.0</td>\n",
       "      <td>1</td>\n",
       "      <td>0</td>\n",
       "      <td>2</td>\n",
       "      <td>7.2500</td>\n",
       "      <td>8</td>\n",
       "      <td>2</td>\n",
       "      <td>2</td>\n",
       "      <td>2</td>\n",
       "      <td>0</td>\n",
       "    </tr>\n",
       "    <tr>\n",
       "      <th>1</th>\n",
       "      <td>1</td>\n",
       "      <td>0</td>\n",
       "      <td>38.0</td>\n",
       "      <td>1</td>\n",
       "      <td>0</td>\n",
       "      <td>15</td>\n",
       "      <td>71.2833</td>\n",
       "      <td>2</td>\n",
       "      <td>0</td>\n",
       "      <td>3</td>\n",
       "      <td>3</td>\n",
       "      <td>0</td>\n",
       "    </tr>\n",
       "    <tr>\n",
       "      <th>2</th>\n",
       "      <td>3</td>\n",
       "      <td>0</td>\n",
       "      <td>26.0</td>\n",
       "      <td>0</td>\n",
       "      <td>0</td>\n",
       "      <td>32</td>\n",
       "      <td>7.9250</td>\n",
       "      <td>8</td>\n",
       "      <td>2</td>\n",
       "      <td>1</td>\n",
       "      <td>2</td>\n",
       "      <td>0</td>\n",
       "    </tr>\n",
       "    <tr>\n",
       "      <th>3</th>\n",
       "      <td>1</td>\n",
       "      <td>0</td>\n",
       "      <td>35.0</td>\n",
       "      <td>1</td>\n",
       "      <td>0</td>\n",
       "      <td>14</td>\n",
       "      <td>53.1000</td>\n",
       "      <td>2</td>\n",
       "      <td>2</td>\n",
       "      <td>3</td>\n",
       "      <td>3</td>\n",
       "      <td>0</td>\n",
       "    </tr>\n",
       "    <tr>\n",
       "      <th>4</th>\n",
       "      <td>3</td>\n",
       "      <td>1</td>\n",
       "      <td>35.0</td>\n",
       "      <td>0</td>\n",
       "      <td>0</td>\n",
       "      <td>14</td>\n",
       "      <td>8.0500</td>\n",
       "      <td>8</td>\n",
       "      <td>2</td>\n",
       "      <td>2</td>\n",
       "      <td>3</td>\n",
       "      <td>0</td>\n",
       "    </tr>\n",
       "  </tbody>\n",
       "</table>\n",
       "</div>"
      ],
      "text/plain": [
       "   Pclass  Sex   Age  SibSp  Parch  Ticket     Fare  Cabin  Embarked  Title  \\\n",
       "0       3    1  22.0      1      0       2   7.2500      8         2      2   \n",
       "1       1    0  38.0      1      0      15  71.2833      2         0      3   \n",
       "2       3    0  26.0      0      0      32   7.9250      8         2      1   \n",
       "3       1    0  35.0      1      0      14  53.1000      2         2      3   \n",
       "4       3    1  35.0      0      0      14   8.0500      8         2      2   \n",
       "\n",
       "   AgeGroup  IsChild  \n",
       "0         2        0  \n",
       "1         3        0  \n",
       "2         2        0  \n",
       "3         3        0  \n",
       "4         3        0  "
      ]
     },
     "execution_count": 64,
     "metadata": {},
     "output_type": "execute_result"
    }
   ],
   "source": [
    "combined.head()"
   ]
  },
  {
   "cell_type": "code",
   "execution_count": null,
   "metadata": {
    "executionInfo": {
     "elapsed": 95,
     "status": "ok",
     "timestamp": 1652543132897,
     "user": {
      "displayName": "Bartłomiej Szwaja",
      "userId": "05031139790190467787"
     },
     "user_tz": -120
    },
    "id": "oCJPzC-eXdPc"
   },
   "outputs": [],
   "source": []
  },
  {
   "cell_type": "code",
   "execution_count": null,
   "metadata": {
    "executionInfo": {
     "elapsed": 95,
     "status": "ok",
     "timestamp": 1652543132897,
     "user": {
      "displayName": "Bartłomiej Szwaja",
      "userId": "05031139790190467787"
     },
     "user_tz": -120
    },
    "id": "_mfAcWXXXdPc"
   },
   "outputs": [],
   "source": []
  },
  {
   "cell_type": "code",
   "execution_count": null,
   "metadata": {
    "executionInfo": {
     "elapsed": 94,
     "status": "ok",
     "timestamp": 1652543132897,
     "user": {
      "displayName": "Bartłomiej Szwaja",
      "userId": "05031139790190467787"
     },
     "user_tz": -120
    },
    "id": "zBmZIT18XdPc"
   },
   "outputs": [],
   "source": []
  },
  {
   "cell_type": "markdown",
   "metadata": {
    "id": "W8riRbgEXdPc"
   },
   "source": [
    "# Processing Family"
   ]
  },
  {
   "cell_type": "code",
   "execution_count": 65,
   "metadata": {
    "executionInfo": {
     "elapsed": 95,
     "status": "ok",
     "timestamp": 1652543132898,
     "user": {
      "displayName": "Bartłomiej Szwaja",
      "userId": "05031139790190467787"
     },
     "user_tz": -120
    },
    "id": "-7GPNNYaXdPc"
   },
   "outputs": [],
   "source": [
    "combined['FamilySize'] = combined['Parch'] + combined['SibSp'] + 1"
   ]
  },
  {
   "cell_type": "code",
   "execution_count": 66,
   "metadata": {
    "colab": {
     "base_uri": "https://localhost:8080/",
     "height": 206
    },
    "executionInfo": {
     "elapsed": 94,
     "status": "ok",
     "timestamp": 1652543132898,
     "user": {
      "displayName": "Bartłomiej Szwaja",
      "userId": "05031139790190467787"
     },
     "user_tz": -120
    },
    "id": "hid9NTHAXdPc",
    "outputId": "74a3fc30-07d5-471d-cedd-141ba716f38d"
   },
   "outputs": [
    {
     "data": {
      "text/html": [
       "<div>\n",
       "<style scoped>\n",
       "    .dataframe tbody tr th:only-of-type {\n",
       "        vertical-align: middle;\n",
       "    }\n",
       "\n",
       "    .dataframe tbody tr th {\n",
       "        vertical-align: top;\n",
       "    }\n",
       "\n",
       "    .dataframe thead th {\n",
       "        text-align: right;\n",
       "    }\n",
       "</style>\n",
       "<table border=\"1\" class=\"dataframe\">\n",
       "  <thead>\n",
       "    <tr style=\"text-align: right;\">\n",
       "      <th></th>\n",
       "      <th>Pclass</th>\n",
       "      <th>Sex</th>\n",
       "      <th>Age</th>\n",
       "      <th>SibSp</th>\n",
       "      <th>Parch</th>\n",
       "      <th>Ticket</th>\n",
       "      <th>Fare</th>\n",
       "      <th>Cabin</th>\n",
       "      <th>Embarked</th>\n",
       "      <th>Title</th>\n",
       "      <th>AgeGroup</th>\n",
       "      <th>IsChild</th>\n",
       "      <th>FamilySize</th>\n",
       "    </tr>\n",
       "  </thead>\n",
       "  <tbody>\n",
       "    <tr>\n",
       "      <th>0</th>\n",
       "      <td>3</td>\n",
       "      <td>1</td>\n",
       "      <td>22.0</td>\n",
       "      <td>1</td>\n",
       "      <td>0</td>\n",
       "      <td>2</td>\n",
       "      <td>7.2500</td>\n",
       "      <td>8</td>\n",
       "      <td>2</td>\n",
       "      <td>2</td>\n",
       "      <td>2</td>\n",
       "      <td>0</td>\n",
       "      <td>2</td>\n",
       "    </tr>\n",
       "    <tr>\n",
       "      <th>1</th>\n",
       "      <td>1</td>\n",
       "      <td>0</td>\n",
       "      <td>38.0</td>\n",
       "      <td>1</td>\n",
       "      <td>0</td>\n",
       "      <td>15</td>\n",
       "      <td>71.2833</td>\n",
       "      <td>2</td>\n",
       "      <td>0</td>\n",
       "      <td>3</td>\n",
       "      <td>3</td>\n",
       "      <td>0</td>\n",
       "      <td>2</td>\n",
       "    </tr>\n",
       "    <tr>\n",
       "      <th>2</th>\n",
       "      <td>3</td>\n",
       "      <td>0</td>\n",
       "      <td>26.0</td>\n",
       "      <td>0</td>\n",
       "      <td>0</td>\n",
       "      <td>32</td>\n",
       "      <td>7.9250</td>\n",
       "      <td>8</td>\n",
       "      <td>2</td>\n",
       "      <td>1</td>\n",
       "      <td>2</td>\n",
       "      <td>0</td>\n",
       "      <td>1</td>\n",
       "    </tr>\n",
       "    <tr>\n",
       "      <th>3</th>\n",
       "      <td>1</td>\n",
       "      <td>0</td>\n",
       "      <td>35.0</td>\n",
       "      <td>1</td>\n",
       "      <td>0</td>\n",
       "      <td>14</td>\n",
       "      <td>53.1000</td>\n",
       "      <td>2</td>\n",
       "      <td>2</td>\n",
       "      <td>3</td>\n",
       "      <td>3</td>\n",
       "      <td>0</td>\n",
       "      <td>2</td>\n",
       "    </tr>\n",
       "    <tr>\n",
       "      <th>4</th>\n",
       "      <td>3</td>\n",
       "      <td>1</td>\n",
       "      <td>35.0</td>\n",
       "      <td>0</td>\n",
       "      <td>0</td>\n",
       "      <td>14</td>\n",
       "      <td>8.0500</td>\n",
       "      <td>8</td>\n",
       "      <td>2</td>\n",
       "      <td>2</td>\n",
       "      <td>3</td>\n",
       "      <td>0</td>\n",
       "      <td>1</td>\n",
       "    </tr>\n",
       "  </tbody>\n",
       "</table>\n",
       "</div>"
      ],
      "text/plain": [
       "   Pclass  Sex   Age  SibSp  Parch  Ticket     Fare  Cabin  Embarked  Title  \\\n",
       "0       3    1  22.0      1      0       2   7.2500      8         2      2   \n",
       "1       1    0  38.0      1      0      15  71.2833      2         0      3   \n",
       "2       3    0  26.0      0      0      32   7.9250      8         2      1   \n",
       "3       1    0  35.0      1      0      14  53.1000      2         2      3   \n",
       "4       3    1  35.0      0      0      14   8.0500      8         2      2   \n",
       "\n",
       "   AgeGroup  IsChild  FamilySize  \n",
       "0         2        0           2  \n",
       "1         3        0           2  \n",
       "2         2        0           1  \n",
       "3         3        0           2  \n",
       "4         3        0           1  "
      ]
     },
     "execution_count": 66,
     "metadata": {},
     "output_type": "execute_result"
    }
   ],
   "source": [
    "combined.head()"
   ]
  },
  {
   "cell_type": "code",
   "execution_count": 67,
   "metadata": {
    "executionInfo": {
     "elapsed": 94,
     "status": "ok",
     "timestamp": 1652543132899,
     "user": {
      "displayName": "Bartłomiej Szwaja",
      "userId": "05031139790190467787"
     },
     "user_tz": -120
    },
    "id": "zGv9yF_SXdPd"
   },
   "outputs": [],
   "source": [
    "combined['FamilySize'] = combined['FamilySize'].map(lambda s: 'Singleton' if s == 1 else\n",
    "                                                   ('SmallFamily' if s <= 4 else 'LargeFamily'))"
   ]
  },
  {
   "cell_type": "code",
   "execution_count": 68,
   "metadata": {
    "colab": {
     "base_uri": "https://localhost:8080/",
     "height": 206
    },
    "executionInfo": {
     "elapsed": 94,
     "status": "ok",
     "timestamp": 1652543132899,
     "user": {
      "displayName": "Bartłomiej Szwaja",
      "userId": "05031139790190467787"
     },
     "user_tz": -120
    },
    "id": "8DuCmxpgXdPd",
    "outputId": "b63deb5b-cb3c-4642-a6a2-2b06d5ca5b89"
   },
   "outputs": [
    {
     "data": {
      "text/html": [
       "<div>\n",
       "<style scoped>\n",
       "    .dataframe tbody tr th:only-of-type {\n",
       "        vertical-align: middle;\n",
       "    }\n",
       "\n",
       "    .dataframe tbody tr th {\n",
       "        vertical-align: top;\n",
       "    }\n",
       "\n",
       "    .dataframe thead th {\n",
       "        text-align: right;\n",
       "    }\n",
       "</style>\n",
       "<table border=\"1\" class=\"dataframe\">\n",
       "  <thead>\n",
       "    <tr style=\"text-align: right;\">\n",
       "      <th></th>\n",
       "      <th>Pclass</th>\n",
       "      <th>Sex</th>\n",
       "      <th>Age</th>\n",
       "      <th>SibSp</th>\n",
       "      <th>Parch</th>\n",
       "      <th>Ticket</th>\n",
       "      <th>Fare</th>\n",
       "      <th>Cabin</th>\n",
       "      <th>Embarked</th>\n",
       "      <th>Title</th>\n",
       "      <th>AgeGroup</th>\n",
       "      <th>IsChild</th>\n",
       "      <th>FamilySize</th>\n",
       "    </tr>\n",
       "  </thead>\n",
       "  <tbody>\n",
       "    <tr>\n",
       "      <th>0</th>\n",
       "      <td>3</td>\n",
       "      <td>1</td>\n",
       "      <td>22.0</td>\n",
       "      <td>1</td>\n",
       "      <td>0</td>\n",
       "      <td>2</td>\n",
       "      <td>7.2500</td>\n",
       "      <td>8</td>\n",
       "      <td>2</td>\n",
       "      <td>2</td>\n",
       "      <td>2</td>\n",
       "      <td>0</td>\n",
       "      <td>SmallFamily</td>\n",
       "    </tr>\n",
       "    <tr>\n",
       "      <th>1</th>\n",
       "      <td>1</td>\n",
       "      <td>0</td>\n",
       "      <td>38.0</td>\n",
       "      <td>1</td>\n",
       "      <td>0</td>\n",
       "      <td>15</td>\n",
       "      <td>71.2833</td>\n",
       "      <td>2</td>\n",
       "      <td>0</td>\n",
       "      <td>3</td>\n",
       "      <td>3</td>\n",
       "      <td>0</td>\n",
       "      <td>SmallFamily</td>\n",
       "    </tr>\n",
       "    <tr>\n",
       "      <th>2</th>\n",
       "      <td>3</td>\n",
       "      <td>0</td>\n",
       "      <td>26.0</td>\n",
       "      <td>0</td>\n",
       "      <td>0</td>\n",
       "      <td>32</td>\n",
       "      <td>7.9250</td>\n",
       "      <td>8</td>\n",
       "      <td>2</td>\n",
       "      <td>1</td>\n",
       "      <td>2</td>\n",
       "      <td>0</td>\n",
       "      <td>Singleton</td>\n",
       "    </tr>\n",
       "    <tr>\n",
       "      <th>3</th>\n",
       "      <td>1</td>\n",
       "      <td>0</td>\n",
       "      <td>35.0</td>\n",
       "      <td>1</td>\n",
       "      <td>0</td>\n",
       "      <td>14</td>\n",
       "      <td>53.1000</td>\n",
       "      <td>2</td>\n",
       "      <td>2</td>\n",
       "      <td>3</td>\n",
       "      <td>3</td>\n",
       "      <td>0</td>\n",
       "      <td>SmallFamily</td>\n",
       "    </tr>\n",
       "    <tr>\n",
       "      <th>4</th>\n",
       "      <td>3</td>\n",
       "      <td>1</td>\n",
       "      <td>35.0</td>\n",
       "      <td>0</td>\n",
       "      <td>0</td>\n",
       "      <td>14</td>\n",
       "      <td>8.0500</td>\n",
       "      <td>8</td>\n",
       "      <td>2</td>\n",
       "      <td>2</td>\n",
       "      <td>3</td>\n",
       "      <td>0</td>\n",
       "      <td>Singleton</td>\n",
       "    </tr>\n",
       "  </tbody>\n",
       "</table>\n",
       "</div>"
      ],
      "text/plain": [
       "   Pclass  Sex   Age  SibSp  Parch  Ticket     Fare  Cabin  Embarked  Title  \\\n",
       "0       3    1  22.0      1      0       2   7.2500      8         2      2   \n",
       "1       1    0  38.0      1      0      15  71.2833      2         0      3   \n",
       "2       3    0  26.0      0      0      32   7.9250      8         2      1   \n",
       "3       1    0  35.0      1      0      14  53.1000      2         2      3   \n",
       "4       3    1  35.0      0      0      14   8.0500      8         2      2   \n",
       "\n",
       "   AgeGroup  IsChild   FamilySize  \n",
       "0         2        0  SmallFamily  \n",
       "1         3        0  SmallFamily  \n",
       "2         2        0    Singleton  \n",
       "3         3        0  SmallFamily  \n",
       "4         3        0    Singleton  "
      ]
     },
     "execution_count": 68,
     "metadata": {},
     "output_type": "execute_result"
    }
   ],
   "source": [
    "combined.head()"
   ]
  },
  {
   "cell_type": "markdown",
   "metadata": {
    "id": "sYH25k0gXdPd"
   },
   "source": [
    "*Robimy kodowanie*"
   ]
  },
  {
   "cell_type": "code",
   "execution_count": 69,
   "metadata": {
    "colab": {
     "base_uri": "https://localhost:8080/"
    },
    "executionInfo": {
     "elapsed": 94,
     "status": "ok",
     "timestamp": 1652543132900,
     "user": {
      "displayName": "Bartłomiej Szwaja",
      "userId": "05031139790190467787"
     },
     "user_tz": -120
    },
    "id": "pSYoXq5IXdPd",
    "outputId": "2397074c-fae7-4ce9-e988-7658da38668a"
   },
   "outputs": [
    {
     "data": {
      "text/plain": [
       "LabelEncoder()"
      ]
     },
     "execution_count": 69,
     "metadata": {},
     "output_type": "execute_result"
    }
   ],
   "source": [
    "le = preprocessing.LabelEncoder()\n",
    "le.fit(combined['FamilySize'])"
   ]
  },
  {
   "cell_type": "code",
   "execution_count": 70,
   "metadata": {
    "executionInfo": {
     "elapsed": 92,
     "status": "ok",
     "timestamp": 1652543132901,
     "user": {
      "displayName": "Bartłomiej Szwaja",
      "userId": "05031139790190467787"
     },
     "user_tz": -120
    },
    "id": "RSr7pf1WXdPd"
   },
   "outputs": [],
   "source": [
    "combined['FamilySize'] = le.transform(combined['FamilySize'])"
   ]
  },
  {
   "cell_type": "code",
   "execution_count": 71,
   "metadata": {
    "colab": {
     "base_uri": "https://localhost:8080/",
     "height": 206
    },
    "executionInfo": {
     "elapsed": 92,
     "status": "ok",
     "timestamp": 1652543132901,
     "user": {
      "displayName": "Bartłomiej Szwaja",
      "userId": "05031139790190467787"
     },
     "user_tz": -120
    },
    "id": "RD_vxnmEXdPe",
    "outputId": "54b3b808-80e8-43f0-930e-b9d4499750d0"
   },
   "outputs": [
    {
     "data": {
      "text/html": [
       "<div>\n",
       "<style scoped>\n",
       "    .dataframe tbody tr th:only-of-type {\n",
       "        vertical-align: middle;\n",
       "    }\n",
       "\n",
       "    .dataframe tbody tr th {\n",
       "        vertical-align: top;\n",
       "    }\n",
       "\n",
       "    .dataframe thead th {\n",
       "        text-align: right;\n",
       "    }\n",
       "</style>\n",
       "<table border=\"1\" class=\"dataframe\">\n",
       "  <thead>\n",
       "    <tr style=\"text-align: right;\">\n",
       "      <th></th>\n",
       "      <th>Pclass</th>\n",
       "      <th>Sex</th>\n",
       "      <th>Age</th>\n",
       "      <th>SibSp</th>\n",
       "      <th>Parch</th>\n",
       "      <th>Ticket</th>\n",
       "      <th>Fare</th>\n",
       "      <th>Cabin</th>\n",
       "      <th>Embarked</th>\n",
       "      <th>Title</th>\n",
       "      <th>AgeGroup</th>\n",
       "      <th>IsChild</th>\n",
       "      <th>FamilySize</th>\n",
       "    </tr>\n",
       "  </thead>\n",
       "  <tbody>\n",
       "    <tr>\n",
       "      <th>0</th>\n",
       "      <td>3</td>\n",
       "      <td>1</td>\n",
       "      <td>22.0</td>\n",
       "      <td>1</td>\n",
       "      <td>0</td>\n",
       "      <td>2</td>\n",
       "      <td>7.2500</td>\n",
       "      <td>8</td>\n",
       "      <td>2</td>\n",
       "      <td>2</td>\n",
       "      <td>2</td>\n",
       "      <td>0</td>\n",
       "      <td>2</td>\n",
       "    </tr>\n",
       "    <tr>\n",
       "      <th>1</th>\n",
       "      <td>1</td>\n",
       "      <td>0</td>\n",
       "      <td>38.0</td>\n",
       "      <td>1</td>\n",
       "      <td>0</td>\n",
       "      <td>15</td>\n",
       "      <td>71.2833</td>\n",
       "      <td>2</td>\n",
       "      <td>0</td>\n",
       "      <td>3</td>\n",
       "      <td>3</td>\n",
       "      <td>0</td>\n",
       "      <td>2</td>\n",
       "    </tr>\n",
       "    <tr>\n",
       "      <th>2</th>\n",
       "      <td>3</td>\n",
       "      <td>0</td>\n",
       "      <td>26.0</td>\n",
       "      <td>0</td>\n",
       "      <td>0</td>\n",
       "      <td>32</td>\n",
       "      <td>7.9250</td>\n",
       "      <td>8</td>\n",
       "      <td>2</td>\n",
       "      <td>1</td>\n",
       "      <td>2</td>\n",
       "      <td>0</td>\n",
       "      <td>1</td>\n",
       "    </tr>\n",
       "    <tr>\n",
       "      <th>3</th>\n",
       "      <td>1</td>\n",
       "      <td>0</td>\n",
       "      <td>35.0</td>\n",
       "      <td>1</td>\n",
       "      <td>0</td>\n",
       "      <td>14</td>\n",
       "      <td>53.1000</td>\n",
       "      <td>2</td>\n",
       "      <td>2</td>\n",
       "      <td>3</td>\n",
       "      <td>3</td>\n",
       "      <td>0</td>\n",
       "      <td>2</td>\n",
       "    </tr>\n",
       "    <tr>\n",
       "      <th>4</th>\n",
       "      <td>3</td>\n",
       "      <td>1</td>\n",
       "      <td>35.0</td>\n",
       "      <td>0</td>\n",
       "      <td>0</td>\n",
       "      <td>14</td>\n",
       "      <td>8.0500</td>\n",
       "      <td>8</td>\n",
       "      <td>2</td>\n",
       "      <td>2</td>\n",
       "      <td>3</td>\n",
       "      <td>0</td>\n",
       "      <td>1</td>\n",
       "    </tr>\n",
       "  </tbody>\n",
       "</table>\n",
       "</div>"
      ],
      "text/plain": [
       "   Pclass  Sex   Age  SibSp  Parch  Ticket     Fare  Cabin  Embarked  Title  \\\n",
       "0       3    1  22.0      1      0       2   7.2500      8         2      2   \n",
       "1       1    0  38.0      1      0      15  71.2833      2         0      3   \n",
       "2       3    0  26.0      0      0      32   7.9250      8         2      1   \n",
       "3       1    0  35.0      1      0      14  53.1000      2         2      3   \n",
       "4       3    1  35.0      0      0      14   8.0500      8         2      2   \n",
       "\n",
       "   AgeGroup  IsChild  FamilySize  \n",
       "0         2        0           2  \n",
       "1         3        0           2  \n",
       "2         2        0           1  \n",
       "3         3        0           2  \n",
       "4         3        0           1  "
      ]
     },
     "execution_count": 71,
     "metadata": {},
     "output_type": "execute_result"
    }
   ],
   "source": [
    "combined.head()"
   ]
  },
  {
   "cell_type": "code",
   "execution_count": 72,
   "metadata": {
    "executionInfo": {
     "elapsed": 92,
     "status": "ok",
     "timestamp": 1652543132902,
     "user": {
      "displayName": "Bartłomiej Szwaja",
      "userId": "05031139790190467787"
     },
     "user_tz": -120
    },
    "id": "LpNU962eXdPe"
   },
   "outputs": [],
   "source": [
    "# combined.drop(\"SibSp\", axis=1, inplace=True)  dalej to usuniemy\n",
    "# combined.drop(\"Parch\", axis=1, inplace=True)"
   ]
  },
  {
   "cell_type": "code",
   "execution_count": 73,
   "metadata": {
    "colab": {
     "base_uri": "https://localhost:8080/",
     "height": 206
    },
    "executionInfo": {
     "elapsed": 21,
     "status": "ok",
     "timestamp": 1652542557875,
     "user": {
      "displayName": "Bartłomiej Szwaja",
      "userId": "05031139790190467787"
     },
     "user_tz": -120
    },
    "id": "sMqwzqiGXdPe",
    "outputId": "847ec0a1-1aeb-4391-c25f-8c71fbb62353"
   },
   "outputs": [
    {
     "data": {
      "text/html": [
       "<div>\n",
       "<style scoped>\n",
       "    .dataframe tbody tr th:only-of-type {\n",
       "        vertical-align: middle;\n",
       "    }\n",
       "\n",
       "    .dataframe tbody tr th {\n",
       "        vertical-align: top;\n",
       "    }\n",
       "\n",
       "    .dataframe thead th {\n",
       "        text-align: right;\n",
       "    }\n",
       "</style>\n",
       "<table border=\"1\" class=\"dataframe\">\n",
       "  <thead>\n",
       "    <tr style=\"text-align: right;\">\n",
       "      <th></th>\n",
       "      <th>Pclass</th>\n",
       "      <th>Sex</th>\n",
       "      <th>Age</th>\n",
       "      <th>SibSp</th>\n",
       "      <th>Parch</th>\n",
       "      <th>Ticket</th>\n",
       "      <th>Fare</th>\n",
       "      <th>Cabin</th>\n",
       "      <th>Embarked</th>\n",
       "      <th>Title</th>\n",
       "      <th>AgeGroup</th>\n",
       "      <th>IsChild</th>\n",
       "      <th>FamilySize</th>\n",
       "    </tr>\n",
       "  </thead>\n",
       "  <tbody>\n",
       "    <tr>\n",
       "      <th>0</th>\n",
       "      <td>3</td>\n",
       "      <td>1</td>\n",
       "      <td>22.0</td>\n",
       "      <td>1</td>\n",
       "      <td>0</td>\n",
       "      <td>2</td>\n",
       "      <td>7.2500</td>\n",
       "      <td>8</td>\n",
       "      <td>2</td>\n",
       "      <td>2</td>\n",
       "      <td>2</td>\n",
       "      <td>0</td>\n",
       "      <td>2</td>\n",
       "    </tr>\n",
       "    <tr>\n",
       "      <th>1</th>\n",
       "      <td>1</td>\n",
       "      <td>0</td>\n",
       "      <td>38.0</td>\n",
       "      <td>1</td>\n",
       "      <td>0</td>\n",
       "      <td>15</td>\n",
       "      <td>71.2833</td>\n",
       "      <td>2</td>\n",
       "      <td>0</td>\n",
       "      <td>3</td>\n",
       "      <td>3</td>\n",
       "      <td>0</td>\n",
       "      <td>2</td>\n",
       "    </tr>\n",
       "    <tr>\n",
       "      <th>2</th>\n",
       "      <td>3</td>\n",
       "      <td>0</td>\n",
       "      <td>26.0</td>\n",
       "      <td>0</td>\n",
       "      <td>0</td>\n",
       "      <td>32</td>\n",
       "      <td>7.9250</td>\n",
       "      <td>8</td>\n",
       "      <td>2</td>\n",
       "      <td>1</td>\n",
       "      <td>2</td>\n",
       "      <td>0</td>\n",
       "      <td>1</td>\n",
       "    </tr>\n",
       "    <tr>\n",
       "      <th>3</th>\n",
       "      <td>1</td>\n",
       "      <td>0</td>\n",
       "      <td>35.0</td>\n",
       "      <td>1</td>\n",
       "      <td>0</td>\n",
       "      <td>14</td>\n",
       "      <td>53.1000</td>\n",
       "      <td>2</td>\n",
       "      <td>2</td>\n",
       "      <td>3</td>\n",
       "      <td>3</td>\n",
       "      <td>0</td>\n",
       "      <td>2</td>\n",
       "    </tr>\n",
       "    <tr>\n",
       "      <th>4</th>\n",
       "      <td>3</td>\n",
       "      <td>1</td>\n",
       "      <td>35.0</td>\n",
       "      <td>0</td>\n",
       "      <td>0</td>\n",
       "      <td>14</td>\n",
       "      <td>8.0500</td>\n",
       "      <td>8</td>\n",
       "      <td>2</td>\n",
       "      <td>2</td>\n",
       "      <td>3</td>\n",
       "      <td>0</td>\n",
       "      <td>1</td>\n",
       "    </tr>\n",
       "  </tbody>\n",
       "</table>\n",
       "</div>"
      ],
      "text/plain": [
       "   Pclass  Sex   Age  SibSp  Parch  Ticket     Fare  Cabin  Embarked  Title  \\\n",
       "0       3    1  22.0      1      0       2   7.2500      8         2      2   \n",
       "1       1    0  38.0      1      0      15  71.2833      2         0      3   \n",
       "2       3    0  26.0      0      0      32   7.9250      8         2      1   \n",
       "3       1    0  35.0      1      0      14  53.1000      2         2      3   \n",
       "4       3    1  35.0      0      0      14   8.0500      8         2      2   \n",
       "\n",
       "   AgeGroup  IsChild  FamilySize  \n",
       "0         2        0           2  \n",
       "1         3        0           2  \n",
       "2         2        0           1  \n",
       "3         3        0           2  \n",
       "4         3        0           1  "
      ]
     },
     "execution_count": 73,
     "metadata": {},
     "output_type": "execute_result"
    }
   ],
   "source": [
    "combined.head()"
   ]
  },
  {
   "cell_type": "markdown",
   "metadata": {},
   "source": [
    "# Processing Fare"
   ]
  },
  {
   "cell_type": "code",
   "execution_count": 74,
   "metadata": {},
   "outputs": [],
   "source": [
    "def convertFare(fare):\n",
    "    if fare <= 8.05:\n",
    "        return 0\n",
    "    elif fare <= 14.25:\n",
    "        return 1\n",
    "    elif fare <= 60.2875:\n",
    "        return 2\n",
    "    else:\n",
    "        return 3\n",
    "\n",
    "\n",
    "combined['FareGroup'] = combined['Fare'].map(lambda fare: convertFare(fare))"
   ]
  },
  {
   "cell_type": "code",
   "execution_count": 75,
   "metadata": {},
   "outputs": [
    {
     "data": {
      "text/html": [
       "<div>\n",
       "<style scoped>\n",
       "    .dataframe tbody tr th:only-of-type {\n",
       "        vertical-align: middle;\n",
       "    }\n",
       "\n",
       "    .dataframe tbody tr th {\n",
       "        vertical-align: top;\n",
       "    }\n",
       "\n",
       "    .dataframe thead th {\n",
       "        text-align: right;\n",
       "    }\n",
       "</style>\n",
       "<table border=\"1\" class=\"dataframe\">\n",
       "  <thead>\n",
       "    <tr style=\"text-align: right;\">\n",
       "      <th></th>\n",
       "      <th>Pclass</th>\n",
       "      <th>Sex</th>\n",
       "      <th>Age</th>\n",
       "      <th>SibSp</th>\n",
       "      <th>Parch</th>\n",
       "      <th>Ticket</th>\n",
       "      <th>Fare</th>\n",
       "      <th>Cabin</th>\n",
       "      <th>Embarked</th>\n",
       "      <th>Title</th>\n",
       "      <th>AgeGroup</th>\n",
       "      <th>IsChild</th>\n",
       "      <th>FamilySize</th>\n",
       "      <th>FareGroup</th>\n",
       "    </tr>\n",
       "  </thead>\n",
       "  <tbody>\n",
       "    <tr>\n",
       "      <th>0</th>\n",
       "      <td>3</td>\n",
       "      <td>1</td>\n",
       "      <td>22.0</td>\n",
       "      <td>1</td>\n",
       "      <td>0</td>\n",
       "      <td>2</td>\n",
       "      <td>7.2500</td>\n",
       "      <td>8</td>\n",
       "      <td>2</td>\n",
       "      <td>2</td>\n",
       "      <td>2</td>\n",
       "      <td>0</td>\n",
       "      <td>2</td>\n",
       "      <td>0</td>\n",
       "    </tr>\n",
       "    <tr>\n",
       "      <th>1</th>\n",
       "      <td>1</td>\n",
       "      <td>0</td>\n",
       "      <td>38.0</td>\n",
       "      <td>1</td>\n",
       "      <td>0</td>\n",
       "      <td>15</td>\n",
       "      <td>71.2833</td>\n",
       "      <td>2</td>\n",
       "      <td>0</td>\n",
       "      <td>3</td>\n",
       "      <td>3</td>\n",
       "      <td>0</td>\n",
       "      <td>2</td>\n",
       "      <td>3</td>\n",
       "    </tr>\n",
       "    <tr>\n",
       "      <th>2</th>\n",
       "      <td>3</td>\n",
       "      <td>0</td>\n",
       "      <td>26.0</td>\n",
       "      <td>0</td>\n",
       "      <td>0</td>\n",
       "      <td>32</td>\n",
       "      <td>7.9250</td>\n",
       "      <td>8</td>\n",
       "      <td>2</td>\n",
       "      <td>1</td>\n",
       "      <td>2</td>\n",
       "      <td>0</td>\n",
       "      <td>1</td>\n",
       "      <td>0</td>\n",
       "    </tr>\n",
       "    <tr>\n",
       "      <th>3</th>\n",
       "      <td>1</td>\n",
       "      <td>0</td>\n",
       "      <td>35.0</td>\n",
       "      <td>1</td>\n",
       "      <td>0</td>\n",
       "      <td>14</td>\n",
       "      <td>53.1000</td>\n",
       "      <td>2</td>\n",
       "      <td>2</td>\n",
       "      <td>3</td>\n",
       "      <td>3</td>\n",
       "      <td>0</td>\n",
       "      <td>2</td>\n",
       "      <td>2</td>\n",
       "    </tr>\n",
       "    <tr>\n",
       "      <th>4</th>\n",
       "      <td>3</td>\n",
       "      <td>1</td>\n",
       "      <td>35.0</td>\n",
       "      <td>0</td>\n",
       "      <td>0</td>\n",
       "      <td>14</td>\n",
       "      <td>8.0500</td>\n",
       "      <td>8</td>\n",
       "      <td>2</td>\n",
       "      <td>2</td>\n",
       "      <td>3</td>\n",
       "      <td>0</td>\n",
       "      <td>1</td>\n",
       "      <td>0</td>\n",
       "    </tr>\n",
       "  </tbody>\n",
       "</table>\n",
       "</div>"
      ],
      "text/plain": [
       "   Pclass  Sex   Age  SibSp  Parch  Ticket     Fare  Cabin  Embarked  Title  \\\n",
       "0       3    1  22.0      1      0       2   7.2500      8         2      2   \n",
       "1       1    0  38.0      1      0      15  71.2833      2         0      3   \n",
       "2       3    0  26.0      0      0      32   7.9250      8         2      1   \n",
       "3       1    0  35.0      1      0      14  53.1000      2         2      3   \n",
       "4       3    1  35.0      0      0      14   8.0500      8         2      2   \n",
       "\n",
       "   AgeGroup  IsChild  FamilySize  FareGroup  \n",
       "0         2        0           2          0  \n",
       "1         3        0           2          3  \n",
       "2         2        0           1          0  \n",
       "3         3        0           2          2  \n",
       "4         3        0           1          0  "
      ]
     },
     "execution_count": 75,
     "metadata": {},
     "output_type": "execute_result"
    }
   ],
   "source": [
    "combined.head()"
   ]
  },
  {
   "cell_type": "code",
   "execution_count": null,
   "metadata": {},
   "outputs": [],
   "source": []
  },
  {
   "cell_type": "code",
   "execution_count": null,
   "metadata": {},
   "outputs": [],
   "source": []
  },
  {
   "cell_type": "markdown",
   "metadata": {},
   "source": [
    "# Skalowanie danych"
   ]
  },
  {
   "cell_type": "markdown",
   "metadata": {},
   "source": [
    "Dzięki skalowaniu uzyskujemy lepszy wynik"
   ]
  },
  {
   "cell_type": "code",
   "execution_count": 76,
   "metadata": {
    "executionInfo": {
     "elapsed": 335,
     "status": "ok",
     "timestamp": 1652543387233,
     "user": {
      "displayName": "Bartłomiej Szwaja",
      "userId": "05031139790190467787"
     },
     "user_tz": -120
    },
    "id": "uS0tHfYyQiQr"
   },
   "outputs": [],
   "source": [
    "from sklearn.preprocessing import StandardScaler\n",
    "combined['Pclass'] = StandardScaler().fit_transform(combined['Pclass'].values.reshape(-1, 1))"
   ]
  },
  {
   "cell_type": "code",
   "execution_count": 77,
   "metadata": {
    "colab": {
     "base_uri": "https://localhost:8080/",
     "height": 206
    },
    "executionInfo": {
     "elapsed": 251,
     "status": "ok",
     "timestamp": 1652543397577,
     "user": {
      "displayName": "Bartłomiej Szwaja",
      "userId": "05031139790190467787"
     },
     "user_tz": -120
    },
    "id": "a9sVX-ayQv96",
    "outputId": "e521efa7-d597-401f-a434-40d40c606086"
   },
   "outputs": [
    {
     "data": {
      "text/html": [
       "<div>\n",
       "<style scoped>\n",
       "    .dataframe tbody tr th:only-of-type {\n",
       "        vertical-align: middle;\n",
       "    }\n",
       "\n",
       "    .dataframe tbody tr th {\n",
       "        vertical-align: top;\n",
       "    }\n",
       "\n",
       "    .dataframe thead th {\n",
       "        text-align: right;\n",
       "    }\n",
       "</style>\n",
       "<table border=\"1\" class=\"dataframe\">\n",
       "  <thead>\n",
       "    <tr style=\"text-align: right;\">\n",
       "      <th></th>\n",
       "      <th>Pclass</th>\n",
       "      <th>Sex</th>\n",
       "      <th>Age</th>\n",
       "      <th>SibSp</th>\n",
       "      <th>Parch</th>\n",
       "      <th>Ticket</th>\n",
       "      <th>Fare</th>\n",
       "      <th>Cabin</th>\n",
       "      <th>Embarked</th>\n",
       "      <th>Title</th>\n",
       "      <th>AgeGroup</th>\n",
       "      <th>IsChild</th>\n",
       "      <th>FamilySize</th>\n",
       "      <th>FareGroup</th>\n",
       "    </tr>\n",
       "  </thead>\n",
       "  <tbody>\n",
       "    <tr>\n",
       "      <th>0</th>\n",
       "      <td>0.841916</td>\n",
       "      <td>1</td>\n",
       "      <td>22.0</td>\n",
       "      <td>1</td>\n",
       "      <td>0</td>\n",
       "      <td>2</td>\n",
       "      <td>7.2500</td>\n",
       "      <td>8</td>\n",
       "      <td>2</td>\n",
       "      <td>2</td>\n",
       "      <td>2</td>\n",
       "      <td>0</td>\n",
       "      <td>2</td>\n",
       "      <td>0</td>\n",
       "    </tr>\n",
       "    <tr>\n",
       "      <th>1</th>\n",
       "      <td>-1.546098</td>\n",
       "      <td>0</td>\n",
       "      <td>38.0</td>\n",
       "      <td>1</td>\n",
       "      <td>0</td>\n",
       "      <td>15</td>\n",
       "      <td>71.2833</td>\n",
       "      <td>2</td>\n",
       "      <td>0</td>\n",
       "      <td>3</td>\n",
       "      <td>3</td>\n",
       "      <td>0</td>\n",
       "      <td>2</td>\n",
       "      <td>3</td>\n",
       "    </tr>\n",
       "    <tr>\n",
       "      <th>2</th>\n",
       "      <td>0.841916</td>\n",
       "      <td>0</td>\n",
       "      <td>26.0</td>\n",
       "      <td>0</td>\n",
       "      <td>0</td>\n",
       "      <td>32</td>\n",
       "      <td>7.9250</td>\n",
       "      <td>8</td>\n",
       "      <td>2</td>\n",
       "      <td>1</td>\n",
       "      <td>2</td>\n",
       "      <td>0</td>\n",
       "      <td>1</td>\n",
       "      <td>0</td>\n",
       "    </tr>\n",
       "    <tr>\n",
       "      <th>3</th>\n",
       "      <td>-1.546098</td>\n",
       "      <td>0</td>\n",
       "      <td>35.0</td>\n",
       "      <td>1</td>\n",
       "      <td>0</td>\n",
       "      <td>14</td>\n",
       "      <td>53.1000</td>\n",
       "      <td>2</td>\n",
       "      <td>2</td>\n",
       "      <td>3</td>\n",
       "      <td>3</td>\n",
       "      <td>0</td>\n",
       "      <td>2</td>\n",
       "      <td>2</td>\n",
       "    </tr>\n",
       "    <tr>\n",
       "      <th>4</th>\n",
       "      <td>0.841916</td>\n",
       "      <td>1</td>\n",
       "      <td>35.0</td>\n",
       "      <td>0</td>\n",
       "      <td>0</td>\n",
       "      <td>14</td>\n",
       "      <td>8.0500</td>\n",
       "      <td>8</td>\n",
       "      <td>2</td>\n",
       "      <td>2</td>\n",
       "      <td>3</td>\n",
       "      <td>0</td>\n",
       "      <td>1</td>\n",
       "      <td>0</td>\n",
       "    </tr>\n",
       "  </tbody>\n",
       "</table>\n",
       "</div>"
      ],
      "text/plain": [
       "     Pclass  Sex   Age  SibSp  Parch  Ticket     Fare  Cabin  Embarked  Title  \\\n",
       "0  0.841916    1  22.0      1      0       2   7.2500      8         2      2   \n",
       "1 -1.546098    0  38.0      1      0      15  71.2833      2         0      3   \n",
       "2  0.841916    0  26.0      0      0      32   7.9250      8         2      1   \n",
       "3 -1.546098    0  35.0      1      0      14  53.1000      2         2      3   \n",
       "4  0.841916    1  35.0      0      0      14   8.0500      8         2      2   \n",
       "\n",
       "   AgeGroup  IsChild  FamilySize  FareGroup  \n",
       "0         2        0           2          0  \n",
       "1         3        0           2          3  \n",
       "2         2        0           1          0  \n",
       "3         3        0           2          2  \n",
       "4         3        0           1          0  "
      ]
     },
     "execution_count": 77,
     "metadata": {},
     "output_type": "execute_result"
    }
   ],
   "source": [
    "combined.head()"
   ]
  },
  {
   "cell_type": "code",
   "execution_count": 78,
   "metadata": {
    "executionInfo": {
     "elapsed": 261,
     "status": "ok",
     "timestamp": 1652543520882,
     "user": {
      "displayName": "Bartłomiej Szwaja",
      "userId": "05031139790190467787"
     },
     "user_tz": -120
    },
    "id": "1ZesYaiqQwAQ",
    "scrolled": true
   },
   "outputs": [],
   "source": [
    "combined['Ticket'] = StandardScaler().fit_transform(combined['Ticket'].values.reshape(-1, 1))\n",
    "combined['Fare'] = StandardScaler().fit_transform(combined['Fare'].values.reshape(-1, 1))\n",
    "combined['Cabin'] = StandardScaler().fit_transform(combined['Cabin'].values.reshape(-1, 1))\n",
    "combined['Embarked'] = StandardScaler().fit_transform(combined['Embarked'].values.reshape(-1, 1))\n",
    "combined['Title'] = StandardScaler().fit_transform(combined['Title'].values.reshape(-1, 1))\n",
    "combined['FamilySize'] = StandardScaler().fit_transform(combined['FamilySize'].values.reshape(-1, 1))\n",
    "combined['AgeGroup'] = StandardScaler().fit_transform(combined['AgeGroup'].values.reshape(-1, 1))\n",
    "combined['FareGroup'] = StandardScaler().fit_transform(combined['FareGroup'].values.reshape(-1, 1))\n",
    "combined['SibSp'] = StandardScaler().fit_transform(combined['SibSp'].values.reshape(-1, 1))\n",
    "combined['Parch'] = StandardScaler().fit_transform(combined['Parch'].values.reshape(-1, 1))"
   ]
  },
  {
   "cell_type": "code",
   "execution_count": 79,
   "metadata": {
    "colab": {
     "base_uri": "https://localhost:8080/",
     "height": 206
    },
    "executionInfo": {
     "elapsed": 282,
     "status": "ok",
     "timestamp": 1652543527279,
     "user": {
      "displayName": "Bartłomiej Szwaja",
      "userId": "05031139790190467787"
     },
     "user_tz": -120
    },
    "id": "1PYDeltLQwCt",
    "outputId": "e17cb77d-752b-40e1-e8e2-e63b3dc61d0b"
   },
   "outputs": [
    {
     "data": {
      "text/html": [
       "<div>\n",
       "<style scoped>\n",
       "    .dataframe tbody tr th:only-of-type {\n",
       "        vertical-align: middle;\n",
       "    }\n",
       "\n",
       "    .dataframe tbody tr th {\n",
       "        vertical-align: top;\n",
       "    }\n",
       "\n",
       "    .dataframe thead th {\n",
       "        text-align: right;\n",
       "    }\n",
       "</style>\n",
       "<table border=\"1\" class=\"dataframe\">\n",
       "  <thead>\n",
       "    <tr style=\"text-align: right;\">\n",
       "      <th></th>\n",
       "      <th>Pclass</th>\n",
       "      <th>Sex</th>\n",
       "      <th>Age</th>\n",
       "      <th>SibSp</th>\n",
       "      <th>Parch</th>\n",
       "      <th>Ticket</th>\n",
       "      <th>Fare</th>\n",
       "      <th>Cabin</th>\n",
       "      <th>Embarked</th>\n",
       "      <th>Title</th>\n",
       "      <th>AgeGroup</th>\n",
       "      <th>IsChild</th>\n",
       "      <th>FamilySize</th>\n",
       "      <th>FareGroup</th>\n",
       "    </tr>\n",
       "  </thead>\n",
       "  <tbody>\n",
       "    <tr>\n",
       "      <th>0</th>\n",
       "      <td>0.841916</td>\n",
       "      <td>1</td>\n",
       "      <td>22.0</td>\n",
       "      <td>0.481288</td>\n",
       "      <td>-0.445</td>\n",
       "      <td>-2.360169</td>\n",
       "      <td>-0.503579</td>\n",
       "      <td>0.517788</td>\n",
       "      <td>0.622279</td>\n",
       "      <td>0.112936</td>\n",
       "      <td>-0.338008</td>\n",
       "      <td>0</td>\n",
       "      <td>1.282478</td>\n",
       "      <td>-1.240411</td>\n",
       "    </tr>\n",
       "    <tr>\n",
       "      <th>1</th>\n",
       "      <td>-1.546098</td>\n",
       "      <td>0</td>\n",
       "      <td>38.0</td>\n",
       "      <td>0.481288</td>\n",
       "      <td>-0.445</td>\n",
       "      <td>0.092683</td>\n",
       "      <td>0.734519</td>\n",
       "      <td>-1.927616</td>\n",
       "      <td>-1.834926</td>\n",
       "      <td>1.355233</td>\n",
       "      <td>0.375625</td>\n",
       "      <td>0</td>\n",
       "      <td>1.282478</td>\n",
       "      <td>1.563904</td>\n",
       "    </tr>\n",
       "    <tr>\n",
       "      <th>2</th>\n",
       "      <td>0.841916</td>\n",
       "      <td>0</td>\n",
       "      <td>26.0</td>\n",
       "      <td>-0.479087</td>\n",
       "      <td>-0.445</td>\n",
       "      <td>3.300259</td>\n",
       "      <td>-0.490527</td>\n",
       "      <td>0.517788</td>\n",
       "      <td>0.622279</td>\n",
       "      <td>-1.129361</td>\n",
       "      <td>-0.338008</td>\n",
       "      <td>0</td>\n",
       "      <td>-0.477232</td>\n",
       "      <td>-1.240411</td>\n",
       "    </tr>\n",
       "    <tr>\n",
       "      <th>3</th>\n",
       "      <td>-1.546098</td>\n",
       "      <td>0</td>\n",
       "      <td>35.0</td>\n",
       "      <td>0.481288</td>\n",
       "      <td>-0.445</td>\n",
       "      <td>-0.095998</td>\n",
       "      <td>0.382941</td>\n",
       "      <td>-1.927616</td>\n",
       "      <td>0.622279</td>\n",
       "      <td>1.355233</td>\n",
       "      <td>0.375625</td>\n",
       "      <td>0</td>\n",
       "      <td>1.282478</td>\n",
       "      <td>0.629132</td>\n",
       "    </tr>\n",
       "    <tr>\n",
       "      <th>4</th>\n",
       "      <td>0.841916</td>\n",
       "      <td>1</td>\n",
       "      <td>35.0</td>\n",
       "      <td>-0.479087</td>\n",
       "      <td>-0.445</td>\n",
       "      <td>-0.095998</td>\n",
       "      <td>-0.488110</td>\n",
       "      <td>0.517788</td>\n",
       "      <td>0.622279</td>\n",
       "      <td>0.112936</td>\n",
       "      <td>0.375625</td>\n",
       "      <td>0</td>\n",
       "      <td>-0.477232</td>\n",
       "      <td>-1.240411</td>\n",
       "    </tr>\n",
       "  </tbody>\n",
       "</table>\n",
       "</div>"
      ],
      "text/plain": [
       "     Pclass  Sex   Age     SibSp  Parch    Ticket      Fare     Cabin  \\\n",
       "0  0.841916    1  22.0  0.481288 -0.445 -2.360169 -0.503579  0.517788   \n",
       "1 -1.546098    0  38.0  0.481288 -0.445  0.092683  0.734519 -1.927616   \n",
       "2  0.841916    0  26.0 -0.479087 -0.445  3.300259 -0.490527  0.517788   \n",
       "3 -1.546098    0  35.0  0.481288 -0.445 -0.095998  0.382941 -1.927616   \n",
       "4  0.841916    1  35.0 -0.479087 -0.445 -0.095998 -0.488110  0.517788   \n",
       "\n",
       "   Embarked     Title  AgeGroup  IsChild  FamilySize  FareGroup  \n",
       "0  0.622279  0.112936 -0.338008        0    1.282478  -1.240411  \n",
       "1 -1.834926  1.355233  0.375625        0    1.282478   1.563904  \n",
       "2  0.622279 -1.129361 -0.338008        0   -0.477232  -1.240411  \n",
       "3  0.622279  1.355233  0.375625        0    1.282478   0.629132  \n",
       "4  0.622279  0.112936  0.375625        0   -0.477232  -1.240411  "
      ]
     },
     "execution_count": 79,
     "metadata": {},
     "output_type": "execute_result"
    }
   ],
   "source": [
    "combined.head()"
   ]
  },
  {
   "cell_type": "code",
   "execution_count": 80,
   "metadata": {
    "executionInfo": {
     "elapsed": 272,
     "status": "ok",
     "timestamp": 1652543541877,
     "user": {
      "displayName": "Bartłomiej Szwaja",
      "userId": "05031139790190467787"
     },
     "user_tz": -120
    },
    "id": "ffy7o2dMQwFX"
   },
   "outputs": [],
   "source": [
    "combined['Age'] = StandardScaler().fit_transform(combined['Age'].values.reshape(-1, 1))"
   ]
  },
  {
   "cell_type": "code",
   "execution_count": 81,
   "metadata": {
    "colab": {
     "base_uri": "https://localhost:8080/",
     "height": 206
    },
    "executionInfo": {
     "elapsed": 6,
     "status": "ok",
     "timestamp": 1652543545698,
     "user": {
      "displayName": "Bartłomiej Szwaja",
      "userId": "05031139790190467787"
     },
     "user_tz": -120
    },
    "id": "noO0oss2QwHq",
    "outputId": "5b89bf29-7331-48ac-afe0-dc535ad24581"
   },
   "outputs": [
    {
     "data": {
      "text/html": [
       "<div>\n",
       "<style scoped>\n",
       "    .dataframe tbody tr th:only-of-type {\n",
       "        vertical-align: middle;\n",
       "    }\n",
       "\n",
       "    .dataframe tbody tr th {\n",
       "        vertical-align: top;\n",
       "    }\n",
       "\n",
       "    .dataframe thead th {\n",
       "        text-align: right;\n",
       "    }\n",
       "</style>\n",
       "<table border=\"1\" class=\"dataframe\">\n",
       "  <thead>\n",
       "    <tr style=\"text-align: right;\">\n",
       "      <th></th>\n",
       "      <th>Pclass</th>\n",
       "      <th>Sex</th>\n",
       "      <th>Age</th>\n",
       "      <th>SibSp</th>\n",
       "      <th>Parch</th>\n",
       "      <th>Ticket</th>\n",
       "      <th>Fare</th>\n",
       "      <th>Cabin</th>\n",
       "      <th>Embarked</th>\n",
       "      <th>Title</th>\n",
       "      <th>AgeGroup</th>\n",
       "      <th>IsChild</th>\n",
       "      <th>FamilySize</th>\n",
       "      <th>FareGroup</th>\n",
       "    </tr>\n",
       "  </thead>\n",
       "  <tbody>\n",
       "    <tr>\n",
       "      <th>0</th>\n",
       "      <td>0.841916</td>\n",
       "      <td>1</td>\n",
       "      <td>-0.538470</td>\n",
       "      <td>0.481288</td>\n",
       "      <td>-0.445</td>\n",
       "      <td>-2.360169</td>\n",
       "      <td>-0.503579</td>\n",
       "      <td>0.517788</td>\n",
       "      <td>0.622279</td>\n",
       "      <td>0.112936</td>\n",
       "      <td>-0.338008</td>\n",
       "      <td>0</td>\n",
       "      <td>1.282478</td>\n",
       "      <td>-1.240411</td>\n",
       "    </tr>\n",
       "    <tr>\n",
       "      <th>1</th>\n",
       "      <td>-1.546098</td>\n",
       "      <td>0</td>\n",
       "      <td>0.655928</td>\n",
       "      <td>0.481288</td>\n",
       "      <td>-0.445</td>\n",
       "      <td>0.092683</td>\n",
       "      <td>0.734519</td>\n",
       "      <td>-1.927616</td>\n",
       "      <td>-1.834926</td>\n",
       "      <td>1.355233</td>\n",
       "      <td>0.375625</td>\n",
       "      <td>0</td>\n",
       "      <td>1.282478</td>\n",
       "      <td>1.563904</td>\n",
       "    </tr>\n",
       "    <tr>\n",
       "      <th>2</th>\n",
       "      <td>0.841916</td>\n",
       "      <td>0</td>\n",
       "      <td>-0.239870</td>\n",
       "      <td>-0.479087</td>\n",
       "      <td>-0.445</td>\n",
       "      <td>3.300259</td>\n",
       "      <td>-0.490527</td>\n",
       "      <td>0.517788</td>\n",
       "      <td>0.622279</td>\n",
       "      <td>-1.129361</td>\n",
       "      <td>-0.338008</td>\n",
       "      <td>0</td>\n",
       "      <td>-0.477232</td>\n",
       "      <td>-1.240411</td>\n",
       "    </tr>\n",
       "    <tr>\n",
       "      <th>3</th>\n",
       "      <td>-1.546098</td>\n",
       "      <td>0</td>\n",
       "      <td>0.431979</td>\n",
       "      <td>0.481288</td>\n",
       "      <td>-0.445</td>\n",
       "      <td>-0.095998</td>\n",
       "      <td>0.382941</td>\n",
       "      <td>-1.927616</td>\n",
       "      <td>0.622279</td>\n",
       "      <td>1.355233</td>\n",
       "      <td>0.375625</td>\n",
       "      <td>0</td>\n",
       "      <td>1.282478</td>\n",
       "      <td>0.629132</td>\n",
       "    </tr>\n",
       "    <tr>\n",
       "      <th>4</th>\n",
       "      <td>0.841916</td>\n",
       "      <td>1</td>\n",
       "      <td>0.431979</td>\n",
       "      <td>-0.479087</td>\n",
       "      <td>-0.445</td>\n",
       "      <td>-0.095998</td>\n",
       "      <td>-0.488110</td>\n",
       "      <td>0.517788</td>\n",
       "      <td>0.622279</td>\n",
       "      <td>0.112936</td>\n",
       "      <td>0.375625</td>\n",
       "      <td>0</td>\n",
       "      <td>-0.477232</td>\n",
       "      <td>-1.240411</td>\n",
       "    </tr>\n",
       "  </tbody>\n",
       "</table>\n",
       "</div>"
      ],
      "text/plain": [
       "     Pclass  Sex       Age     SibSp  Parch    Ticket      Fare     Cabin  \\\n",
       "0  0.841916    1 -0.538470  0.481288 -0.445 -2.360169 -0.503579  0.517788   \n",
       "1 -1.546098    0  0.655928  0.481288 -0.445  0.092683  0.734519 -1.927616   \n",
       "2  0.841916    0 -0.239870 -0.479087 -0.445  3.300259 -0.490527  0.517788   \n",
       "3 -1.546098    0  0.431979  0.481288 -0.445 -0.095998  0.382941 -1.927616   \n",
       "4  0.841916    1  0.431979 -0.479087 -0.445 -0.095998 -0.488110  0.517788   \n",
       "\n",
       "   Embarked     Title  AgeGroup  IsChild  FamilySize  FareGroup  \n",
       "0  0.622279  0.112936 -0.338008        0    1.282478  -1.240411  \n",
       "1 -1.834926  1.355233  0.375625        0    1.282478   1.563904  \n",
       "2  0.622279 -1.129361 -0.338008        0   -0.477232  -1.240411  \n",
       "3  0.622279  1.355233  0.375625        0    1.282478   0.629132  \n",
       "4  0.622279  0.112936  0.375625        0   -0.477232  -1.240411  "
      ]
     },
     "execution_count": 81,
     "metadata": {},
     "output_type": "execute_result"
    }
   ],
   "source": [
    "combined.head()"
   ]
  },
  {
   "cell_type": "code",
   "execution_count": null,
   "metadata": {},
   "outputs": [],
   "source": []
  },
  {
   "cell_type": "markdown",
   "metadata": {},
   "source": [
    "# Statystyka przed zmianami ewentualnymi"
   ]
  },
  {
   "cell_type": "code",
   "execution_count": 82,
   "metadata": {},
   "outputs": [],
   "source": [
    "def recover_train_test_target():\n",
    "    global combined\n",
    "    \n",
    "    targets = pd.read_csv('train.csv', usecols=['Survived'])['Survived'].values\n",
    "    train = combined.iloc[:891]\n",
    "    test = combined.iloc[891:]\n",
    "    \n",
    "    return train, test, targets\n",
    "\n",
    "train, test, targets = recover_train_test_target()"
   ]
  },
  {
   "cell_type": "code",
   "execution_count": 83,
   "metadata": {},
   "outputs": [],
   "source": [
    "from sklearn.ensemble import RandomForestClassifier\n",
    "clf = RandomForestClassifier(n_estimators=50, max_features='sqrt')\n",
    "clf = clf.fit(train, targets)"
   ]
  },
  {
   "cell_type": "code",
   "execution_count": 84,
   "metadata": {},
   "outputs": [
    {
     "data": {
      "text/plain": [
       "<AxesSubplot:ylabel='feature'>"
      ]
     },
     "execution_count": 84,
     "metadata": {},
     "output_type": "execute_result"
    },
    {
     "data": {
      "image/png": "[encoded data removed]",
      "text/plain": [
       "<Figure size 1800x1800 with 1 Axes>"
      ]
     },
     "metadata": {
      "needs_background": "light"
     },
     "output_type": "display_data"
    }
   ],
   "source": [
    "features = pd.DataFrame()\n",
    "features['feature'] = train.columns\n",
    "features['importance'] = clf.feature_importances_\n",
    "features.sort_values(by=['importance'], ascending=True, inplace=True)\n",
    "features.set_index('feature', inplace=True)\n",
    "\n",
    "features.plot(kind='barh', figsize=(25, 25))"
   ]
  },
  {
   "cell_type": "code",
   "execution_count": null,
   "metadata": {},
   "outputs": [],
   "source": []
  },
  {
   "cell_type": "code",
   "execution_count": null,
   "metadata": {},
   "outputs": [],
   "source": []
  },
  {
   "cell_type": "code",
   "execution_count": null,
   "metadata": {},
   "outputs": [],
   "source": []
  },
  {
   "cell_type": "markdown",
   "metadata": {
    "id": "7xApLaz5QwLY"
   },
   "source": [
    "# Ewentualne zmiany (np. usuwanie kolumn)"
   ]
  },
  {
   "cell_type": "code",
   "execution_count": 85,
   "metadata": {},
   "outputs": [],
   "source": [
    "combined.drop(\"SibSp\", axis=1, inplace=True)\n",
    "combined.drop(\"Parch\", axis=1, inplace=True)"
   ]
  },
  {
   "cell_type": "code",
   "execution_count": 86,
   "metadata": {
    "id": "DXk6ASrKQwOO"
   },
   "outputs": [],
   "source": [
    "# combined.drop(\"Ticket\", axis=1, inplace=True)  # nie zmieniało wyniku\n",
    "# combined.drop(\"AgeGroup\", axis=1, inplace=True)"
   ]
  },
  {
   "cell_type": "code",
   "execution_count": 87,
   "metadata": {},
   "outputs": [],
   "source": [
    "combined.drop(\"IsChild\", axis=1, inplace=True)"
   ]
  },
  {
   "cell_type": "code",
   "execution_count": 88,
   "metadata": {},
   "outputs": [],
   "source": [
    "# combined.drop(\"Age\", axis=1, inplace=True)"
   ]
  },
  {
   "cell_type": "code",
   "execution_count": 89,
   "metadata": {},
   "outputs": [],
   "source": [
    "# combined.drop(\"Fare\", axis=1, inplace=True)"
   ]
  },
  {
   "cell_type": "code",
   "execution_count": 90,
   "metadata": {},
   "outputs": [],
   "source": [
    "combined.drop(\"FareGroup\", axis=1, inplace=True)"
   ]
  },
  {
   "cell_type": "code",
   "execution_count": 91,
   "metadata": {},
   "outputs": [],
   "source": [
    "# combined.drop(\"Embarked\", axis=1, inplace=True)"
   ]
  },
  {
   "cell_type": "code",
   "execution_count": 92,
   "metadata": {},
   "outputs": [
    {
     "data": {
      "text/html": [
       "<div>\n",
       "<style scoped>\n",
       "    .dataframe tbody tr th:only-of-type {\n",
       "        vertical-align: middle;\n",
       "    }\n",
       "\n",
       "    .dataframe tbody tr th {\n",
       "        vertical-align: top;\n",
       "    }\n",
       "\n",
       "    .dataframe thead th {\n",
       "        text-align: right;\n",
       "    }\n",
       "</style>\n",
       "<table border=\"1\" class=\"dataframe\">\n",
       "  <thead>\n",
       "    <tr style=\"text-align: right;\">\n",
       "      <th></th>\n",
       "      <th>Pclass</th>\n",
       "      <th>Sex</th>\n",
       "      <th>Age</th>\n",
       "      <th>Ticket</th>\n",
       "      <th>Fare</th>\n",
       "      <th>Cabin</th>\n",
       "      <th>Embarked</th>\n",
       "      <th>Title</th>\n",
       "      <th>AgeGroup</th>\n",
       "      <th>FamilySize</th>\n",
       "    </tr>\n",
       "  </thead>\n",
       "  <tbody>\n",
       "    <tr>\n",
       "      <th>0</th>\n",
       "      <td>0.841916</td>\n",
       "      <td>1</td>\n",
       "      <td>-0.538470</td>\n",
       "      <td>-2.360169</td>\n",
       "      <td>-0.503579</td>\n",
       "      <td>0.517788</td>\n",
       "      <td>0.622279</td>\n",
       "      <td>0.112936</td>\n",
       "      <td>-0.338008</td>\n",
       "      <td>1.282478</td>\n",
       "    </tr>\n",
       "    <tr>\n",
       "      <th>1</th>\n",
       "      <td>-1.546098</td>\n",
       "      <td>0</td>\n",
       "      <td>0.655928</td>\n",
       "      <td>0.092683</td>\n",
       "      <td>0.734519</td>\n",
       "      <td>-1.927616</td>\n",
       "      <td>-1.834926</td>\n",
       "      <td>1.355233</td>\n",
       "      <td>0.375625</td>\n",
       "      <td>1.282478</td>\n",
       "    </tr>\n",
       "    <tr>\n",
       "      <th>2</th>\n",
       "      <td>0.841916</td>\n",
       "      <td>0</td>\n",
       "      <td>-0.239870</td>\n",
       "      <td>3.300259</td>\n",
       "      <td>-0.490527</td>\n",
       "      <td>0.517788</td>\n",
       "      <td>0.622279</td>\n",
       "      <td>-1.129361</td>\n",
       "      <td>-0.338008</td>\n",
       "      <td>-0.477232</td>\n",
       "    </tr>\n",
       "    <tr>\n",
       "      <th>3</th>\n",
       "      <td>-1.546098</td>\n",
       "      <td>0</td>\n",
       "      <td>0.431979</td>\n",
       "      <td>-0.095998</td>\n",
       "      <td>0.382941</td>\n",
       "      <td>-1.927616</td>\n",
       "      <td>0.622279</td>\n",
       "      <td>1.355233</td>\n",
       "      <td>0.375625</td>\n",
       "      <td>1.282478</td>\n",
       "    </tr>\n",
       "    <tr>\n",
       "      <th>4</th>\n",
       "      <td>0.841916</td>\n",
       "      <td>1</td>\n",
       "      <td>0.431979</td>\n",
       "      <td>-0.095998</td>\n",
       "      <td>-0.488110</td>\n",
       "      <td>0.517788</td>\n",
       "      <td>0.622279</td>\n",
       "      <td>0.112936</td>\n",
       "      <td>0.375625</td>\n",
       "      <td>-0.477232</td>\n",
       "    </tr>\n",
       "  </tbody>\n",
       "</table>\n",
       "</div>"
      ],
      "text/plain": [
       "     Pclass  Sex       Age    Ticket      Fare     Cabin  Embarked     Title  \\\n",
       "0  0.841916    1 -0.538470 -2.360169 -0.503579  0.517788  0.622279  0.112936   \n",
       "1 -1.546098    0  0.655928  0.092683  0.734519 -1.927616 -1.834926  1.355233   \n",
       "2  0.841916    0 -0.239870  3.300259 -0.490527  0.517788  0.622279 -1.129361   \n",
       "3 -1.546098    0  0.431979 -0.095998  0.382941 -1.927616  0.622279  1.355233   \n",
       "4  0.841916    1  0.431979 -0.095998 -0.488110  0.517788  0.622279  0.112936   \n",
       "\n",
       "   AgeGroup  FamilySize  \n",
       "0 -0.338008    1.282478  \n",
       "1  0.375625    1.282478  \n",
       "2 -0.338008   -0.477232  \n",
       "3  0.375625    1.282478  \n",
       "4  0.375625   -0.477232  "
      ]
     },
     "execution_count": 92,
     "metadata": {},
     "output_type": "execute_result"
    }
   ],
   "source": [
    "combined.head()"
   ]
  },
  {
   "cell_type": "markdown",
   "metadata": {},
   "source": [
    "# Statystyka"
   ]
  },
  {
   "cell_type": "code",
   "execution_count": 93,
   "metadata": {},
   "outputs": [],
   "source": [
    "def recover_train_test_target():\n",
    "    global combined\n",
    "    \n",
    "    targets = pd.read_csv('train.csv', usecols=['Survived'])['Survived'].values\n",
    "    train = combined.iloc[:891]\n",
    "    test = combined.iloc[891:]\n",
    "    \n",
    "    return train, test, targets\n",
    "\n",
    "train, test, targets = recover_train_test_target()"
   ]
  },
  {
   "cell_type": "code",
   "execution_count": 94,
   "metadata": {},
   "outputs": [],
   "source": [
    "from sklearn.ensemble import RandomForestClassifier\n",
    "clf = RandomForestClassifier(n_estimators=50, max_features='sqrt')\n",
    "clf = clf.fit(train, targets)"
   ]
  },
  {
   "cell_type": "code",
   "execution_count": 95,
   "metadata": {},
   "outputs": [
    {
     "data": {
      "text/plain": [
       "<AxesSubplot:ylabel='feature'>"
      ]
     },
     "execution_count": 95,
     "metadata": {},
     "output_type": "execute_result"
    },
    {
     "data": {
      "image/png": "[encoded data removed]",
      "text/plain": [
       "<Figure size 1800x1800 with 1 Axes>"
      ]
     },
     "metadata": {
      "needs_background": "light"
     },
     "output_type": "display_data"
    }
   ],
   "source": [
    "features = pd.DataFrame()\n",
    "features['feature'] = train.columns\n",
    "features['importance'] = clf.feature_importances_\n",
    "features.sort_values(by=['importance'], ascending=True, inplace=True)\n",
    "features.set_index('feature', inplace=True)\n",
    "\n",
    "features.plot(kind='barh', figsize=(25, 25))"
   ]
  },
  {
   "cell_type": "code",
   "execution_count": null,
   "metadata": {},
   "outputs": [],
   "source": []
  },
  {
   "cell_type": "code",
   "execution_count": null,
   "metadata": {},
   "outputs": [],
   "source": []
  },
  {
   "cell_type": "code",
   "execution_count": null,
   "metadata": {},
   "outputs": [],
   "source": []
  },
  {
   "cell_type": "code",
   "execution_count": null,
   "metadata": {
    "id": "SEvv7ddTD6KC"
   },
   "outputs": [],
   "source": []
  },
  {
   "cell_type": "markdown",
   "metadata": {
    "id": "MvFAyO6OXdPf"
   },
   "source": [
    "# **Model testowy lokalnie**"
   ]
  },
  {
   "cell_type": "code",
   "execution_count": 96,
   "metadata": {
    "id": "Y76oRnilXdPf"
   },
   "outputs": [],
   "source": [
    "from sklearn.model_selection import train_test_split\n",
    "local_train_x, local_test_x, local_train_y, local_test_y = train_test_split(combined.iloc[:891], train_y, test_size=0.20, random_state=42)"
   ]
  },
  {
   "cell_type": "code",
   "execution_count": 97,
   "metadata": {
    "id": "txcy59H-XdPf"
   },
   "outputs": [],
   "source": [
    "# local_train_x = combined.iloc[:714]\n",
    "# local_train_y = train_y[:714]\n",
    "\n",
    "# local_test_x = combined.iloc[714:891]\n",
    "# local_test_y = train_y[714:891]"
   ]
  },
  {
   "cell_type": "code",
   "execution_count": 98,
   "metadata": {},
   "outputs": [],
   "source": [
    "from sklearn.model_selection import StratifiedKFold\n",
    "from sklearn.pipeline import Pipeline\n",
    "from sklearn.model_selection import GridSearchCV\n",
    "from sklearn.svm import SVC\n",
    "\n",
    "seed=123\n",
    "kfold = StratifiedKFold(n_splits=5)"
   ]
  },
  {
   "cell_type": "code",
   "execution_count": null,
   "metadata": {},
   "outputs": [],
   "source": [
    "pipe = Pipeline([\n",
    "    ('classifier', SVC(kernel='rbf'))])\n",
    "\n",
    "\n",
    "param_grid = {\n",
    "            'classifier__C': [0.001, 0.01, 0.1, 1, 10, 100]\n",
    "}\n",
    "\n",
    "grid_1 = GridSearchCV(pipe, param_grid, cv=kfold, verbose=10)\n",
    "\n",
    "grid_1.fit(local_train_x, local_train_y)\n",
    "grid_1.best_params_"
   ]
  },
  {
   "cell_type": "code",
   "execution_count": 100,
   "metadata": {},
   "outputs": [
    {
     "data": {
      "text/plain": [
       "{'classifier__C': 10}"
      ]
     },
     "execution_count": 100,
     "metadata": {},
     "output_type": "execute_result"
    }
   ],
   "source": [
    "pipe = Pipeline([\n",
    "    ('classifier', SVC(kernel='poly'))])\n",
    "\n",
    "param_grid = {\n",
    "            'classifier__C': [0.001, 0.01, 0.1, 1, 10, 100]\n",
    "}\n",
    "grid_2 = GridSearchCV(pipe, param_grid, cv=kfold)\n",
    "grid_2.fit(local_train_x, local_train_y)\n",
    "grid_2.best_params_"
   ]
  },
  {
   "cell_type": "code",
   "execution_count": null,
   "metadata": {
    "id": "aCyYk89fXdPg",
    "outputId": "af9e5cfc-e771-4d44-edf7-e21140fb6bd9"
   },
   "outputs": [],
   "source": [
    "pipe = Pipeline([\n",
    "    ('classifier', SVC(kernel='linear'))])\n",
    "param_grid = {\n",
    "            'classifier__C': [0.001, 0.01, 0.1, 1, 10]\n",
    "}\n",
    "grid_3 = GridSearchCV(pipe, param_grid, cv=kfold, verbose=10)\n",
    "grid_3.fit(local_train_x, local_train_y)\n",
    "grid_3.best_params_"
   ]
  },
  {
   "cell_type": "code",
   "execution_count": null,
   "metadata": {
    "id": "3a6m3tURXdPg",
    "outputId": "003774d3-a42c-477e-f982-8b63787e0b73"
   },
   "outputs": [],
   "source": [
    "from sklearn.linear_model import LogisticRegression\n",
    "pipe = Pipeline([\n",
    "    ('classifier', LogisticRegression(max_iter=10000))])\n",
    "\n",
    "param_grid = {\n",
    "            # 'classifier__C': [0.001, 0.01, 0.1, 1, 10, 100],\n",
    "            'classifier__C' : np.linspace(0, 1, 100),\n",
    "            'classifier__solver':['newton-cg', 'lbfgs', 'liblinear'],\n",
    "            # 'classifier__solver':['liblinear'],\n",
    "            'classifier__penalty' : ['l1', 'l2']\n",
    "}\n",
    "grid_4 = GridSearchCV(pipe, param_grid, cv=kfold, verbose=10,scoring='accuracy')\n",
    "grid_4.fit(local_train_x, local_train_y)\n",
    "grid_4.best_params_"
   ]
  },
  {
   "cell_type": "code",
   "execution_count": null,
   "metadata": {
    "id": "UbVwP_tuXdPg"
   },
   "outputs": [],
   "source": [
    "import xgboost\n",
    "\n",
    "xgb_cls = xgboost.XGBClassifier(n_estimators=10)\n",
    "\n",
    "pipe = Pipeline([\n",
    "    ('classifier', xgb_cls)])\n",
    "\n",
    "param_grid = {\n",
    "        'classifier__min_child_weight': [1, 5, 10],\n",
    "        'classifier__gamma': [0.5, 1, 1.5, 2, 5],\n",
    "        'classifier__subsample': [0.1, 1, 10],\n",
    "        'classifier__colsample_bytree': [0.6, 0.8, 1.0],\n",
    "        'classifier__max_depth': [1,2, 3],\n",
    "        'classifier__eta':[0.0001, 0.001, 0.01, 0.1],\n",
    "#         'classifier__n_estimators':[1,2,5,10]\n",
    "}\n",
    "grid_5 = GridSearchCV(pipe, param_grid, cv=kfold, verbose=10, scoring='accuracy')\n",
    "grid_5.fit(local_train_x, local_train_y)\n",
    "grid_5.best_params_"
   ]
  },
  {
   "cell_type": "code",
   "execution_count": null,
   "metadata": {},
   "outputs": [],
   "source": [
    "from sklearn.ensemble import RandomForestClassifier\n",
    "forest = RandomForestClassifier()\n",
    "pipe = Pipeline([\n",
    "    ('classifier', forest)])\n",
    "param_grid = {\n",
    "                 'classifier__max_depth' : [4, 6, 8],\n",
    "                 'classifier__n_estimators': [50, 10],\n",
    "                 'classifier__max_features': ['sqrt', 'auto', 'log2'],\n",
    "                 'classifier__min_samples_split': [2, 3, 10],\n",
    "                 'classifier__min_samples_leaf': [1, 3, 10],\n",
    "                 'classifier__bootstrap': [True, False],\n",
    "                 }\n",
    "\n",
    "grid_6 = GridSearchCV(pipe, param_grid, cv=kfold, verbose=10, scoring='accuracy')\n",
    "grid_6.fit(local_train_x, local_train_y)\n",
    "grid_6.best_params_"
   ]
  },
  {
   "cell_type": "code",
   "execution_count": null,
   "metadata": {},
   "outputs": [],
   "source": [
    "from sklearn.tree import DecisionTreeClassifier\n",
    "dec_tree = DecisionTreeClassifier()\n",
    "\n",
    "pipe = Pipeline([\n",
    "    ('classifier', dec_tree)])\n",
    "\n",
    "param_grid = {'classifier__criterion':['gini','entropy', 'log_loss'],\n",
    "              'classifier__splitter':['best', 'random'],\n",
    "              'classifier__max_depth':[1,10,100, 1000, 10000],\n",
    "              'classifier__min_samples_split':[1,2,5,10, 50],\n",
    "              'classifier__max_features':['auto', 'sqrt', 'log2'],\n",
    "              'classifier__min_samples_leaf':[1,2,5,10,100]\n",
    "             }\n",
    "\n",
    "grid_7 = GridSearchCV(pipe, param_grid, cv=kfold, verbose=10, scoring='accuracy')\n",
    "grid_7.fit(local_train_x, local_train_y)\n",
    "grid_7.best_params_"
   ]
  },
  {
   "cell_type": "code",
   "execution_count": null,
   "metadata": {},
   "outputs": [],
   "source": [
    "# https://datascience.stackexchange.com/questions/19768/how-to-implement-pythons-mlpclassifier-with-gridsearchcv\n",
    "from sklearn.neural_network import MLPClassifier\n",
    "mlp = MLPClassifier(alpha=1e-5, max_iter=1000,random_state=1)\n",
    "\n",
    "pipe = Pipeline([\n",
    "    ('classifier', mlp)])\n",
    "\n",
    "param_grid = {'classifier__solver':['lbfgs', 'sgd', 'adam'],\n",
    "              'classifier__activation':['identity', 'logistic', 'tanh', 'relu'],\n",
    "              'classifier__hidden_layer_sizes':[(5,3), (100, 20)],\n",
    "              'classifier__learning_rate':['constant', 'invscaling', 'adaptive'],\n",
    "             }\n",
    "\n",
    "grid_8 = GridSearchCV(pipe, param_grid, cv=kfold, verbose=10, scoring='accuracy')\n",
    "grid_8.fit(local_train_x, local_train_y)\n",
    "grid_8.best_params_"
   ]
  },
  {
   "cell_type": "code",
   "execution_count": null,
   "metadata": {},
   "outputs": [],
   "source": []
  },
  {
   "cell_type": "code",
   "execution_count": null,
   "metadata": {
    "id": "VuwSQmqRXdPg"
   },
   "outputs": [],
   "source": []
  },
  {
   "cell_type": "markdown",
   "metadata": {
    "id": "B0VhwXD1XdPh"
   },
   "source": [
    "# **Wyniki lokalnie**"
   ]
  },
  {
   "cell_type": "code",
   "execution_count": 107,
   "metadata": {
    "id": "7yXEham1XdPh",
    "outputId": "832998cb-eaa2-4240-e931-b01f2be36831"
   },
   "outputs": [
    {
     "name": "stdout",
     "output_type": "stream",
     "text": [
      "SVM rbf\n",
      "precision_score: 0.8235294117647058\n",
      "recall_score: 0.7567567567567568\n",
      "f1_score: 0.7887323943661971\n",
      "accuracy_score: 0.8324022346368715\n",
      "SVM poly\n",
      "precision_score: 0.7671232876712328\n",
      "recall_score: 0.7567567567567568\n",
      "f1_score: 0.761904761904762\n",
      "accuracy_score: 0.8044692737430168\n",
      "SVM linear\n",
      "precision_score: 0.7536231884057971\n",
      "recall_score: 0.7027027027027027\n",
      "f1_score: 0.7272727272727273\n",
      "accuracy_score: 0.7821229050279329\n",
      "Logistic regression\n",
      "precision_score: 0.8059701492537313\n",
      "recall_score: 0.7297297297297297\n",
      "f1_score: 0.7659574468085106\n",
      "accuracy_score: 0.8156424581005587\n",
      "xgboost\n",
      "precision_score: 0.8059701492537313\n",
      "recall_score: 0.7297297297297297\n",
      "f1_score: 0.7659574468085106\n",
      "accuracy_score: 0.8156424581005587\n",
      "Random forest\n",
      "precision_score: 0.835820895522388\n",
      "recall_score: 0.7567567567567568\n",
      "f1_score: 0.7943262411347517\n",
      "accuracy_score: 0.8379888268156425\n",
      "decision tree\n",
      "precision_score: 0.8059701492537313\n",
      "recall_score: 0.7297297297297297\n",
      "f1_score: 0.7659574468085106\n",
      "accuracy_score: 0.8156424581005587\n",
      "MLP\n",
      "precision_score: 0.835820895522388\n",
      "recall_score: 0.7567567567567568\n",
      "f1_score: 0.7943262411347517\n",
      "accuracy_score: 0.8379888268156425\n"
     ]
    }
   ],
   "source": [
    "from sklearn import  metrics\n",
    "\n",
    "\n",
    "models = []\n",
    "models.append(('SVM rbf', grid_1.best_estimator_))\n",
    "models.append(('SVM poly', grid_2.best_estimator_))\n",
    "models.append(('SVM linear', grid_3.best_estimator_))\n",
    "models.append(('Logistic regression', grid_4.best_estimator_))\n",
    "models.append(('xgboost', grid_5.best_estimator_))\n",
    "models.append(('Random forest', grid_6))\n",
    "models.append(('decision tree', grid_7))\n",
    "models.append(('MLP', grid_8))\n",
    "\n",
    "\n",
    "\n",
    "\n",
    "\n",
    "precision_score = []\n",
    "recall_score = []\n",
    "f1_score = []\n",
    "accuracy_score = []\n",
    "for name, model in models:\n",
    "    print(name)\n",
    "    print(\"precision_score: {}\".format(metrics.precision_score(local_test_y, model.predict(local_test_x)) ))\n",
    "    print(\"recall_score: {}\".format( metrics.recall_score(local_test_y, model.predict(local_test_x)) ))\n",
    "    print(\"f1_score: {}\".format( metrics.f1_score(local_test_y, model.predict(local_test_x)) ))\n",
    "    print(\"accuracy_score: {}\".format( metrics.accuracy_score(local_test_y, model.predict(local_test_x)) ))\n",
    "    precision_score.append(metrics.precision_score(local_test_y, model.predict(local_test_x)))\n",
    "    recall_score.append(metrics.recall_score(local_test_y, model.predict(local_test_x)))\n",
    "    f1_score.append( metrics.f1_score(local_test_y, model.predict(local_test_x)))\n",
    "    accuracy_score.append(metrics.accuracy_score(local_test_y, model.predict(local_test_x)))"
   ]
  },
  {
   "cell_type": "code",
   "execution_count": 108,
   "metadata": {
    "id": "VelwA_5PXdPh",
    "outputId": "382bbae1-3466-4a56-eeb1-e4c42baa319a"
   },
   "outputs": [
    {
     "data": {
      "text/html": [
       "<div>\n",
       "<style scoped>\n",
       "    .dataframe tbody tr th:only-of-type {\n",
       "        vertical-align: middle;\n",
       "    }\n",
       "\n",
       "    .dataframe tbody tr th {\n",
       "        vertical-align: top;\n",
       "    }\n",
       "\n",
       "    .dataframe thead th {\n",
       "        text-align: right;\n",
       "    }\n",
       "</style>\n",
       "<table border=\"1\" class=\"dataframe\">\n",
       "  <thead>\n",
       "    <tr style=\"text-align: right;\">\n",
       "      <th></th>\n",
       "      <th>Method</th>\n",
       "      <th>precision_score</th>\n",
       "      <th>recall_score</th>\n",
       "      <th>f1_score</th>\n",
       "      <th>accuracy_score</th>\n",
       "    </tr>\n",
       "  </thead>\n",
       "  <tbody>\n",
       "    <tr>\n",
       "      <th>0</th>\n",
       "      <td>SVM rbf</td>\n",
       "      <td>0.823529</td>\n",
       "      <td>0.756757</td>\n",
       "      <td>0.788732</td>\n",
       "      <td>0.832402</td>\n",
       "    </tr>\n",
       "    <tr>\n",
       "      <th>1</th>\n",
       "      <td>SVM poly</td>\n",
       "      <td>0.767123</td>\n",
       "      <td>0.756757</td>\n",
       "      <td>0.761905</td>\n",
       "      <td>0.804469</td>\n",
       "    </tr>\n",
       "    <tr>\n",
       "      <th>2</th>\n",
       "      <td>SVM linear</td>\n",
       "      <td>0.753623</td>\n",
       "      <td>0.702703</td>\n",
       "      <td>0.727273</td>\n",
       "      <td>0.782123</td>\n",
       "    </tr>\n",
       "    <tr>\n",
       "      <th>3</th>\n",
       "      <td>Logistic Regression</td>\n",
       "      <td>0.805970</td>\n",
       "      <td>0.729730</td>\n",
       "      <td>0.765957</td>\n",
       "      <td>0.815642</td>\n",
       "    </tr>\n",
       "    <tr>\n",
       "      <th>4</th>\n",
       "      <td>xgboost</td>\n",
       "      <td>0.805970</td>\n",
       "      <td>0.729730</td>\n",
       "      <td>0.765957</td>\n",
       "      <td>0.815642</td>\n",
       "    </tr>\n",
       "    <tr>\n",
       "      <th>5</th>\n",
       "      <td>Random forest</td>\n",
       "      <td>0.835821</td>\n",
       "      <td>0.756757</td>\n",
       "      <td>0.794326</td>\n",
       "      <td>0.837989</td>\n",
       "    </tr>\n",
       "    <tr>\n",
       "      <th>6</th>\n",
       "      <td>decision tree</td>\n",
       "      <td>0.805970</td>\n",
       "      <td>0.729730</td>\n",
       "      <td>0.765957</td>\n",
       "      <td>0.815642</td>\n",
       "    </tr>\n",
       "    <tr>\n",
       "      <th>7</th>\n",
       "      <td>MLP</td>\n",
       "      <td>0.835821</td>\n",
       "      <td>0.756757</td>\n",
       "      <td>0.794326</td>\n",
       "      <td>0.837989</td>\n",
       "    </tr>\n",
       "  </tbody>\n",
       "</table>\n",
       "</div>"
      ],
      "text/plain": [
       "                Method  precision_score  recall_score  f1_score  \\\n",
       "0              SVM rbf         0.823529      0.756757  0.788732   \n",
       "1             SVM poly         0.767123      0.756757  0.761905   \n",
       "2           SVM linear         0.753623      0.702703  0.727273   \n",
       "3  Logistic Regression         0.805970      0.729730  0.765957   \n",
       "4              xgboost         0.805970      0.729730  0.765957   \n",
       "5        Random forest         0.835821      0.756757  0.794326   \n",
       "6        decision tree         0.805970      0.729730  0.765957   \n",
       "7                  MLP         0.835821      0.756757  0.794326   \n",
       "\n",
       "   accuracy_score  \n",
       "0        0.832402  \n",
       "1        0.804469  \n",
       "2        0.782123  \n",
       "3        0.815642  \n",
       "4        0.815642  \n",
       "5        0.837989  \n",
       "6        0.815642  \n",
       "7        0.837989  "
      ]
     },
     "execution_count": 108,
     "metadata": {},
     "output_type": "execute_result"
    }
   ],
   "source": [
    "d = {'precision_score': precision_score, \n",
    "     'recall_score': recall_score, \n",
    "     'f1_score': f1_score,\n",
    "     'accuracy_score' : accuracy_score\n",
    "    }\n",
    "df = pd.DataFrame(data=d)\n",
    "df.insert(loc=0, column='Method', value=['SVM rbf','SVM poly','SVM linear','Logistic Regression', 'xgboost', \n",
    "                                        'Random forest','decision tree', 'MLP' ])\n",
    "df"
   ]
  },
  {
   "cell_type": "code",
   "execution_count": null,
   "metadata": {
    "id": "wJ9Q3uJFXdPh"
   },
   "outputs": [],
   "source": []
  },
  {
   "cell_type": "code",
   "execution_count": null,
   "metadata": {
    "id": "kDETaHFqXdPh"
   },
   "outputs": [],
   "source": []
  },
  {
   "cell_type": "code",
   "execution_count": null,
   "metadata": {
    "id": "qtxfBF7DXdPi"
   },
   "outputs": [],
   "source": []
  },
  {
   "cell_type": "code",
   "execution_count": null,
   "metadata": {
    "id": "MlsX3unEXdPi"
   },
   "outputs": [],
   "source": []
  },
  {
   "cell_type": "code",
   "execution_count": null,
   "metadata": {
    "id": "j2VNWQZGXdPi"
   },
   "outputs": [],
   "source": []
  },
  {
   "cell_type": "markdown",
   "metadata": {
    "id": "AiWQFRaOXdPi"
   },
   "source": [
    "# Przygotowywanie modelu do predykcji na kaggle"
   ]
  },
  {
   "cell_type": "code",
   "execution_count": null,
   "metadata": {
    "executionInfo": {
     "elapsed": 243,
     "status": "ok",
     "timestamp": 1652543136881,
     "user": {
      "displayName": "Bartłomiej Szwaja",
      "userId": "05031139790190467787"
     },
     "user_tz": -120
    },
    "id": "l0HDz3LgXdPi"
   },
   "outputs": [],
   "source": [
    "from sklearn.model_selection import StratifiedKFold\n",
    "from sklearn.pipeline import Pipeline\n",
    "from sklearn.model_selection import GridSearchCV\n",
    "from sklearn.svm import SVC\n",
    "\n",
    "seed=123\n",
    "kfold = StratifiedKFold(n_splits=5)"
   ]
  },
  {
   "cell_type": "code",
   "execution_count": null,
   "metadata": {
    "colab": {
     "base_uri": "https://localhost:8080/"
    },
    "executionInfo": {
     "elapsed": 164394,
     "status": "ok",
     "timestamp": 1652540162066,
     "user": {
      "displayName": "Bartłomiej Szwaja",
      "userId": "05031139790190467787"
     },
     "user_tz": -120
    },
    "id": "GjTj_W28XdPi",
    "outputId": "d83bc68c-a767-4376-b0bb-b66337e43d55"
   },
   "outputs": [],
   "source": [
    "pipe = Pipeline([\n",
    "    ('classifier', SVC(kernel='linear'))])\n",
    "param_grid = {\n",
    "            'classifier__C': [0.001, 0.01, 0.1, 1, 10]\n",
    "}\n",
    "grid_3 = GridSearchCV(pipe, param_grid, cv=kfold, verbose=10, scoring='accuracy')\n",
    "grid_3.fit(combined.iloc[:891], train_y)\n",
    "grid_3.best_params_"
   ]
  },
  {
   "cell_type": "code",
   "execution_count": null,
   "metadata": {
    "colab": {
     "base_uri": "https://localhost:8080/"
    },
    "executionInfo": {
     "elapsed": 19727,
     "status": "ok",
     "timestamp": 1652543586905,
     "user": {
      "displayName": "Bartłomiej Szwaja",
      "userId": "05031139790190467787"
     },
     "user_tz": -120
    },
    "id": "7jh_vDahXdPj",
    "outputId": "252fdfc4-3357-444a-d401-b32da4e6783e"
   },
   "outputs": [],
   "source": [
    "from sklearn.linear_model import LogisticRegression\n",
    "pipe = Pipeline([\n",
    "    ('classifier', LogisticRegression(max_iter=10000))])\n",
    "\n",
    "param_grid = {\n",
    "            # 'classifier__C': [0.001, 0.01, 0.1, 1, 10, 100],\n",
    "            'classifier__C' : np.linspace(0, 1, 100),\n",
    "            'classifier__solver':['newton-cg', 'lbfgs', 'liblinear'],\n",
    "            # 'classifier__solver':['liblinear'],\n",
    "            'classifier__penalty' : ['l1', 'l2']\n",
    "}\n",
    "grid_4 = GridSearchCV(pipe, param_grid, cv=kfold, verbose=10,scoring='accuracy')\n",
    "grid_4.fit(combined.iloc[:891], train_y)\n",
    "# grid_4.fit(train, targets)\n",
    "grid_4.best_params_"
   ]
  },
  {
   "cell_type": "code",
   "execution_count": null,
   "metadata": {
    "id": "shBZPvJwacdL"
   },
   "outputs": [],
   "source": []
  },
  {
   "cell_type": "markdown",
   "metadata": {
    "id": "u0Md0SmSmLgu"
   },
   "source": [
    "random forest"
   ]
  },
  {
   "cell_type": "code",
   "execution_count": null,
   "metadata": {
    "colab": {
     "base_uri": "https://localhost:8080/"
    },
    "executionInfo": {
     "elapsed": 80661,
     "status": "ok",
     "timestamp": 1652542327394,
     "user": {
      "displayName": "Bartłomiej Szwaja",
      "userId": "05031139790190467787"
     },
     "user_tz": -120
    },
    "id": "nJ4-gJvhmKm5",
    "outputId": "8f0c7ca5-8c26-46a3-f846-ee6f06020ee6"
   },
   "outputs": [],
   "source": [
    "from sklearn.ensemble import RandomForestClassifier\n",
    "forest = RandomForestClassifier()\n",
    "pipe = Pipeline([\n",
    "    ('classifier', forest)])\n",
    "param_grid = {\n",
    "                 'classifier__max_depth' : [4, 6, 8],\n",
    "                 'classifier__n_estimators': [50, 10],\n",
    "                 'classifier__max_features': ['sqrt', 'auto', 'log2'],\n",
    "                 'classifier__min_samples_split': [2, 3, 10],\n",
    "                 'classifier__min_samples_leaf': [1, 3, 10],\n",
    "                 'classifier__bootstrap': [True, False],\n",
    "                 }\n",
    "grid_6 = GridSearchCV(pipe, param_grid, cv=kfold, verbose=10, scoring='accuracy')\n",
    "grid_6.fit(train, targets)\n",
    "grid_6.best_params_\n"
   ]
  },
  {
   "cell_type": "code",
   "execution_count": null,
   "metadata": {
    "id": "ODChB-ocmKqD"
   },
   "outputs": [],
   "source": []
  },
  {
   "cell_type": "code",
   "execution_count": null,
   "metadata": {
    "id": "f_iFnFULmKrr"
   },
   "outputs": [],
   "source": []
  },
  {
   "cell_type": "markdown",
   "metadata": {
    "id": "BwaP_d61aehM"
   },
   "source": [
    "xgboost"
   ]
  },
  {
   "cell_type": "code",
   "execution_count": null,
   "metadata": {
    "colab": {
     "base_uri": "https://localhost:8080/"
    },
    "id": "jqH8Lc1xadYG",
    "outputId": "85160d91-66bc-43ad-ae1c-6b3c98d6b704"
   },
   "outputs": [],
   "source": [
    "import xgboost\n",
    "\n",
    "xgb_cls = xgboost.XGBClassifier()\n",
    "\n",
    "pipe = Pipeline([\n",
    "    ('classifier', xgb_cls)])\n",
    "\n",
    "param_grid = {\n",
    "        'classifier__min_child_weight': [1, 5, 10],\n",
    "        'classifier__gamma': [0.5, 1, 1.5, 2, 5],\n",
    "        'classifier__subsample': [0.1, 1, 10],\n",
    "        'classifier__colsample_bytree': [0.6, 0.8, 1.0],\n",
    "        'classifier__max_depth': [1,2, 3],\n",
    "        'classifier__eta':[0.0001, 0.001, 0.01, 0.1],\n",
    "        'classifier__n_estimators':[1,2,5,10]\n",
    "}\n",
    "grid_5 = GridSearchCV(pipe, param_grid, cv=kfold, verbose=10, scoring='accuracy')\n",
    "grid_5.fit(combined.iloc[:891], train_y)\n",
    "grid_5.best_params_"
   ]
  },
  {
   "cell_type": "code",
   "execution_count": null,
   "metadata": {
    "id": "JZEyJal9ada-"
   },
   "outputs": [],
   "source": []
  },
  {
   "cell_type": "markdown",
   "metadata": {
    "id": "ZmoWg4bktKNU"
   },
   "source": [
    "decision tree classifier\n"
   ]
  },
  {
   "cell_type": "code",
   "execution_count": null,
   "metadata": {
    "colab": {
     "base_uri": "https://localhost:8080/"
    },
    "executionInfo": {
     "elapsed": 1201,
     "status": "ok",
     "timestamp": 1652534320768,
     "user": {
      "displayName": "Bartłomiej Szwaja",
      "userId": "05031139790190467787"
     },
     "user_tz": -120
    },
    "id": "tT4W5ph0adek",
    "outputId": "aee870d9-75da-4531-d670-9b1806e22477"
   },
   "outputs": [],
   "source": [
    "from sklearn.tree import DecisionTreeClassifier\n",
    "dec_tree = DecisionTreeClassifier()\n",
    "\n",
    "pipe = Pipeline([\n",
    "    ('classifier', dec_tree)])\n",
    "\n",
    "param_grid = {'classifier__criterion':['gini','entropy', 'log_loss'],\n",
    "              'classifier__splitter':['best', 'random'],\n",
    "              'classifier__max_depth':[1,10,100, 1000, 10000],\n",
    "              'classifier__min_samples_split':[1,2,5,10, 50],\n",
    "              'classifier__max_features':['auto', 'sqrt', 'log2'],\n",
    "              'classifier__min_samples_leaf':[1,2,5,10,100]\n",
    "             }\n",
    "\n",
    "grid_7 = GridSearchCV(pipe, param_grid, cv=kfold, verbose=10, scoring='accuracy')\n",
    "grid_7.fit(combined.iloc[:891], train_y)\n",
    "grid_7.best_params_\n",
    "\n",
    "\n"
   ]
  },
  {
   "cell_type": "markdown",
   "metadata": {
    "id": "i5YshYnBadhj"
   },
   "source": [
    "Multi Layer Perceptron"
   ]
  },
  {
   "cell_type": "code",
   "execution_count": 109,
   "metadata": {
    "id": "rC9ngvq7adk0"
   },
   "outputs": [
    {
     "name": "stdout",
     "output_type": "stream",
     "text": [
      "Fitting 5 folds for each of 1 candidates, totalling 5 fits\n",
      "[CV 1/5; 1/1] START classifier__activation=logistic, classifier__hidden_layer_sizes=(50, 100, 50), classifier__learning_rate=constant, classifier__solver=adam\n",
      "[CV 1/5; 1/1] END classifier__activation=logistic, classifier__hidden_layer_sizes=(50, 100, 50), classifier__learning_rate=constant, classifier__solver=adam; total time=   1.0s\n",
      "[CV 2/5; 1/1] START classifier__activation=logistic, classifier__hidden_layer_sizes=(50, 100, 50), classifier__learning_rate=constant, classifier__solver=adam\n",
      "[CV 2/5; 1/1] END classifier__activation=logistic, classifier__hidden_layer_sizes=(50, 100, 50), classifier__learning_rate=constant, classifier__solver=adam; total time=   5.8s\n",
      "[CV 3/5; 1/1] START classifier__activation=logistic, classifier__hidden_layer_sizes=(50, 100, 50), classifier__learning_rate=constant, classifier__solver=adam\n",
      "[CV 3/5; 1/1] END classifier__activation=logistic, classifier__hidden_layer_sizes=(50, 100, 50), classifier__learning_rate=constant, classifier__solver=adam; total time=   4.1s\n",
      "[CV 4/5; 1/1] START classifier__activation=logistic, classifier__hidden_layer_sizes=(50, 100, 50), classifier__learning_rate=constant, classifier__solver=adam\n",
      "[CV 4/5; 1/1] END classifier__activation=logistic, classifier__hidden_layer_sizes=(50, 100, 50), classifier__learning_rate=constant, classifier__solver=adam; total time=   5.2s\n",
      "[CV 5/5; 1/1] START classifier__activation=logistic, classifier__hidden_layer_sizes=(50, 100, 50), classifier__learning_rate=constant, classifier__solver=adam\n",
      "[CV 5/5; 1/1] END classifier__activation=logistic, classifier__hidden_layer_sizes=(50, 100, 50), classifier__learning_rate=constant, classifier__solver=adam; total time=   2.9s\n"
     ]
    },
    {
     "data": {
      "text/plain": [
       "{'classifier__activation': 'logistic',\n",
       " 'classifier__hidden_layer_sizes': (50, 100, 50),\n",
       " 'classifier__learning_rate': 'constant',\n",
       " 'classifier__solver': 'adam'}"
      ]
     },
     "execution_count": 109,
     "metadata": {},
     "output_type": "execute_result"
    }
   ],
   "source": [
    "from sklearn.neural_network import MLPClassifier\n",
    "mlp = MLPClassifier(alpha=1e-5, max_iter=1000,random_state=1)\n",
    "\n",
    "pipe = Pipeline([\n",
    "    ('classifier', mlp)])\n",
    "\n",
    "# najlepsze parametry jakie udało mi się uzyskać\n",
    "param_grid = {'classifier__solver':['adam'],\n",
    "              'classifier__activation':['logistic'],\n",
    "              'classifier__hidden_layer_sizes':[(50,100, 50)],\n",
    "              'classifier__learning_rate':['constant'],\n",
    "             }\n",
    "\n",
    "grid_8 = GridSearchCV(pipe, param_grid, cv=kfold, verbose=10, scoring='accuracy')\n",
    "grid_8.fit(combined.iloc[:891], train_y)\n",
    "grid_8.best_params_"
   ]
  },
  {
   "cell_type": "code",
   "execution_count": null,
   "metadata": {},
   "outputs": [],
   "source": [
    "pipe = Pipeline([\n",
    "    ('classifier', SVC(kernel='rbf'))])\n",
    "\n",
    "\n",
    "param_grid = {\n",
    "            'classifier__C': [0.001, 0.01, 0.1, 1, 10, 100]\n",
    "}\n",
    "\n",
    "grid_1 = GridSearchCV(pipe, param_grid, cv=kfold, verbose=10)\n",
    "\n",
    "grid_1.fit(combined.iloc[:891], train_y)\n",
    "grid_1.best_params_"
   ]
  },
  {
   "cell_type": "code",
   "execution_count": null,
   "metadata": {},
   "outputs": [],
   "source": [
    "pipe = Pipeline([\n",
    "    ('classifier', SVC(kernel='poly'))])\n",
    "\n",
    "param_grid = {\n",
    "            'classifier__C': [0.001, 0.01, 0.1, 1, 10, 100]\n",
    "}\n",
    "grid_2 = GridSearchCV(pipe, param_grid, cv=kfold)\n",
    "grid_2.fit(combined.iloc[:891], train_y)\n",
    "grid_2.best_params_"
   ]
  },
  {
   "cell_type": "code",
   "execution_count": null,
   "metadata": {},
   "outputs": [],
   "source": []
  },
  {
   "cell_type": "code",
   "execution_count": null,
   "metadata": {},
   "outputs": [],
   "source": []
  },
  {
   "cell_type": "markdown",
   "metadata": {
    "id": "4y4FOoUvXdPk"
   },
   "source": [
    "# Tworzenie pliku na kaggle"
   ]
  },
  {
   "cell_type": "code",
   "execution_count": 110,
   "metadata": {
    "colab": {
     "base_uri": "https://localhost:8080/",
     "height": 424
    },
    "executionInfo": {
     "elapsed": 285,
     "status": "ok",
     "timestamp": 1652543642704,
     "user": {
      "displayName": "Bartłomiej Szwaja",
      "userId": "05031139790190467787"
     },
     "user_tz": -120
    },
    "id": "n-gs9DtpXdPl",
    "outputId": "c6a2b3ae-f0df-48ab-a652-802fbee9540f"
   },
   "outputs": [
    {
     "data": {
      "text/html": [
       "<div>\n",
       "<style scoped>\n",
       "    .dataframe tbody tr th:only-of-type {\n",
       "        vertical-align: middle;\n",
       "    }\n",
       "\n",
       "    .dataframe tbody tr th {\n",
       "        vertical-align: top;\n",
       "    }\n",
       "\n",
       "    .dataframe thead th {\n",
       "        text-align: right;\n",
       "    }\n",
       "</style>\n",
       "<table border=\"1\" class=\"dataframe\">\n",
       "  <thead>\n",
       "    <tr style=\"text-align: right;\">\n",
       "      <th></th>\n",
       "      <th>PassengerId</th>\n",
       "      <th>Survived</th>\n",
       "    </tr>\n",
       "  </thead>\n",
       "  <tbody>\n",
       "    <tr>\n",
       "      <th>0</th>\n",
       "      <td>892</td>\n",
       "      <td>0</td>\n",
       "    </tr>\n",
       "    <tr>\n",
       "      <th>1</th>\n",
       "      <td>893</td>\n",
       "      <td>0</td>\n",
       "    </tr>\n",
       "    <tr>\n",
       "      <th>2</th>\n",
       "      <td>894</td>\n",
       "      <td>0</td>\n",
       "    </tr>\n",
       "    <tr>\n",
       "      <th>3</th>\n",
       "      <td>895</td>\n",
       "      <td>0</td>\n",
       "    </tr>\n",
       "    <tr>\n",
       "      <th>4</th>\n",
       "      <td>896</td>\n",
       "      <td>1</td>\n",
       "    </tr>\n",
       "    <tr>\n",
       "      <th>...</th>\n",
       "      <td>...</td>\n",
       "      <td>...</td>\n",
       "    </tr>\n",
       "    <tr>\n",
       "      <th>413</th>\n",
       "      <td>1305</td>\n",
       "      <td>0</td>\n",
       "    </tr>\n",
       "    <tr>\n",
       "      <th>414</th>\n",
       "      <td>1306</td>\n",
       "      <td>1</td>\n",
       "    </tr>\n",
       "    <tr>\n",
       "      <th>415</th>\n",
       "      <td>1307</td>\n",
       "      <td>0</td>\n",
       "    </tr>\n",
       "    <tr>\n",
       "      <th>416</th>\n",
       "      <td>1308</td>\n",
       "      <td>0</td>\n",
       "    </tr>\n",
       "    <tr>\n",
       "      <th>417</th>\n",
       "      <td>1309</td>\n",
       "      <td>1</td>\n",
       "    </tr>\n",
       "  </tbody>\n",
       "</table>\n",
       "<p>418 rows × 2 columns</p>\n",
       "</div>"
      ],
      "text/plain": [
       "     PassengerId  Survived\n",
       "0            892         0\n",
       "1            893         0\n",
       "2            894         0\n",
       "3            895         0\n",
       "4            896         1\n",
       "..           ...       ...\n",
       "413         1305         0\n",
       "414         1306         1\n",
       "415         1307         0\n",
       "416         1308         0\n",
       "417         1309         1\n",
       "\n",
       "[418 rows x 2 columns]"
      ]
     },
     "execution_count": 110,
     "metadata": {},
     "output_type": "execute_result"
    }
   ],
   "source": [
    "d = {'PassengerId': test_data[\"PassengerId\"], \n",
    "    }\n",
    "df = pd.DataFrame(data=d)\n",
    "df.insert(loc=1, column='Survived', value=grid_8.best_estimator_.predict(combined.iloc[891:]))\n",
    "df"
   ]
  },
  {
   "cell_type": "code",
   "execution_count": null,
   "metadata": {
    "id": "np0_HX8EXdPl"
   },
   "outputs": [],
   "source": []
  },
  {
   "cell_type": "code",
   "execution_count": 111,
   "metadata": {
    "executionInfo": {
     "elapsed": 249,
     "status": "ok",
     "timestamp": 1652543647537,
     "user": {
      "displayName": "Bartłomiej Szwaja",
      "userId": "05031139790190467787"
     },
     "user_tz": -120
    },
    "id": "fSV73SpLXdPl"
   },
   "outputs": [],
   "source": [
    "df.to_csv(\"output.csv\", index=False)"
   ]
  },
  {
   "cell_type": "code",
   "execution_count": null,
   "metadata": {},
   "outputs": [],
   "source": []
  }
 ],
 "metadata": {
  "accelerator": "GPU",
  "colab": {
   "collapsed_sections": [
    "I6KCe2iPXdPN",
    "-i-mQ3S5XdPW",
    "vKKfsZBVXdPY",
    "pe7TvgrYXdPZ",
    "_fScpKRQXdPa",
    "MvFAyO6OXdPf"
   ],
   "name": "Z09_G_titanic_label_encoding.ipynb",
   "provenance": []
  },
  "kernelspec": {
   "display_name": "Python 3",
   "language": "python",
   "name": "python3"
  },
  "language_info": {
   "codemirror_mode": {
    "name": "ipython",
    "version": 3
   },
   "file_extension": ".py",
   "mimetype": "text/x-python",
   "name": "python",
   "nbconvert_exporter": "python",
   "pygments_lexer": "ipython3",
   "version": "3.8.8"
  }
 },
 "nbformat": 4,
 "nbformat_minor": 1
}
